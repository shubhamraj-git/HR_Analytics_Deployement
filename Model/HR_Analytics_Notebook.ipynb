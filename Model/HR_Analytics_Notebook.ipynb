{
 "cells": [
  {
   "cell_type": "markdown",
   "metadata": {
    "id": "uapt3q9D3c7k"
   },
   "source": [
    "## **Shubham Raj**"
   ]
  },
  {
   "cell_type": "markdown",
   "metadata": {
    "id": "cnvOzTKyicMQ"
   },
   "source": [
    "#### Importing Libraries"
   ]
  },
  {
   "cell_type": "code",
   "execution_count": 230,
   "metadata": {
    "colab": {
     "base_uri": "https://localhost:8080/"
    },
    "id": "TRiUiVH_icMT",
    "outputId": "4774d0f7-31ab-4eb8-c259-cb0c978bdf66"
   },
   "outputs": [],
   "source": [
    "import pandas as pd                                         # importing pandas\n",
    "import numpy as np                                          # impoting numpy\n",
    "from sklearn.model_selection import train_test_split        # for splitting the data\n",
    "from sklearn.feature_selection import VarianceThreshold     # for checking constant and quasi constant\n",
    "from numpy import percentile                                # will be used in outlier\n",
    "\n",
    "# for visualization\n",
    "import matplotlib.pyplot as plt         \n",
    "import seaborn as sns             \n",
    "\n",
    "#Scaling\n",
    "from sklearn.preprocessing import MinMaxScaler         # Min Max Scaling\n",
    "\n",
    "#Feature Selection\n",
    "from sklearn.feature_selection import mutual_info_classif,chi2,f_classif\n",
    "from sklearn.feature_selection import SelectKBest                                # filter method\n",
    "import mlxtend\n",
    "from mlxtend.feature_selection import SequentialFeatureSelector                  # wrapper method\n",
    "\n",
    "# For handling imbalance\n",
    "from imblearn.over_sampling import SMOTE                # SMOTE\n",
    "from imblearn.combine import SMOTETomek                 # SMOTETomek\n",
    "from imblearn.combine import SMOTEENN                   # SMOTEENN\n",
    "from imblearn.over_sampling import RandomOverSampler    # RandomOverSampler\n",
    "\n",
    "# For distance based algorithm\n",
    "from sklearn.linear_model import LogisticRegression     # Logistic regression\n",
    "from sklearn.svm import SVC                             # SVC\n",
    "from sklearn.neighbors import KNeighborsClassifier      # KNN Classifier\n",
    "\n",
    "# For tree based algorithm\n",
    "from sklearn.tree import DecisionTreeClassifier         # Decision tree Classifier\n",
    "from sklearn.ensemble import RandomForestClassifier     # Random Forest Classifier\n",
    "from xgboost import XGBClassifier                       # XGB Classifier\n",
    "import lightgbm as ltb                                  # LGBM\n",
    "\n",
    "# Metrics\n",
    "from sklearn.metrics import classification_report, confusion_matrix\n",
    "from sklearn.metrics import roc_auc_score\n",
    "from sklearn.metrics import accuracy_score\n",
    "from sklearn.metrics import f1_score\n",
    "\n",
    "#Cross Validation \n",
    "from sklearn.model_selection import StratifiedKFold\n",
    "\n",
    "# Hyper Parameter Tunning\n",
    "from sklearn.model_selection import GridSearchCV\n",
    "\n",
    "import pickle"
   ]
  },
  {
   "cell_type": "code",
   "execution_count": 231,
   "metadata": {
    "id": "0vVhYn9Q8snd"
   },
   "outputs": [],
   "source": [
    "import warnings   # For ignoring warnings\n",
    "warnings.filterwarnings('ignore')"
   ]
  },
  {
   "cell_type": "markdown",
   "metadata": {
    "id": "5Is5wK-dicMU"
   },
   "source": [
    "#### Importing DataSet"
   ]
  },
  {
   "cell_type": "code",
   "execution_count": 232,
   "metadata": {
    "id": "QD2cZhyzicMU"
   },
   "outputs": [],
   "source": [
    "df = pd.read_csv('Dataset.csv') # importing train file"
   ]
  },
  {
   "cell_type": "code",
   "execution_count": 233,
   "metadata": {
    "colab": {
     "base_uri": "https://localhost:8080/"
    },
    "id": "16ZDkE8BicMV",
    "outputId": "b3594451-1765-4115-cd51-f624f3cee1c9"
   },
   "outputs": [
    {
     "data": {
      "text/html": [
       "<div>\n",
       "<style scoped>\n",
       "    .dataframe tbody tr th:only-of-type {\n",
       "        vertical-align: middle;\n",
       "    }\n",
       "\n",
       "    .dataframe tbody tr th {\n",
       "        vertical-align: top;\n",
       "    }\n",
       "\n",
       "    .dataframe thead th {\n",
       "        text-align: right;\n",
       "    }\n",
       "</style>\n",
       "<table border=\"1\" class=\"dataframe\">\n",
       "  <thead>\n",
       "    <tr style=\"text-align: right;\">\n",
       "      <th></th>\n",
       "      <th>employee_id</th>\n",
       "      <th>department</th>\n",
       "      <th>region</th>\n",
       "      <th>education</th>\n",
       "      <th>gender</th>\n",
       "      <th>recruitment_channel</th>\n",
       "      <th>no_of_trainings</th>\n",
       "      <th>age</th>\n",
       "      <th>previous_year_rating</th>\n",
       "      <th>length_of_service</th>\n",
       "      <th>KPIs_met &gt;80%</th>\n",
       "      <th>awards_won?</th>\n",
       "      <th>avg_training_score</th>\n",
       "      <th>is_promoted</th>\n",
       "    </tr>\n",
       "  </thead>\n",
       "  <tbody>\n",
       "    <tr>\n",
       "      <th>0</th>\n",
       "      <td>65438</td>\n",
       "      <td>Sales &amp; Marketing</td>\n",
       "      <td>region_7</td>\n",
       "      <td>Master's &amp; above</td>\n",
       "      <td>f</td>\n",
       "      <td>sourcing</td>\n",
       "      <td>1</td>\n",
       "      <td>35</td>\n",
       "      <td>5.0</td>\n",
       "      <td>8</td>\n",
       "      <td>1</td>\n",
       "      <td>0</td>\n",
       "      <td>49</td>\n",
       "      <td>0</td>\n",
       "    </tr>\n",
       "    <tr>\n",
       "      <th>1</th>\n",
       "      <td>65141</td>\n",
       "      <td>Operations</td>\n",
       "      <td>region_22</td>\n",
       "      <td>Bachelor's</td>\n",
       "      <td>m</td>\n",
       "      <td>other</td>\n",
       "      <td>1</td>\n",
       "      <td>30</td>\n",
       "      <td>5.0</td>\n",
       "      <td>4</td>\n",
       "      <td>0</td>\n",
       "      <td>0</td>\n",
       "      <td>60</td>\n",
       "      <td>0</td>\n",
       "    </tr>\n",
       "    <tr>\n",
       "      <th>2</th>\n",
       "      <td>7513</td>\n",
       "      <td>Sales &amp; Marketing</td>\n",
       "      <td>region_19</td>\n",
       "      <td>Bachelor's</td>\n",
       "      <td>m</td>\n",
       "      <td>sourcing</td>\n",
       "      <td>1</td>\n",
       "      <td>34</td>\n",
       "      <td>3.0</td>\n",
       "      <td>7</td>\n",
       "      <td>0</td>\n",
       "      <td>0</td>\n",
       "      <td>50</td>\n",
       "      <td>0</td>\n",
       "    </tr>\n",
       "    <tr>\n",
       "      <th>3</th>\n",
       "      <td>2542</td>\n",
       "      <td>Sales &amp; Marketing</td>\n",
       "      <td>region_23</td>\n",
       "      <td>Bachelor's</td>\n",
       "      <td>m</td>\n",
       "      <td>other</td>\n",
       "      <td>2</td>\n",
       "      <td>39</td>\n",
       "      <td>1.0</td>\n",
       "      <td>10</td>\n",
       "      <td>0</td>\n",
       "      <td>0</td>\n",
       "      <td>50</td>\n",
       "      <td>0</td>\n",
       "    </tr>\n",
       "    <tr>\n",
       "      <th>4</th>\n",
       "      <td>48945</td>\n",
       "      <td>Technology</td>\n",
       "      <td>region_26</td>\n",
       "      <td>Bachelor's</td>\n",
       "      <td>m</td>\n",
       "      <td>other</td>\n",
       "      <td>1</td>\n",
       "      <td>45</td>\n",
       "      <td>3.0</td>\n",
       "      <td>2</td>\n",
       "      <td>0</td>\n",
       "      <td>0</td>\n",
       "      <td>73</td>\n",
       "      <td>0</td>\n",
       "    </tr>\n",
       "  </tbody>\n",
       "</table>\n",
       "</div>"
      ],
      "text/plain": [
       "   employee_id         department     region         education gender  \\\n",
       "0        65438  Sales & Marketing   region_7  Master's & above      f   \n",
       "1        65141         Operations  region_22        Bachelor's      m   \n",
       "2         7513  Sales & Marketing  region_19        Bachelor's      m   \n",
       "3         2542  Sales & Marketing  region_23        Bachelor's      m   \n",
       "4        48945         Technology  region_26        Bachelor's      m   \n",
       "\n",
       "  recruitment_channel  no_of_trainings  age  previous_year_rating  \\\n",
       "0            sourcing                1   35                   5.0   \n",
       "1               other                1   30                   5.0   \n",
       "2            sourcing                1   34                   3.0   \n",
       "3               other                2   39                   1.0   \n",
       "4               other                1   45                   3.0   \n",
       "\n",
       "   length_of_service  KPIs_met >80%  awards_won?  avg_training_score  \\\n",
       "0                  8              1            0                  49   \n",
       "1                  4              0            0                  60   \n",
       "2                  7              0            0                  50   \n",
       "3                 10              0            0                  50   \n",
       "4                  2              0            0                  73   \n",
       "\n",
       "   is_promoted  \n",
       "0            0  \n",
       "1            0  \n",
       "2            0  \n",
       "3            0  \n",
       "4            0  "
      ]
     },
     "execution_count": 233,
     "metadata": {},
     "output_type": "execute_result"
    }
   ],
   "source": [
    "df.head() # viewing first 5 rows"
   ]
  },
  {
   "cell_type": "markdown",
   "metadata": {
    "id": "mehygIN7icMW"
   },
   "source": [
    "#### Splitting the data"
   ]
  },
  {
   "cell_type": "markdown",
   "metadata": {
    "id": "csqPoqFJicMW"
   },
   "source": [
    "I am splitting data into 3 parts \n",
    "\n",
    "1. X_train (on which I will be training my model)\n",
    "2. X_validation (on which I will be validating my model, tuning model hyperparameters)\n",
    "3. X_test (on which I will test my model)\n",
    "\n",
    "I am dividing it at starting only so that X_validation and X_test behave like a new data came to me."
   ]
  },
  {
   "cell_type": "code",
   "execution_count": 234,
   "metadata": {
    "colab": {
     "base_uri": "https://localhost:8080/"
    },
    "id": "lfnEwpvLicMW",
    "outputId": "d4f5feec-ac6f-4f26-c78f-4756d66e6d6d"
   },
   "outputs": [
    {
     "name": "stdout",
     "output_type": "stream",
     "text": [
      "X_train Shape: (38365, 14)\n",
      "X_test_temp Shape: (16443, 14)\n"
     ]
    }
   ],
   "source": [
    "X_train, X_test_temp = train_test_split(df,test_size=.30,shuffle=False,random_state=42)\n",
    "print(f\"X_train Shape: {X_train.shape}\")\n",
    "print(f\"X_test_temp Shape: {X_test_temp.shape}\")"
   ]
  },
  {
   "cell_type": "code",
   "execution_count": 235,
   "metadata": {
    "colab": {
     "base_uri": "https://localhost:8080/"
    },
    "id": "m7OvBsbQicMX",
    "outputId": "a09a54d1-c4e9-4870-a802-72936e447cf5"
   },
   "outputs": [
    {
     "name": "stdout",
     "output_type": "stream",
     "text": [
      "X_validation Shape: (8221, 14)\n",
      "X_test Shape: (8222, 14)\n"
     ]
    }
   ],
   "source": [
    "X_validation, X_test = train_test_split(X_test_temp,test_size=.50,shuffle=False,random_state=42)\n",
    "print(f\"X_validation Shape: {X_validation.shape}\")\n",
    "print(f\"X_test Shape: {X_test.shape}\")"
   ]
  },
  {
   "cell_type": "markdown",
   "metadata": {
    "id": "Wpw7kKQjicMX"
   },
   "source": [
    "#### Pre-Processing"
   ]
  },
  {
   "cell_type": "code",
   "execution_count": 236,
   "metadata": {},
   "outputs": [
    {
     "data": {
      "text/plain": [
       "37"
      ]
     },
     "execution_count": 236,
     "metadata": {},
     "output_type": "execute_result"
    }
   ],
   "source": [
    "df.length_of_service.max()"
   ]
  },
  {
   "cell_type": "code",
   "execution_count": 237,
   "metadata": {
    "colab": {
     "base_uri": "https://localhost:8080/"
    },
    "id": "a2MlCTmAicMY",
    "outputId": "6f6e96d2-afb8-4bbf-ec04-a70055c40bf3"
   },
   "outputs": [
    {
     "data": {
      "text/plain": [
       "(38365, 14)"
      ]
     },
     "execution_count": 237,
     "metadata": {},
     "output_type": "execute_result"
    }
   ],
   "source": [
    "#checking the shape of the dataframe\n",
    "X_train.shape"
   ]
  },
  {
   "cell_type": "code",
   "execution_count": 238,
   "metadata": {
    "colab": {
     "base_uri": "https://localhost:8080/"
    },
    "id": "G_DsDRvticMY",
    "outputId": "034e8ec1-a7e2-480f-f5b8-d82b5772e177"
   },
   "outputs": [
    {
     "data": {
      "text/plain": [
       "38365"
      ]
     },
     "execution_count": 238,
     "metadata": {},
     "output_type": "execute_result"
    }
   ],
   "source": [
    "X_train.employee_id.nunique() # checking whether it can be primary key"
   ]
  },
  {
   "cell_type": "markdown",
   "metadata": {
    "id": "wrmg2IZ5icMY"
   },
   "source": [
    "Yes, it have every value unique"
   ]
  },
  {
   "cell_type": "code",
   "execution_count": 239,
   "metadata": {
    "colab": {
     "base_uri": "https://localhost:8080/"
    },
    "id": "DWoGKljdicMZ",
    "outputId": "bef730ab-5f62-4755-e821-b9a67e372b60"
   },
   "outputs": [
    {
     "name": "stdout",
     "output_type": "stream",
     "text": [
      "<class 'pandas.core.frame.DataFrame'>\n",
      "Int64Index: 38365 entries, 0 to 38364\n",
      "Data columns (total 14 columns):\n",
      " #   Column                Non-Null Count  Dtype  \n",
      "---  ------                --------------  -----  \n",
      " 0   employee_id           38365 non-null  int64  \n",
      " 1   department            38365 non-null  object \n",
      " 2   region                38365 non-null  object \n",
      " 3   education             36645 non-null  object \n",
      " 4   gender                38365 non-null  object \n",
      " 5   recruitment_channel   38365 non-null  object \n",
      " 6   no_of_trainings       38365 non-null  int64  \n",
      " 7   age                   38365 non-null  int64  \n",
      " 8   previous_year_rating  35458 non-null  float64\n",
      " 9   length_of_service     38365 non-null  int64  \n",
      " 10  KPIs_met >80%         38365 non-null  int64  \n",
      " 11  awards_won?           38365 non-null  int64  \n",
      " 12  avg_training_score    38365 non-null  int64  \n",
      " 13  is_promoted           38365 non-null  int64  \n",
      "dtypes: float64(1), int64(8), object(5)\n",
      "memory usage: 4.4+ MB\n"
     ]
    }
   ],
   "source": [
    "X_train.info() # Checking datatype of columns"
   ]
  },
  {
   "cell_type": "code",
   "execution_count": 240,
   "metadata": {
    "id": "oiGBZwEpicMZ"
   },
   "outputs": [],
   "source": [
    "col_num = []  # will contain columns that are not string type\n",
    "for x in X_train.columns:\n",
    "    if X_train[x].dtype != 'object':\n",
    "        col_num.append(x)"
   ]
  },
  {
   "cell_type": "code",
   "execution_count": 241,
   "metadata": {
    "colab": {
     "base_uri": "https://localhost:8080/"
    },
    "id": "q-WsIppRicMc",
    "outputId": "7b801436-2d55-4542-cf87-f7db140078e7"
   },
   "outputs": [
    {
     "name": "stdout",
     "output_type": "stream",
     "text": [
      "['employee_id', 'no_of_trainings', 'age', 'previous_year_rating', 'length_of_service', 'KPIs_met >80%', 'awards_won?', 'avg_training_score', 'is_promoted']\n"
     ]
    }
   ],
   "source": [
    "print(col_num) # all columns except string , will be used while finding constants and quasi constants"
   ]
  },
  {
   "cell_type": "code",
   "execution_count": 242,
   "metadata": {
    "colab": {
     "base_uri": "https://localhost:8080/"
    },
    "id": "RhIyY683icMd",
    "outputId": "99ae37a4-b6a0-4472-bfb4-384b320a3599"
   },
   "outputs": [
    {
     "data": {
      "text/html": [
       "<div>\n",
       "<style scoped>\n",
       "    .dataframe tbody tr th:only-of-type {\n",
       "        vertical-align: middle;\n",
       "    }\n",
       "\n",
       "    .dataframe tbody tr th {\n",
       "        vertical-align: top;\n",
       "    }\n",
       "\n",
       "    .dataframe thead th {\n",
       "        text-align: right;\n",
       "    }\n",
       "</style>\n",
       "<table border=\"1\" class=\"dataframe\">\n",
       "  <thead>\n",
       "    <tr style=\"text-align: right;\">\n",
       "      <th></th>\n",
       "      <th>employee_id</th>\n",
       "      <th>no_of_trainings</th>\n",
       "      <th>age</th>\n",
       "      <th>previous_year_rating</th>\n",
       "      <th>length_of_service</th>\n",
       "      <th>KPIs_met &gt;80%</th>\n",
       "      <th>awards_won?</th>\n",
       "      <th>avg_training_score</th>\n",
       "      <th>is_promoted</th>\n",
       "    </tr>\n",
       "  </thead>\n",
       "  <tbody>\n",
       "    <tr>\n",
       "      <th>count</th>\n",
       "      <td>38365.000000</td>\n",
       "      <td>38365.000000</td>\n",
       "      <td>38365.000000</td>\n",
       "      <td>35458.000000</td>\n",
       "      <td>38365.000000</td>\n",
       "      <td>38365.000000</td>\n",
       "      <td>38365.000000</td>\n",
       "      <td>38365.000000</td>\n",
       "      <td>38365.000000</td>\n",
       "    </tr>\n",
       "    <tr>\n",
       "      <th>mean</th>\n",
       "      <td>39216.305695</td>\n",
       "      <td>1.249264</td>\n",
       "      <td>34.789522</td>\n",
       "      <td>3.332675</td>\n",
       "      <td>5.859221</td>\n",
       "      <td>0.353395</td>\n",
       "      <td>0.022912</td>\n",
       "      <td>63.410035</td>\n",
       "      <td>0.084348</td>\n",
       "    </tr>\n",
       "    <tr>\n",
       "      <th>std</th>\n",
       "      <td>22592.667944</td>\n",
       "      <td>0.603816</td>\n",
       "      <td>7.641225</td>\n",
       "      <td>1.260875</td>\n",
       "      <td>4.262368</td>\n",
       "      <td>0.478030</td>\n",
       "      <td>0.149623</td>\n",
       "      <td>13.380040</td>\n",
       "      <td>0.277912</td>\n",
       "    </tr>\n",
       "    <tr>\n",
       "      <th>min</th>\n",
       "      <td>2.000000</td>\n",
       "      <td>1.000000</td>\n",
       "      <td>20.000000</td>\n",
       "      <td>1.000000</td>\n",
       "      <td>1.000000</td>\n",
       "      <td>0.000000</td>\n",
       "      <td>0.000000</td>\n",
       "      <td>39.000000</td>\n",
       "      <td>0.000000</td>\n",
       "    </tr>\n",
       "    <tr>\n",
       "      <th>25%</th>\n",
       "      <td>19705.000000</td>\n",
       "      <td>1.000000</td>\n",
       "      <td>29.000000</td>\n",
       "      <td>3.000000</td>\n",
       "      <td>3.000000</td>\n",
       "      <td>0.000000</td>\n",
       "      <td>0.000000</td>\n",
       "      <td>51.000000</td>\n",
       "      <td>0.000000</td>\n",
       "    </tr>\n",
       "    <tr>\n",
       "      <th>50%</th>\n",
       "      <td>39265.000000</td>\n",
       "      <td>1.000000</td>\n",
       "      <td>33.000000</td>\n",
       "      <td>3.000000</td>\n",
       "      <td>5.000000</td>\n",
       "      <td>0.000000</td>\n",
       "      <td>0.000000</td>\n",
       "      <td>60.000000</td>\n",
       "      <td>0.000000</td>\n",
       "    </tr>\n",
       "    <tr>\n",
       "      <th>75%</th>\n",
       "      <td>58723.000000</td>\n",
       "      <td>1.000000</td>\n",
       "      <td>39.000000</td>\n",
       "      <td>4.000000</td>\n",
       "      <td>7.000000</td>\n",
       "      <td>1.000000</td>\n",
       "      <td>0.000000</td>\n",
       "      <td>76.000000</td>\n",
       "      <td>0.000000</td>\n",
       "    </tr>\n",
       "    <tr>\n",
       "      <th>max</th>\n",
       "      <td>78297.000000</td>\n",
       "      <td>10.000000</td>\n",
       "      <td>60.000000</td>\n",
       "      <td>5.000000</td>\n",
       "      <td>37.000000</td>\n",
       "      <td>1.000000</td>\n",
       "      <td>1.000000</td>\n",
       "      <td>99.000000</td>\n",
       "      <td>1.000000</td>\n",
       "    </tr>\n",
       "  </tbody>\n",
       "</table>\n",
       "</div>"
      ],
      "text/plain": [
       "        employee_id  no_of_trainings           age  previous_year_rating  \\\n",
       "count  38365.000000     38365.000000  38365.000000          35458.000000   \n",
       "mean   39216.305695         1.249264     34.789522              3.332675   \n",
       "std    22592.667944         0.603816      7.641225              1.260875   \n",
       "min        2.000000         1.000000     20.000000              1.000000   \n",
       "25%    19705.000000         1.000000     29.000000              3.000000   \n",
       "50%    39265.000000         1.000000     33.000000              3.000000   \n",
       "75%    58723.000000         1.000000     39.000000              4.000000   \n",
       "max    78297.000000        10.000000     60.000000              5.000000   \n",
       "\n",
       "       length_of_service  KPIs_met >80%   awards_won?  avg_training_score  \\\n",
       "count       38365.000000   38365.000000  38365.000000        38365.000000   \n",
       "mean            5.859221       0.353395      0.022912           63.410035   \n",
       "std             4.262368       0.478030      0.149623           13.380040   \n",
       "min             1.000000       0.000000      0.000000           39.000000   \n",
       "25%             3.000000       0.000000      0.000000           51.000000   \n",
       "50%             5.000000       0.000000      0.000000           60.000000   \n",
       "75%             7.000000       1.000000      0.000000           76.000000   \n",
       "max            37.000000       1.000000      1.000000           99.000000   \n",
       "\n",
       "        is_promoted  \n",
       "count  38365.000000  \n",
       "mean       0.084348  \n",
       "std        0.277912  \n",
       "min        0.000000  \n",
       "25%        0.000000  \n",
       "50%        0.000000  \n",
       "75%        0.000000  \n",
       "max        1.000000  "
      ]
     },
     "execution_count": 242,
     "metadata": {},
     "output_type": "execute_result"
    }
   ],
   "source": [
    "X_train.describe() # Checking statistical data for future references"
   ]
  },
  {
   "cell_type": "markdown",
   "metadata": {
    "id": "ENaijBNbicMd"
   },
   "source": [
    "##### Checking constant column"
   ]
  },
  {
   "cell_type": "code",
   "execution_count": 243,
   "metadata": {
    "colab": {
     "base_uri": "https://localhost:8080/"
    },
    "id": "ockSAr98icMd",
    "outputId": "a7f74bb7-93ca-4d15-9662-f1c1a35596f9"
   },
   "outputs": [
    {
     "data": {
      "text/plain": [
       "VarianceThreshold(threshold=0)"
      ]
     },
     "execution_count": 243,
     "metadata": {},
     "output_type": "execute_result"
    }
   ],
   "source": [
    "const = VarianceThreshold(threshold=0) # 0 variance\n",
    "const.fit(X_train[col_num])"
   ]
  },
  {
   "cell_type": "code",
   "execution_count": 244,
   "metadata": {
    "colab": {
     "base_uri": "https://localhost:8080/"
    },
    "id": "rjO-dT_UicMd",
    "outputId": "43fb7e2f-4b61-4844-d23d-69e793867873"
   },
   "outputs": [
    {
     "name": "stdout",
     "output_type": "stream",
     "text": [
      "No. of constant columns : \n"
     ]
    },
    {
     "data": {
      "text/plain": [
       "0"
      ]
     },
     "execution_count": 244,
     "metadata": {},
     "output_type": "execute_result"
    }
   ],
   "source": [
    "print(\"No. of constant columns : \")\n",
    "len(col_num) - sum(const.get_support()) # get support returns columns which are retained or not constant"
   ]
  },
  {
   "cell_type": "markdown",
   "metadata": {
    "id": "VbEGnrn_icMe"
   },
   "source": [
    "No, Constant columns found !!"
   ]
  },
  {
   "cell_type": "markdown",
   "metadata": {
    "id": "pwMn1U73icMe"
   },
   "source": [
    "##### Checking quasi constant column"
   ]
  },
  {
   "cell_type": "code",
   "execution_count": 245,
   "metadata": {
    "colab": {
     "base_uri": "https://localhost:8080/"
    },
    "id": "36tvRxrmicMe",
    "outputId": "d47d0fea-02a9-4d11-ae3d-ccc68c3d551a"
   },
   "outputs": [
    {
     "data": {
      "text/plain": [
       "VarianceThreshold(threshold=0.01)"
      ]
     },
     "execution_count": 245,
     "metadata": {},
     "output_type": "execute_result"
    }
   ],
   "source": [
    "quasi_const = VarianceThreshold(threshold=0.01) # 1% variance is cut off\n",
    "quasi_const.fit(X_train[col_num])"
   ]
  },
  {
   "cell_type": "code",
   "execution_count": 246,
   "metadata": {
    "colab": {
     "base_uri": "https://localhost:8080/"
    },
    "id": "KbwTsS7iicMe",
    "outputId": "421bc6ab-9e4c-4bad-a67c-227a3ee5fb5d"
   },
   "outputs": [
    {
     "name": "stdout",
     "output_type": "stream",
     "text": [
      "No. of quasi constant columns : \n"
     ]
    },
    {
     "data": {
      "text/plain": [
       "0"
      ]
     },
     "execution_count": 246,
     "metadata": {},
     "output_type": "execute_result"
    }
   ],
   "source": [
    "print(\"No. of quasi constant columns : \")\n",
    "len(col_num) - sum(quasi_const.get_support()) # get support returns columns which are retained or not quasi constant"
   ]
  },
  {
   "cell_type": "markdown",
   "metadata": {
    "id": "EhZaMPHCicMf"
   },
   "source": [
    "No, Quasi Constant columns found !!"
   ]
  },
  {
   "cell_type": "markdown",
   "metadata": {
    "id": "7weGEjZiicMf"
   },
   "source": [
    "##### Checking for duplicate entries"
   ]
  },
  {
   "cell_type": "code",
   "execution_count": 247,
   "metadata": {
    "colab": {
     "base_uri": "https://localhost:8080/"
    },
    "id": "gKaYScWOicMf",
    "outputId": "c2870e5c-f968-443f-dc5b-b24602304655"
   },
   "outputs": [
    {
     "data": {
      "text/plain": [
       "0"
      ]
     },
     "execution_count": 247,
     "metadata": {},
     "output_type": "execute_result"
    }
   ],
   "source": [
    "X_train.duplicated().sum()"
   ]
  },
  {
   "cell_type": "markdown",
   "metadata": {
    "id": "NpH0ksSpicMf"
   },
   "source": [
    "No rows are same, although it was also clear when we found employee_id as primary key."
   ]
  },
  {
   "cell_type": "markdown",
   "metadata": {
    "id": "WTz1h_M7icMf"
   },
   "source": [
    "##### Checking for duplicate columns"
   ]
  },
  {
   "cell_type": "code",
   "execution_count": 248,
   "metadata": {
    "id": "YXbZSh6FicMg"
   },
   "outputs": [],
   "source": [
    "X_train_t = X_train.T # transposing the dataframe"
   ]
  },
  {
   "cell_type": "markdown",
   "metadata": {
    "id": "iYy4LFObicMg"
   },
   "source": [
    "We have a feature duplicated() to check for duplicate columns, so we are making column rows to check it, since\n",
    "we have rows<50K and columns<100, we can perform this task easily"
   ]
  },
  {
   "cell_type": "code",
   "execution_count": 249,
   "metadata": {
    "colab": {
     "base_uri": "https://localhost:8080/"
    },
    "id": "rOtyWqoGicMg",
    "outputId": "179c6ff7-e0d9-49c4-b6e2-74c60192e7ee"
   },
   "outputs": [
    {
     "data": {
      "text/plain": [
       "0"
      ]
     },
     "execution_count": 249,
     "metadata": {},
     "output_type": "execute_result"
    }
   ],
   "source": [
    "X_train_t.duplicated().sum()"
   ]
  },
  {
   "cell_type": "markdown",
   "metadata": {
    "id": "vS36vV1xicMg"
   },
   "source": [
    "No columns (which are row in X_train_T) are same."
   ]
  },
  {
   "cell_type": "markdown",
   "metadata": {
    "id": "22zkmbSFicMg"
   },
   "source": [
    "##### Null Analysis and Imputation"
   ]
  },
  {
   "cell_type": "code",
   "execution_count": 250,
   "metadata": {
    "colab": {
     "base_uri": "https://localhost:8080/"
    },
    "id": "1XpY_QATicMg",
    "outputId": "b02c73c6-9b0f-4363-9290-828a8d77faa6"
   },
   "outputs": [
    {
     "data": {
      "text/plain": [
       "employee_id                0\n",
       "department                 0\n",
       "region                     0\n",
       "education               1720\n",
       "gender                     0\n",
       "recruitment_channel        0\n",
       "no_of_trainings            0\n",
       "age                        0\n",
       "previous_year_rating    2907\n",
       "length_of_service          0\n",
       "KPIs_met >80%              0\n",
       "awards_won?                0\n",
       "avg_training_score         0\n",
       "is_promoted                0\n",
       "dtype: int64"
      ]
     },
     "execution_count": 250,
     "metadata": {},
     "output_type": "execute_result"
    }
   ],
   "source": [
    "#checking how many values are null\n",
    "X_train.isnull().sum()"
   ]
  },
  {
   "cell_type": "markdown",
   "metadata": {
    "id": "a9kgRDcricMh"
   },
   "source": [
    "education and previous_year_rating have null values"
   ]
  },
  {
   "cell_type": "code",
   "execution_count": 251,
   "metadata": {
    "colab": {
     "base_uri": "https://localhost:8080/"
    },
    "id": "qCKMi0JPicMh",
    "outputId": "866e6d00-ea58-4c7d-cb53-3c7841b77c21"
   },
   "outputs": [
    {
     "data": {
      "text/plain": [
       "employee_id             0.000000\n",
       "department              0.000000\n",
       "region                  0.000000\n",
       "education               0.044833\n",
       "gender                  0.000000\n",
       "recruitment_channel     0.000000\n",
       "no_of_trainings         0.000000\n",
       "age                     0.000000\n",
       "previous_year_rating    0.075772\n",
       "length_of_service       0.000000\n",
       "KPIs_met >80%           0.000000\n",
       "awards_won?             0.000000\n",
       "avg_training_score      0.000000\n",
       "is_promoted             0.000000\n",
       "dtype: float64"
      ]
     },
     "execution_count": 251,
     "metadata": {},
     "output_type": "execute_result"
    }
   ],
   "source": [
    "#checking % of data which is null\n",
    "X_train.isnull().mean()"
   ]
  },
  {
   "cell_type": "markdown",
   "metadata": {
    "id": "pvmyNis3icMh"
   },
   "source": [
    "Education column have 4.5% data null\n",
    "\n",
    "Previous year rating have 7.6% data as null, maybe It's there first year or maybe they are intern, lets check it out"
   ]
  },
  {
   "cell_type": "code",
   "execution_count": 252,
   "metadata": {
    "colab": {
     "base_uri": "https://localhost:8080/"
    },
    "id": "UMSSNDUcicMh",
    "outputId": "b1eb2ec4-d093-4b46-80ac-5012d3047aaf"
   },
   "outputs": [
    {
     "data": {
      "text/plain": [
       "array([\"Master's & above\", \"Bachelor's\", nan, 'Below Secondary'],\n",
       "      dtype=object)"
      ]
     },
     "execution_count": 252,
     "metadata": {},
     "output_type": "execute_result"
    }
   ],
   "source": [
    "X_train.education.unique() #displays unique value of education column"
   ]
  },
  {
   "cell_type": "markdown",
   "metadata": {
    "id": "h1fcNVUgicMi"
   },
   "source": [
    "Lets find out is there any relation of this nan values with other features"
   ]
  },
  {
   "cell_type": "code",
   "execution_count": 253,
   "metadata": {
    "colab": {
     "base_uri": "https://localhost:8080/"
    },
    "id": "rN0I84feicMi",
    "outputId": "89cd4229-dde6-4a69-ebca-80fa41c571da"
   },
   "outputs": [
    {
     "data": {
      "text/plain": [
       "Sales & Marketing    1129\n",
       "Analytics             243\n",
       "Operations            155\n",
       "Technology             72\n",
       "Procurement            46\n",
       "Finance                28\n",
       "HR                     24\n",
       "R&D                    20\n",
       "Legal                   3\n",
       "Name: department, dtype: int64"
      ]
     },
     "execution_count": 253,
     "metadata": {},
     "output_type": "execute_result"
    }
   ],
   "source": [
    "X_train[X_train.education.isna()].department.value_counts() # displays education nulls acc. to diff. department"
   ]
  },
  {
   "cell_type": "markdown",
   "metadata": {
    "id": "8kio40c7icMi"
   },
   "source": [
    "Sales and marketing have higher number of nan values in education, it maybe because they don't believe in degree for having a knowledge of sales"
   ]
  },
  {
   "cell_type": "code",
   "execution_count": 254,
   "metadata": {
    "colab": {
     "base_uri": "https://localhost:8080/"
    },
    "id": "_kcbFVxwicMi",
    "outputId": "2a5fb2af-c170-4a7f-fd41-02196465b084"
   },
   "outputs": [
    {
     "data": {
      "text/plain": [
       "region_2     616\n",
       "region_22    221\n",
       "region_7     150\n",
       "region_15    143\n",
       "region_31     75\n",
       "region_26     68\n",
       "region_28     64\n",
       "region_27     59\n",
       "region_32     57\n",
       "region_13     41\n",
       "region_9      34\n",
       "region_16     33\n",
       "region_25     27\n",
       "region_23     21\n",
       "region_14     15\n",
       "region_11     14\n",
       "region_29     13\n",
       "region_6      12\n",
       "region_30      9\n",
       "region_19      9\n",
       "region_1       9\n",
       "region_5       7\n",
       "region_8       5\n",
       "region_21      5\n",
       "region_17      5\n",
       "region_10      4\n",
       "region_3       2\n",
       "region_4       1\n",
       "region_20      1\n",
       "Name: region, dtype: int64"
      ]
     },
     "execution_count": 254,
     "metadata": {},
     "output_type": "execute_result"
    }
   ],
   "source": [
    "X_train[X_train.education.isna()].region.value_counts() # displays education nulls acc. to diff. region"
   ]
  },
  {
   "cell_type": "markdown",
   "metadata": {
    "id": "hKaH1mzFicMi"
   },
   "source": [
    "Region 2,22,7,15 have more null values for education, Maybe there they don't have preferences based on education"
   ]
  },
  {
   "cell_type": "code",
   "execution_count": 255,
   "metadata": {
    "id": "Et2pjeBMicMj"
   },
   "outputs": [],
   "source": [
    "# filling Not Available on place of nan\n",
    "X_train['education_NA'] = X_train.loc[:,'education'].fillna('Not Available')\n",
    "X_train['education_mode'] = X_train.loc[:,'education'].fillna(X_train['education'].mode()[0])"
   ]
  },
  {
   "cell_type": "code",
   "execution_count": 256,
   "metadata": {
    "colab": {
     "base_uri": "https://localhost:8080/"
    },
    "id": "Iw5uBa5jicMj",
    "outputId": "03cd720c-c9f8-45a0-f13d-53aa73c7076e"
   },
   "outputs": [
    {
     "name": "stdout",
     "output_type": "stream",
     "text": [
      "Bachelor's          25684\n",
      "Master's & above    10414\n",
      "Below Secondary       547\n",
      "Name: education, dtype: int64\n",
      "Bachelor's          25684\n",
      "Master's & above    10414\n",
      "Not Available        1720\n",
      "Below Secondary       547\n",
      "Name: education_NA, dtype: int64\n",
      "Bachelor's          27404\n",
      "Master's & above    10414\n",
      "Below Secondary       547\n",
      "Name: education_mode, dtype: int64\n"
     ]
    }
   ],
   "source": [
    "print(X_train.education.value_counts())\n",
    "print(X_train.education_NA.value_counts())\n",
    "print(X_train.education_mode.value_counts())"
   ]
  },
  {
   "cell_type": "code",
   "execution_count": 257,
   "metadata": {
    "id": "L6P88Q7vicMj"
   },
   "outputs": [],
   "source": [
    "education_column_mode = X_train['education'].mode()[0] # storing mode of education column of X_train"
   ]
  },
  {
   "cell_type": "markdown",
   "metadata": {
    "id": "5EmChluQicMj"
   },
   "source": [
    "Null value for education handled\n",
    "\n",
    "Now time for previous_year_rating"
   ]
  },
  {
   "cell_type": "code",
   "execution_count": 258,
   "metadata": {
    "colab": {
     "base_uri": "https://localhost:8080/"
    },
    "id": "Rntux08oicMj",
    "outputId": "e8557e26-fdaf-4428-d7d1-3e106861fcd1"
   },
   "outputs": [
    {
     "data": {
      "text/plain": [
       "age\n",
       "20    49.333333\n",
       "21    49.230769\n",
       "22    52.976190\n",
       "23    54.421769\n",
       "24    42.735043\n",
       "25    31.701891\n",
       "26    23.606332\n",
       "27    23.345124\n",
       "28    21.971067\n",
       "29    14.534161\n",
       "30     9.090909\n",
       "31     3.772819\n",
       "32     1.802885\n",
       "33     0.848972\n",
       "34     0.187793\n",
       "35     0.208333\n",
       "36     0.000000\n",
       "37     0.000000\n",
       "38     0.000000\n",
       "39     0.000000\n",
       "40     0.599315\n",
       "41     0.443951\n",
       "42     0.250627\n",
       "43     0.147929\n",
       "44     0.000000\n",
       "45     0.000000\n",
       "46     0.000000\n",
       "47     0.000000\n",
       "48     0.000000\n",
       "49     0.000000\n",
       "50     0.000000\n",
       "51     0.000000\n",
       "52     0.000000\n",
       "53     0.000000\n",
       "54     0.000000\n",
       "55     0.000000\n",
       "56     0.000000\n",
       "57     0.000000\n",
       "58     0.000000\n",
       "59     0.000000\n",
       "60     0.000000\n",
       "Name: previous_year_rating, dtype: float64"
      ]
     },
     "execution_count": 258,
     "metadata": {},
     "output_type": "execute_result"
    }
   ],
   "source": [
    "# % of null in previous_year_rating in each age\n",
    "X_train['previous_year_rating'].isnull().groupby(X_train['age']).mean()*100 "
   ]
  },
  {
   "cell_type": "markdown",
   "metadata": {
    "id": "CInLJfzficMk"
   },
   "source": [
    "We can see 20 to 24 years old people have nearly 50% null data in previous_year_rating which can be possible they are either having internship or part-time employee"
   ]
  },
  {
   "cell_type": "code",
   "execution_count": 259,
   "metadata": {
    "colab": {
     "base_uri": "https://localhost:8080/"
    },
    "id": "0taQXz4GicMk",
    "outputId": "91fa7af0-68df-4432-e226-a0bb43bb4643"
   },
   "outputs": [
    {
     "data": {
      "text/plain": [
       "length_of_service\n",
       "1     90.900563\n",
       "2      0.000000\n",
       "3      0.000000\n",
       "4      0.000000\n",
       "5      0.000000\n",
       "6      0.000000\n",
       "7      0.000000\n",
       "8      0.000000\n",
       "9      0.000000\n",
       "10     0.000000\n",
       "11     0.000000\n",
       "12     0.000000\n",
       "13     0.000000\n",
       "14     0.000000\n",
       "15     0.000000\n",
       "16     0.000000\n",
       "17     0.000000\n",
       "18     0.000000\n",
       "19     0.000000\n",
       "20     0.000000\n",
       "21     0.000000\n",
       "22     0.000000\n",
       "23     0.000000\n",
       "24     0.000000\n",
       "25     0.000000\n",
       "26     0.000000\n",
       "27     0.000000\n",
       "28     0.000000\n",
       "29     0.000000\n",
       "30     0.000000\n",
       "31     0.000000\n",
       "32     0.000000\n",
       "33     0.000000\n",
       "34     0.000000\n",
       "37     0.000000\n",
       "Name: previous_year_rating, dtype: float64"
      ]
     },
     "execution_count": 259,
     "metadata": {},
     "output_type": "execute_result"
    }
   ],
   "source": [
    "# % of null in previous_year_rating in each length_of_service\n",
    "X_train['previous_year_rating'].isnull().groupby(X_train['length_of_service']).mean()*100"
   ]
  },
  {
   "cell_type": "markdown",
   "metadata": {
    "id": "dPmCQxn5icMk"
   },
   "source": [
    "We can see 90% data is null for length of service within one year, which is proving my point that people would be having internships, part-time or are new employee"
   ]
  },
  {
   "cell_type": "code",
   "execution_count": 260,
   "metadata": {
    "colab": {
     "base_uri": "https://localhost:8080/"
    },
    "id": "j7cVvkaJicMl",
    "outputId": "c4c62fe7-91b2-4a8c-c9f2-7afa7745da65"
   },
   "outputs": [
    {
     "data": {
      "text/plain": [
       "region_2     572\n",
       "region_22    522\n",
       "region_7     180\n",
       "region_26    135\n",
       "region_27    113\n",
       "region_31    113\n",
       "region_13    107\n",
       "region_15     88\n",
       "region_32     79\n",
       "region_28     74\n",
       "region_16     73\n",
       "region_6      69\n",
       "region_11     66\n",
       "region_29     60\n",
       "region_4      55\n",
       "region_12     53\n",
       "region_8      51\n",
       "region_20     50\n",
       "region_5      48\n",
       "region_25     47\n",
       "region_17     38\n",
       "region_23     37\n",
       "region_9      37\n",
       "region_14     31\n",
       "region_34     31\n",
       "region_1      31\n",
       "region_30     30\n",
       "region_24     29\n",
       "region_21     23\n",
       "region_19     22\n",
       "region_10     20\n",
       "region_3      13\n",
       "region_18      6\n",
       "region_33      4\n",
       "Name: region, dtype: int64"
      ]
     },
     "execution_count": 260,
     "metadata": {},
     "output_type": "execute_result"
    }
   ],
   "source": [
    "# % of null in previous_year_rating in each region\n",
    "X_train[X_train.previous_year_rating.isna()].region.value_counts()"
   ]
  },
  {
   "cell_type": "markdown",
   "metadata": {
    "id": "u5b5Wi3qicMl"
   },
   "source": [
    "region_2 and region_22 have more number of null for previous year rating"
   ]
  },
  {
   "cell_type": "code",
   "execution_count": 261,
   "metadata": {
    "colab": {
     "base_uri": "https://localhost:8080/"
    },
    "id": "GqkP7AyqicMl",
    "outputId": "35b93951-82bc-4116-92f3-0bb7eb4a9089"
   },
   "outputs": [
    {
     "data": {
      "text/plain": [
       "region_2     636\n",
       "region_22    576\n",
       "region_7     198\n",
       "region_26    146\n",
       "region_31    128\n",
       "region_27    123\n",
       "region_13    119\n",
       "region_15     92\n",
       "region_32     89\n",
       "region_28     81\n",
       "region_16     78\n",
       "region_6      76\n",
       "region_11     73\n",
       "region_29     69\n",
       "region_4      61\n",
       "region_12     60\n",
       "region_8      56\n",
       "region_20     53\n",
       "region_5      51\n",
       "region_25     49\n",
       "region_23     42\n",
       "region_9      41\n",
       "region_17     41\n",
       "region_30     36\n",
       "region_24     34\n",
       "region_1      34\n",
       "region_34     33\n",
       "region_14     31\n",
       "region_21     25\n",
       "region_19     22\n",
       "region_10     21\n",
       "region_3      14\n",
       "region_18      6\n",
       "region_33      4\n",
       "Name: region, dtype: int64"
      ]
     },
     "execution_count": 261,
     "metadata": {},
     "output_type": "execute_result"
    }
   ],
   "source": [
    "# employee with 1 year service in each region\n",
    "X_train[X_train['length_of_service']==1].region.value_counts()"
   ]
  },
  {
   "cell_type": "markdown",
   "metadata": {
    "id": "ma0pvb7ricMl"
   },
   "source": [
    "region_2 and region_22 have more number of null for previous year rating, this is because they have more new employee"
   ]
  },
  {
   "cell_type": "code",
   "execution_count": 262,
   "metadata": {
    "colab": {
     "base_uri": "https://localhost:8080/"
    },
    "id": "N-UkBi-dicMm",
    "outputId": "361ddd27-25e7-4d5f-c35a-797e8f9f8000"
   },
   "outputs": [
    {
     "data": {
      "text/plain": [
       "3.0    13006\n",
       "5.0     8251\n",
       "4.0     6929\n",
       "1.0     4363\n",
       "2.0     2909\n",
       "Name: previous_year_rating, dtype: int64"
      ]
     },
     "execution_count": 262,
     "metadata": {},
     "output_type": "execute_result"
    }
   ],
   "source": [
    "# unique values in previous_year_rating\n",
    "X_train['previous_year_rating'].value_counts()"
   ]
  },
  {
   "cell_type": "markdown",
   "metadata": {
    "id": "H4Lncv-dicMm"
   },
   "source": [
    "Since taking median and mode would not be very appropriate to handle null in this case, since majority of null are\n",
    "new employee, giving them rating on basis of others would not be right option, therefore I am giving them rating on\n",
    "4 background which are region, department, age and thier average training score, so that approx rating can be given."
   ]
  },
  {
   "cell_type": "code",
   "execution_count": 263,
   "metadata": {
    "id": "CebsN4IficMm"
   },
   "outputs": [],
   "source": [
    "# making dictonary of all features with mean value of previous_year_rating\n",
    "rating_acc_region = X_train.groupby(['region'])['previous_year_rating'].mean().to_dict()                 #region\n",
    "rating_acc_departemnt = X_train.groupby(['department'])['previous_year_rating'].mean().to_dict()         #department\n",
    "rating_acc_age = X_train.groupby(['age'])['previous_year_rating'].mean().to_dict()                       #age\n",
    "rating_acc_training = X_train.groupby(['avg_training_score'])['previous_year_rating'].mean().to_dict()   #avg training score"
   ]
  },
  {
   "cell_type": "code",
   "execution_count": 264,
   "metadata": {
    "id": "pTPQmS5zicMm"
   },
   "outputs": [],
   "source": [
    "# function to replace null values with average of ratings provided on basis of 4 features mentioned\n",
    "def new_rating(x):\n",
    "    return (\n",
    "            rating_acc_region[x['region']] + \n",
    "            rating_acc_departemnt[x['department']] + \n",
    "            rating_acc_age[x['age']] + \n",
    "            rating_acc_training[x['avg_training_score']]\n",
    "            )/4"
   ]
  },
  {
   "cell_type": "code",
   "execution_count": 265,
   "metadata": {
    "id": "ifFvlafHicMm"
   },
   "outputs": [],
   "source": [
    "# replacing null values\n",
    "# if null is found new_rating is called otherwise old rating is copied \n",
    "X_train['previous_year_rating_na'] = np.where(X_train['previous_year_rating'].isnull(),\n",
    "                                           X_train.apply(new_rating,axis=1),X_train['previous_year_rating'])"
   ]
  },
  {
   "cell_type": "code",
   "execution_count": 266,
   "metadata": {
    "id": "swAB02YDicMn"
   },
   "outputs": [],
   "source": [
    "previous_year_rating_median = X_train['previous_year_rating'].median() #storing median of previous_year_rating column of X_train"
   ]
  },
  {
   "cell_type": "code",
   "execution_count": 267,
   "metadata": {
    "id": "XFlk2PIjicMn"
   },
   "outputs": [],
   "source": [
    "# filling Null with median of the column\n",
    "X_train['previous_year_rating_na_median'] = X_train.loc[:,'previous_year_rating'].fillna(X_train['previous_year_rating'].median())"
   ]
  },
  {
   "cell_type": "markdown",
   "metadata": {
    "id": "HY2huWrZ7fK8"
   },
   "source": [
    "Did two types of imputation, later will check in feature selection, which one to keep which one to not"
   ]
  },
  {
   "cell_type": "code",
   "execution_count": 268,
   "metadata": {
    "colab": {
     "base_uri": "https://localhost:8080/"
    },
    "id": "WFQ1xFgIicMn",
    "outputId": "83465a88-34d8-4e8a-f96a-02cccb8edd4c"
   },
   "outputs": [
    {
     "name": "stdout",
     "output_type": "stream",
     "text": [
      "0\n",
      "0\n"
     ]
    }
   ],
   "source": [
    "print(X_train['previous_year_rating_na'].isnull().sum())\n",
    "print(X_train['previous_year_rating_na_median'].isnull().sum())"
   ]
  },
  {
   "cell_type": "markdown",
   "metadata": {
    "id": "wbYDJ2fmicMn"
   },
   "source": [
    "No null left in previous year rating"
   ]
  },
  {
   "cell_type": "code",
   "execution_count": 269,
   "metadata": {
    "colab": {
     "base_uri": "https://localhost:8080/"
    },
    "id": "sxxWjVgkicMn",
    "outputId": "80d57cb8-827b-4538-da79-f52e6c579a52"
   },
   "outputs": [
    {
     "data": {
      "text/html": [
       "<div>\n",
       "<style scoped>\n",
       "    .dataframe tbody tr th:only-of-type {\n",
       "        vertical-align: middle;\n",
       "    }\n",
       "\n",
       "    .dataframe tbody tr th {\n",
       "        vertical-align: top;\n",
       "    }\n",
       "\n",
       "    .dataframe thead th {\n",
       "        text-align: right;\n",
       "    }\n",
       "</style>\n",
       "<table border=\"1\" class=\"dataframe\">\n",
       "  <thead>\n",
       "    <tr style=\"text-align: right;\">\n",
       "      <th></th>\n",
       "      <th>employee_id</th>\n",
       "      <th>department</th>\n",
       "      <th>region</th>\n",
       "      <th>education</th>\n",
       "      <th>gender</th>\n",
       "      <th>recruitment_channel</th>\n",
       "      <th>no_of_trainings</th>\n",
       "      <th>age</th>\n",
       "      <th>previous_year_rating</th>\n",
       "      <th>length_of_service</th>\n",
       "      <th>KPIs_met &gt;80%</th>\n",
       "      <th>awards_won?</th>\n",
       "      <th>avg_training_score</th>\n",
       "      <th>is_promoted</th>\n",
       "      <th>education_NA</th>\n",
       "      <th>education_mode</th>\n",
       "      <th>previous_year_rating_na</th>\n",
       "      <th>previous_year_rating_na_median</th>\n",
       "    </tr>\n",
       "  </thead>\n",
       "  <tbody>\n",
       "    <tr>\n",
       "      <th>0</th>\n",
       "      <td>65438</td>\n",
       "      <td>Sales &amp; Marketing</td>\n",
       "      <td>region_7</td>\n",
       "      <td>Master's &amp; above</td>\n",
       "      <td>f</td>\n",
       "      <td>sourcing</td>\n",
       "      <td>1</td>\n",
       "      <td>35</td>\n",
       "      <td>5.0</td>\n",
       "      <td>8</td>\n",
       "      <td>1</td>\n",
       "      <td>0</td>\n",
       "      <td>49</td>\n",
       "      <td>0</td>\n",
       "      <td>Master's &amp; above</td>\n",
       "      <td>Master's &amp; above</td>\n",
       "      <td>5.000000</td>\n",
       "      <td>5.0</td>\n",
       "    </tr>\n",
       "    <tr>\n",
       "      <th>1</th>\n",
       "      <td>65141</td>\n",
       "      <td>Operations</td>\n",
       "      <td>region_22</td>\n",
       "      <td>Bachelor's</td>\n",
       "      <td>m</td>\n",
       "      <td>other</td>\n",
       "      <td>1</td>\n",
       "      <td>30</td>\n",
       "      <td>5.0</td>\n",
       "      <td>4</td>\n",
       "      <td>0</td>\n",
       "      <td>0</td>\n",
       "      <td>60</td>\n",
       "      <td>0</td>\n",
       "      <td>Bachelor's</td>\n",
       "      <td>Bachelor's</td>\n",
       "      <td>5.000000</td>\n",
       "      <td>5.0</td>\n",
       "    </tr>\n",
       "    <tr>\n",
       "      <th>2</th>\n",
       "      <td>7513</td>\n",
       "      <td>Sales &amp; Marketing</td>\n",
       "      <td>region_19</td>\n",
       "      <td>Bachelor's</td>\n",
       "      <td>m</td>\n",
       "      <td>sourcing</td>\n",
       "      <td>1</td>\n",
       "      <td>34</td>\n",
       "      <td>3.0</td>\n",
       "      <td>7</td>\n",
       "      <td>0</td>\n",
       "      <td>0</td>\n",
       "      <td>50</td>\n",
       "      <td>0</td>\n",
       "      <td>Bachelor's</td>\n",
       "      <td>Bachelor's</td>\n",
       "      <td>3.000000</td>\n",
       "      <td>3.0</td>\n",
       "    </tr>\n",
       "    <tr>\n",
       "      <th>3</th>\n",
       "      <td>2542</td>\n",
       "      <td>Sales &amp; Marketing</td>\n",
       "      <td>region_23</td>\n",
       "      <td>Bachelor's</td>\n",
       "      <td>m</td>\n",
       "      <td>other</td>\n",
       "      <td>2</td>\n",
       "      <td>39</td>\n",
       "      <td>1.0</td>\n",
       "      <td>10</td>\n",
       "      <td>0</td>\n",
       "      <td>0</td>\n",
       "      <td>50</td>\n",
       "      <td>0</td>\n",
       "      <td>Bachelor's</td>\n",
       "      <td>Bachelor's</td>\n",
       "      <td>1.000000</td>\n",
       "      <td>1.0</td>\n",
       "    </tr>\n",
       "    <tr>\n",
       "      <th>4</th>\n",
       "      <td>48945</td>\n",
       "      <td>Technology</td>\n",
       "      <td>region_26</td>\n",
       "      <td>Bachelor's</td>\n",
       "      <td>m</td>\n",
       "      <td>other</td>\n",
       "      <td>1</td>\n",
       "      <td>45</td>\n",
       "      <td>3.0</td>\n",
       "      <td>2</td>\n",
       "      <td>0</td>\n",
       "      <td>0</td>\n",
       "      <td>73</td>\n",
       "      <td>0</td>\n",
       "      <td>Bachelor's</td>\n",
       "      <td>Bachelor's</td>\n",
       "      <td>3.000000</td>\n",
       "      <td>3.0</td>\n",
       "    </tr>\n",
       "    <tr>\n",
       "      <th>...</th>\n",
       "      <td>...</td>\n",
       "      <td>...</td>\n",
       "      <td>...</td>\n",
       "      <td>...</td>\n",
       "      <td>...</td>\n",
       "      <td>...</td>\n",
       "      <td>...</td>\n",
       "      <td>...</td>\n",
       "      <td>...</td>\n",
       "      <td>...</td>\n",
       "      <td>...</td>\n",
       "      <td>...</td>\n",
       "      <td>...</td>\n",
       "      <td>...</td>\n",
       "      <td>...</td>\n",
       "      <td>...</td>\n",
       "      <td>...</td>\n",
       "      <td>...</td>\n",
       "    </tr>\n",
       "    <tr>\n",
       "      <th>38355</th>\n",
       "      <td>4131</td>\n",
       "      <td>Finance</td>\n",
       "      <td>region_2</td>\n",
       "      <td>Below Secondary</td>\n",
       "      <td>f</td>\n",
       "      <td>sourcing</td>\n",
       "      <td>1</td>\n",
       "      <td>24</td>\n",
       "      <td>4.0</td>\n",
       "      <td>2</td>\n",
       "      <td>0</td>\n",
       "      <td>0</td>\n",
       "      <td>59</td>\n",
       "      <td>0</td>\n",
       "      <td>Below Secondary</td>\n",
       "      <td>Below Secondary</td>\n",
       "      <td>4.000000</td>\n",
       "      <td>4.0</td>\n",
       "    </tr>\n",
       "    <tr>\n",
       "      <th>38356</th>\n",
       "      <td>33402</td>\n",
       "      <td>Technology</td>\n",
       "      <td>region_2</td>\n",
       "      <td>Below Secondary</td>\n",
       "      <td>f</td>\n",
       "      <td>sourcing</td>\n",
       "      <td>1</td>\n",
       "      <td>23</td>\n",
       "      <td>NaN</td>\n",
       "      <td>1</td>\n",
       "      <td>1</td>\n",
       "      <td>0</td>\n",
       "      <td>79</td>\n",
       "      <td>1</td>\n",
       "      <td>Below Secondary</td>\n",
       "      <td>Below Secondary</td>\n",
       "      <td>3.246538</td>\n",
       "      <td>3.0</td>\n",
       "    </tr>\n",
       "    <tr>\n",
       "      <th>38357</th>\n",
       "      <td>34280</td>\n",
       "      <td>Sales &amp; Marketing</td>\n",
       "      <td>region_2</td>\n",
       "      <td>Master's &amp; above</td>\n",
       "      <td>m</td>\n",
       "      <td>sourcing</td>\n",
       "      <td>1</td>\n",
       "      <td>39</td>\n",
       "      <td>2.0</td>\n",
       "      <td>8</td>\n",
       "      <td>0</td>\n",
       "      <td>0</td>\n",
       "      <td>50</td>\n",
       "      <td>0</td>\n",
       "      <td>Master's &amp; above</td>\n",
       "      <td>Master's &amp; above</td>\n",
       "      <td>2.000000</td>\n",
       "      <td>2.0</td>\n",
       "    </tr>\n",
       "    <tr>\n",
       "      <th>38358</th>\n",
       "      <td>73992</td>\n",
       "      <td>Sales &amp; Marketing</td>\n",
       "      <td>region_5</td>\n",
       "      <td>Bachelor's</td>\n",
       "      <td>m</td>\n",
       "      <td>sourcing</td>\n",
       "      <td>2</td>\n",
       "      <td>30</td>\n",
       "      <td>3.0</td>\n",
       "      <td>3</td>\n",
       "      <td>0</td>\n",
       "      <td>0</td>\n",
       "      <td>52</td>\n",
       "      <td>0</td>\n",
       "      <td>Bachelor's</td>\n",
       "      <td>Bachelor's</td>\n",
       "      <td>3.000000</td>\n",
       "      <td>3.0</td>\n",
       "    </tr>\n",
       "    <tr>\n",
       "      <th>38359</th>\n",
       "      <td>46016</td>\n",
       "      <td>Analytics</td>\n",
       "      <td>region_21</td>\n",
       "      <td>NaN</td>\n",
       "      <td>m</td>\n",
       "      <td>other</td>\n",
       "      <td>1</td>\n",
       "      <td>27</td>\n",
       "      <td>3.0</td>\n",
       "      <td>3</td>\n",
       "      <td>0</td>\n",
       "      <td>0</td>\n",
       "      <td>83</td>\n",
       "      <td>0</td>\n",
       "      <td>Not Available</td>\n",
       "      <td>Bachelor's</td>\n",
       "      <td>3.000000</td>\n",
       "      <td>3.0</td>\n",
       "    </tr>\n",
       "  </tbody>\n",
       "</table>\n",
       "<p>38360 rows × 18 columns</p>\n",
       "</div>"
      ],
      "text/plain": [
       "       employee_id         department     region         education gender  \\\n",
       "0            65438  Sales & Marketing   region_7  Master's & above      f   \n",
       "1            65141         Operations  region_22        Bachelor's      m   \n",
       "2             7513  Sales & Marketing  region_19        Bachelor's      m   \n",
       "3             2542  Sales & Marketing  region_23        Bachelor's      m   \n",
       "4            48945         Technology  region_26        Bachelor's      m   \n",
       "...            ...                ...        ...               ...    ...   \n",
       "38355         4131            Finance   region_2   Below Secondary      f   \n",
       "38356        33402         Technology   region_2   Below Secondary      f   \n",
       "38357        34280  Sales & Marketing   region_2  Master's & above      m   \n",
       "38358        73992  Sales & Marketing   region_5        Bachelor's      m   \n",
       "38359        46016          Analytics  region_21               NaN      m   \n",
       "\n",
       "      recruitment_channel  no_of_trainings  age  previous_year_rating  \\\n",
       "0                sourcing                1   35                   5.0   \n",
       "1                   other                1   30                   5.0   \n",
       "2                sourcing                1   34                   3.0   \n",
       "3                   other                2   39                   1.0   \n",
       "4                   other                1   45                   3.0   \n",
       "...                   ...              ...  ...                   ...   \n",
       "38355            sourcing                1   24                   4.0   \n",
       "38356            sourcing                1   23                   NaN   \n",
       "38357            sourcing                1   39                   2.0   \n",
       "38358            sourcing                2   30                   3.0   \n",
       "38359               other                1   27                   3.0   \n",
       "\n",
       "       length_of_service  KPIs_met >80%  awards_won?  avg_training_score  \\\n",
       "0                      8              1            0                  49   \n",
       "1                      4              0            0                  60   \n",
       "2                      7              0            0                  50   \n",
       "3                     10              0            0                  50   \n",
       "4                      2              0            0                  73   \n",
       "...                  ...            ...          ...                 ...   \n",
       "38355                  2              0            0                  59   \n",
       "38356                  1              1            0                  79   \n",
       "38357                  8              0            0                  50   \n",
       "38358                  3              0            0                  52   \n",
       "38359                  3              0            0                  83   \n",
       "\n",
       "       is_promoted      education_NA    education_mode  \\\n",
       "0                0  Master's & above  Master's & above   \n",
       "1                0        Bachelor's        Bachelor's   \n",
       "2                0        Bachelor's        Bachelor's   \n",
       "3                0        Bachelor's        Bachelor's   \n",
       "4                0        Bachelor's        Bachelor's   \n",
       "...            ...               ...               ...   \n",
       "38355            0   Below Secondary   Below Secondary   \n",
       "38356            1   Below Secondary   Below Secondary   \n",
       "38357            0  Master's & above  Master's & above   \n",
       "38358            0        Bachelor's        Bachelor's   \n",
       "38359            0     Not Available        Bachelor's   \n",
       "\n",
       "       previous_year_rating_na  previous_year_rating_na_median  \n",
       "0                     5.000000                             5.0  \n",
       "1                     5.000000                             5.0  \n",
       "2                     3.000000                             3.0  \n",
       "3                     1.000000                             1.0  \n",
       "4                     3.000000                             3.0  \n",
       "...                        ...                             ...  \n",
       "38355                 4.000000                             4.0  \n",
       "38356                 3.246538                             3.0  \n",
       "38357                 2.000000                             2.0  \n",
       "38358                 3.000000                             3.0  \n",
       "38359                 3.000000                             3.0  \n",
       "\n",
       "[38360 rows x 18 columns]"
      ]
     },
     "execution_count": 269,
     "metadata": {},
     "output_type": "execute_result"
    }
   ],
   "source": [
    "X_train.head(-5) #seeing upper and lower 5 rows"
   ]
  },
  {
   "cell_type": "markdown",
   "metadata": {
    "id": "QgFY3dL9icMo"
   },
   "source": [
    "#### EDA"
   ]
  },
  {
   "cell_type": "code",
   "execution_count": 270,
   "metadata": {
    "colab": {
     "base_uri": "https://localhost:8080/"
    },
    "id": "L1ovNBbxicMo",
    "outputId": "f49eac40-bcb9-4b02-99bb-bf64fbb2fe90"
   },
   "outputs": [
    {
     "data": {
      "text/plain": [
       "employee_id                       38365\n",
       "department                            9\n",
       "region                               34\n",
       "education                             3\n",
       "gender                                2\n",
       "recruitment_channel                   3\n",
       "no_of_trainings                      10\n",
       "age                                  41\n",
       "previous_year_rating                  5\n",
       "length_of_service                    35\n",
       "KPIs_met >80%                         2\n",
       "awards_won?                           2\n",
       "avg_training_score                   61\n",
       "is_promoted                           2\n",
       "education_NA                          4\n",
       "education_mode                        3\n",
       "previous_year_rating_na            2441\n",
       "previous_year_rating_na_median        5\n",
       "dtype: int64"
      ]
     },
     "execution_count": 270,
     "metadata": {},
     "output_type": "execute_result"
    }
   ],
   "source": [
    "X_train.nunique() # displays unique values of each column"
   ]
  },
  {
   "cell_type": "code",
   "execution_count": 271,
   "metadata": {
    "colab": {
     "base_uri": "https://localhost:8080/"
    },
    "id": "ZAF94Pb9icMo",
    "outputId": "1e97169c-7eaa-4c42-e102-e0c85fcf17de"
   },
   "outputs": [
    {
     "data": {
      "text/plain": [
       "Sales & Marketing    11751\n",
       "Operations            7898\n",
       "Technology            5001\n",
       "Procurement           4977\n",
       "Analytics             3775\n",
       "Finance               1781\n",
       "HR                    1700\n",
       "Legal                  757\n",
       "R&D                    725\n",
       "Name: department, dtype: int64"
      ]
     },
     "execution_count": 271,
     "metadata": {},
     "output_type": "execute_result"
    }
   ],
   "source": [
    "X_train['department'].value_counts() # no. employee of in each department"
   ]
  },
  {
   "cell_type": "markdown",
   "metadata": {
    "id": "Mk8Zi1WaicMo"
   },
   "source": [
    "Department is categorical feature"
   ]
  },
  {
   "cell_type": "code",
   "execution_count": 272,
   "metadata": {
    "colab": {
     "base_uri": "https://localhost:8080/"
    },
    "id": "f1GavNjGicMp",
    "outputId": "86592ec2-a1d6-47fc-c1eb-6a54a2442986"
   },
   "outputs": [
    {
     "data": {
      "text/plain": [
       "region_2     8608\n",
       "region_22    4506\n",
       "region_7     3369\n",
       "region_15    1938\n",
       "region_13    1890\n",
       "region_26    1581\n",
       "region_31    1364\n",
       "region_4     1220\n",
       "region_27    1147\n",
       "region_16    1027\n",
       "region_28     922\n",
       "region_11     907\n",
       "region_23     842\n",
       "region_29     698\n",
       "region_32     674\n",
       "region_19     611\n",
       "region_20     592\n",
       "region_14     588\n",
       "region_25     575\n",
       "region_17     557\n",
       "region_5      546\n",
       "region_6      496\n",
       "region_10     461\n",
       "region_8      457\n",
       "region_30     443\n",
       "region_1      431\n",
       "region_24     358\n",
       "region_12     339\n",
       "region_9      298\n",
       "region_21     286\n",
       "region_3      230\n",
       "region_34     200\n",
       "region_33     183\n",
       "region_18      21\n",
       "Name: region, dtype: int64"
      ]
     },
     "execution_count": 272,
     "metadata": {},
     "output_type": "execute_result"
    }
   ],
   "source": [
    "X_train['region'].value_counts() # no. of employee in each region"
   ]
  },
  {
   "cell_type": "markdown",
   "metadata": {
    "id": "ncGdfiuticMp"
   },
   "source": [
    "Region is categorical feature"
   ]
  },
  {
   "cell_type": "code",
   "execution_count": 273,
   "metadata": {
    "colab": {
     "base_uri": "https://localhost:8080/"
    },
    "id": "gOD8dyX1icMp",
    "outputId": "18e3568c-d0dc-465d-8951-461b5e244179"
   },
   "outputs": [
    {
     "data": {
      "text/plain": [
       "Bachelor's          25684\n",
       "Master's & above    10414\n",
       "Below Secondary       547\n",
       "Name: education, dtype: int64"
      ]
     },
     "execution_count": 273,
     "metadata": {},
     "output_type": "execute_result"
    }
   ],
   "source": [
    "X_train['education'].value_counts() # no. of employee in each education"
   ]
  },
  {
   "cell_type": "markdown",
   "metadata": {
    "id": "cXvDz_AMicMp"
   },
   "source": [
    "education is categorical feature"
   ]
  },
  {
   "cell_type": "code",
   "execution_count": 274,
   "metadata": {
    "colab": {
     "base_uri": "https://localhost:8080/"
    },
    "id": "VzyugDzEicMp",
    "outputId": "e44fad1c-8c46-435b-e207-39221c666039"
   },
   "outputs": [
    {
     "data": {
      "text/plain": [
       "other       21353\n",
       "sourcing    16220\n",
       "referred      792\n",
       "Name: recruitment_channel, dtype: int64"
      ]
     },
     "execution_count": 274,
     "metadata": {},
     "output_type": "execute_result"
    }
   ],
   "source": [
    "X_train['recruitment_channel'].value_counts() # no. of employee hired from each method"
   ]
  },
  {
   "cell_type": "markdown",
   "metadata": {
    "id": "o-251_PYicMq"
   },
   "source": [
    "recruitment_channel is categorical feature"
   ]
  },
  {
   "cell_type": "code",
   "execution_count": 275,
   "metadata": {
    "colab": {
     "base_uri": "https://localhost:8080/"
    },
    "id": "4YNxvXwticMq",
    "outputId": "60861932-cc4c-4a54-9d43-0f0a856157da"
   },
   "outputs": [
    {
     "data": {
      "text/plain": [
       "0    24807\n",
       "1    13558\n",
       "Name: KPIs_met >80%, dtype: int64"
      ]
     },
     "execution_count": 275,
     "metadata": {},
     "output_type": "execute_result"
    }
   ],
   "source": [
    "X_train['KPIs_met >80%'].value_counts() # employee achieving kp >80%"
   ]
  },
  {
   "cell_type": "code",
   "execution_count": 276,
   "metadata": {
    "colab": {
     "base_uri": "https://localhost:8080/"
    },
    "id": "ufRHKqlwicMq",
    "outputId": "12e790c6-5138-42c7-94f7-6454c7fc5bf5"
   },
   "outputs": [
    {
     "data": {
      "text/plain": [
       "0    37486\n",
       "1      879\n",
       "Name: awards_won?, dtype: int64"
      ]
     },
     "execution_count": 276,
     "metadata": {},
     "output_type": "execute_result"
    }
   ],
   "source": [
    "X_train['awards_won?'].value_counts() # employee winning awards"
   ]
  },
  {
   "cell_type": "markdown",
   "metadata": {
    "id": "aowszDsoicMq"
   },
   "source": [
    "KPIs_met and awards_won are categorical feature"
   ]
  },
  {
   "cell_type": "code",
   "execution_count": 277,
   "metadata": {
    "colab": {
     "base_uri": "https://localhost:8080/"
    },
    "id": "G_5AY3SCicMq",
    "outputId": "e034b005-4b8a-4042-8d13-c4da26ee85ff"
   },
   "outputs": [
    {
     "data": {
      "text/plain": [
       "<AxesSubplot:xlabel='department'>"
      ]
     },
     "execution_count": 277,
     "metadata": {},
     "output_type": "execute_result"
    },
    {
     "data": {
      "image/png": "[encoded data removed]",
      "text/plain": [
       "<Figure size 432x288 with 1 Axes>"
      ]
     },
     "metadata": {
      "needs_background": "light"
     },
     "output_type": "display_data"
    }
   ],
   "source": [
    "# % promotion in each department\n",
    "department_is_promoted = X_train.groupby('department')['is_promoted'].mean()*100\n",
    "department_is_promoted.sort_values(ascending=False,inplace=True)\n",
    "department_is_promoted.plot(kind='bar')"
   ]
  },
  {
   "cell_type": "markdown",
   "metadata": {
    "id": "JCEu8L02DJAH"
   },
   "source": [
    "\n",
    "\n",
    "*   Technology department have highest no. of promotion among all department.\n",
    "*   Legal have the least number of promotion in its department\n",
    "\n",
    "\n"
   ]
  },
  {
   "cell_type": "code",
   "execution_count": 278,
   "metadata": {
    "colab": {
     "base_uri": "https://localhost:8080/"
    },
    "id": "bpNckRGRicMr",
    "outputId": "474105ab-7e53-4732-9cc6-fe9ede636e9f"
   },
   "outputs": [
    {
     "data": {
      "text/plain": [
       "<AxesSubplot:ylabel='region'>"
      ]
     },
     "execution_count": 278,
     "metadata": {},
     "output_type": "execute_result"
    },
    {
     "data": {
      "image/png": "[encoded data removed]",
      "text/plain": [
       "<Figure size 576x864 with 1 Axes>"
      ]
     },
     "metadata": {
      "needs_background": "light"
     },
     "output_type": "display_data"
    }
   ],
   "source": [
    "# % promotion in each region\n",
    "region_is_promoted = X_train.groupby('region')['is_promoted'].mean()*100\n",
    "region_is_promoted.sort_values(ascending=False,inplace=True)\n",
    "region_is_promoted.plot(kind='barh',figsize=(8,12))"
   ]
  },
  {
   "cell_type": "markdown",
   "metadata": {
    "id": "u22JrSdCD70R"
   },
   "source": [
    "\n",
    "\n",
    "*   Region 4\n",
    "*   Region 17 \n",
    "\n",
    "have highest number of promotion in it’s region.\n",
    "Which shows maybe there are more young employees or there are employees who are doing really good. \n",
    "\n",
    "\n",
    "*   Region 9 \n",
    "\n",
    "have the lowest number of promotion, maybe beacause employee are not performing well.\n"
   ]
  },
  {
   "cell_type": "code",
   "execution_count": 279,
   "metadata": {
    "colab": {
     "base_uri": "https://localhost:8080/"
    },
    "id": "O16jvqgEEgpx",
    "outputId": "532dfcbe-5cbb-4041-ebe2-d4920654a1ab"
   },
   "outputs": [
    {
     "data": {
      "text/plain": [
       "<AxesSubplot:xlabel='education_NA'>"
      ]
     },
     "execution_count": 279,
     "metadata": {},
     "output_type": "execute_result"
    },
    {
     "data": {
      "image/png": "[encoded data removed]",
      "text/plain": [
       "<Figure size 432x288 with 1 Axes>"
      ]
     },
     "metadata": {
      "needs_background": "light"
     },
     "output_type": "display_data"
    }
   ],
   "source": [
    "# % promotion of employee in each education\n",
    "education_is_promoted = X_train.groupby('education_NA')['is_promoted'].mean()*100\n",
    "education_is_promoted.plot(kind='line')"
   ]
  },
  {
   "cell_type": "markdown",
   "metadata": {
    "id": "16GgB0d4E22I"
   },
   "source": [
    "Master's Degree have higher chances of promotion\n",
    "Maximum possibility is because masters people tend to have more knowledge which can result in good performance which finally results in promotion.\n",
    "\n",
    "**Masters > Bachelors > Below Secondary**"
   ]
  },
  {
   "cell_type": "code",
   "execution_count": 280,
   "metadata": {
    "colab": {
     "base_uri": "https://localhost:8080/"
    },
    "id": "iIbPyA0-FBuy",
    "outputId": "33ba6ac2-b0b2-4228-b892-669db8d8db80"
   },
   "outputs": [
    {
     "data": {
      "text/plain": [
       "<AxesSubplot:xlabel='recruitment_channel'>"
      ]
     },
     "execution_count": 280,
     "metadata": {},
     "output_type": "execute_result"
    },
    {
     "data": {
      "image/png": "[encoded data removed]",
      "text/plain": [
       "<Figure size 432x288 with 1 Axes>"
      ]
     },
     "metadata": {
      "needs_background": "light"
     },
     "output_type": "display_data"
    }
   ],
   "source": [
    "# % promotion of employee hired from different methods\n",
    "recruitment_is_promoted = X_train.groupby('recruitment_channel')['is_promoted'].mean()*100\n",
    "recruitment_is_promoted.plot(kind='bar')"
   ]
  },
  {
   "cell_type": "markdown",
   "metadata": {
    "id": "bGuMUOLDFYYf"
   },
   "source": [
    "This shows that employee coming from referrence recruitment are nice and are getting promotion more comparitive to others.\n",
    "\n",
    "We usually see people refer people who are really good, since refering good people can be awarded with referal amount.\n"
   ]
  },
  {
   "cell_type": "code",
   "execution_count": 281,
   "metadata": {
    "colab": {
     "base_uri": "https://localhost:8080/"
    },
    "id": "hjshwru0Fby8",
    "outputId": "be5f2d3d-6c1f-4d77-b69a-58dce1213a4f"
   },
   "outputs": [
    {
     "data": {
      "text/plain": [
       "<AxesSubplot:xlabel='length_of_service'>"
      ]
     },
     "execution_count": 281,
     "metadata": {},
     "output_type": "execute_result"
    },
    {
     "data": {
      "image/png": "[encoded data removed]",
      "text/plain": [
       "<Figure size 864x432 with 1 Axes>"
      ]
     },
     "metadata": {
      "needs_background": "light"
     },
     "output_type": "display_data"
    }
   ],
   "source": [
    "# no. of promotion in each length of service\n",
    "los_is_promoted = X_train.groupby('length_of_service')['is_promoted'].count()\n",
    "los_is_promoted.sort_values(ascending=False,inplace=True)\n",
    "los_is_promoted.plot(kind='bar',figsize=(12,6))"
   ]
  },
  {
   "cell_type": "markdown",
   "metadata": {
    "id": "Hk8sMo8YFgeY"
   },
   "source": [
    "1. Promotion is at peak when you are in 2-5 years of your service length.\n",
    "\n",
    "2. Promotion decreases as your length of service increases from 8 years since people would already be on top position by then, and there is always less promotion at top.\n"
   ]
  },
  {
   "cell_type": "code",
   "execution_count": 282,
   "metadata": {
    "colab": {
     "base_uri": "https://localhost:8080/"
    },
    "id": "YCsdBMREGSgM",
    "outputId": "21cb7d6e-fa60-4903-eaf1-f96593b4086f"
   },
   "outputs": [
    {
     "data": {
      "text/plain": [
       "<AxesSubplot:xlabel='avg_training_score'>"
      ]
     },
     "execution_count": 282,
     "metadata": {},
     "output_type": "execute_result"
    },
    {
     "data": {
      "image/png": "[encoded data removed]",
      "text/plain": [
       "<Figure size 864x432 with 1 Axes>"
      ]
     },
     "metadata": {
      "needs_background": "light"
     },
     "output_type": "display_data"
    }
   ],
   "source": [
    "# promotion % based on training score\n",
    "ats_is_promoted = X_train.groupby('avg_training_score')['is_promoted'].mean()*100\n",
    "ats_is_promoted.plot(kind='line',figsize=(12,6))"
   ]
  },
  {
   "cell_type": "markdown",
   "metadata": {
    "id": "m15TV055GQg-"
   },
   "source": [
    "We can clearly see that having more Average training score increases the chance of promotion.\n",
    "\n",
    "It’s obvious also that if employee does good in training, there is a high probability that he will perform good. \n"
   ]
  },
  {
   "cell_type": "code",
   "execution_count": 283,
   "metadata": {
    "colab": {
     "base_uri": "https://localhost:8080/"
    },
    "id": "kc-snu3YGhCN",
    "outputId": "98b23f9e-41d2-41cc-c7b2-97ab461ffaa2"
   },
   "outputs": [
    {
     "data": {
      "text/plain": [
       "<AxesSubplot:xlabel='no_of_trainings'>"
      ]
     },
     "execution_count": 283,
     "metadata": {},
     "output_type": "execute_result"
    },
    {
     "data": {
      "image/png": "[encoded data removed]",
      "text/plain": [
       "<Figure size 864x432 with 1 Axes>"
      ]
     },
     "metadata": {
      "needs_background": "light"
     },
     "output_type": "display_data"
    }
   ],
   "source": [
    "# % promotion based on no. of trainings\n",
    "training_is_promoted = X_train.groupby('no_of_trainings')['is_promoted'].mean()*100\n",
    "training_is_promoted.plot(kind='bar',figsize=(12,6))"
   ]
  },
  {
   "cell_type": "markdown",
   "metadata": {
    "id": "fZbMLmiIGwg7"
   },
   "source": [
    "From this we can see that people with more no. of training are less likely to get promoted, which would be happening because people who could not perform well are doing trainings again and again to improve thier work.\n"
   ]
  },
  {
   "cell_type": "code",
   "execution_count": 284,
   "metadata": {
    "colab": {
     "base_uri": "https://localhost:8080/"
    },
    "id": "WWEDCK1VicMs",
    "outputId": "9c5b49fe-d648-4f1f-b925-a66e765c1cb9"
   },
   "outputs": [
    {
     "data": {
      "text/plain": [
       "awards_won?\n",
       "0    0.346529\n",
       "1    0.646189\n",
       "Name: KPIs_met >80%, dtype: float64"
      ]
     },
     "execution_count": 284,
     "metadata": {},
     "output_type": "execute_result"
    }
   ],
   "source": [
    "#to check award won by people who met KPI >80%\n",
    "X_train.groupby('awards_won?')['KPIs_met >80%'].mean()"
   ]
  },
  {
   "cell_type": "markdown",
   "metadata": {
    "id": "2l-2A3VKicMs"
   },
   "source": [
    "64% of people who won award have KPI_met > 80%\n",
    "That means getting award have one of parameter as KPI_met"
   ]
  },
  {
   "cell_type": "code",
   "execution_count": 285,
   "metadata": {
    "colab": {
     "base_uri": "https://localhost:8080/"
    },
    "id": "VUMYk1zcHGKt",
    "outputId": "cb81b810-cfc7-418d-b02e-2629165b8fd2"
   },
   "outputs": [
    {
     "data": {
      "text/plain": [
       "<AxesSubplot:xlabel='age'>"
      ]
     },
     "execution_count": 285,
     "metadata": {},
     "output_type": "execute_result"
    },
    {
     "data": {
      "image/png": "[encoded data removed]",
      "text/plain": [
       "<Figure size 432x288 with 1 Axes>"
      ]
     },
     "metadata": {
      "needs_background": "light"
     },
     "output_type": "display_data"
    }
   ],
   "source": [
    "# Gender and age wise promotion\n",
    "age_gender_promotion = X_train.groupby(['age','gender'])['is_promoted'].count().unstack()\n",
    "age_gender_promotion.plot(kind='line')"
   ]
  },
  {
   "cell_type": "code",
   "execution_count": 286,
   "metadata": {
    "colab": {
     "base_uri": "https://localhost:8080/"
    },
    "id": "dGP8QfQJHkab",
    "outputId": "1046bf3f-8603-4236-c4f0-457d1d8280f0"
   },
   "outputs": [
    {
     "data": {
      "text/plain": [
       "<AxesSubplot:xlabel='age'>"
      ]
     },
     "execution_count": 286,
     "metadata": {},
     "output_type": "execute_result"
    },
    {
     "data": {
      "image/png": "[encoded data removed]",
      "text/plain": [
       "<Figure size 864x576 with 1 Axes>"
      ]
     },
     "metadata": {
      "needs_background": "light"
     },
     "output_type": "display_data"
    }
   ],
   "source": [
    "# average length of service in each age by gender\n",
    "age_gender_los = X_train.groupby(['age','gender'])['length_of_service'].mean().unstack()\n",
    "age_gender_los.plot(kind='bar',figsize=(12,8))"
   ]
  },
  {
   "cell_type": "markdown",
   "metadata": {
    "id": "djgwc4GuHleX"
   },
   "source": [
    "This shows that there is no difference in length of service on basis of gender, both male and female are nearly equal at all age.\n"
   ]
  },
  {
   "cell_type": "code",
   "execution_count": 287,
   "metadata": {
    "colab": {
     "base_uri": "https://localhost:8080/"
    },
    "id": "2qqT4doKH8y-",
    "outputId": "75d584f1-2ba1-48e2-c9e2-5dbc05540903"
   },
   "outputs": [
    {
     "data": {
      "text/plain": [
       "<AxesSubplot:xlabel='education'>"
      ]
     },
     "execution_count": 287,
     "metadata": {},
     "output_type": "execute_result"
    },
    {
     "data": {
      "image/png": "[encoded data removed]",
      "text/plain": [
       "<Figure size 864x576 with 1 Axes>"
      ]
     },
     "metadata": {
      "needs_background": "light"
     },
     "output_type": "display_data"
    }
   ],
   "source": [
    "# previous year rating average in each education and recruitment channel\n",
    "edu_recruit_rating = X_train.groupby(['education','recruitment_channel'])['previous_year_rating_na'].mean().unstack()\n",
    "edu_recruit_rating.plot(kind='bar',figsize=(12,8))"
   ]
  },
  {
   "cell_type": "markdown",
   "metadata": {
    "id": "Pbo7LpR4H9e5"
   },
   "source": [
    "Employee recruited by Referrence have better rating.\n",
    "\n",
    "People usually refer good employee who give good performace and which eventually results in good rating.\n"
   ]
  },
  {
   "cell_type": "code",
   "execution_count": 288,
   "metadata": {
    "colab": {
     "base_uri": "https://localhost:8080/"
    },
    "id": "oxqPHJ5_TYoW",
    "outputId": "58bf8932-585e-415e-de7e-b87c706329c3"
   },
   "outputs": [
    {
     "data": {
      "text/plain": [
       "<AxesSubplot:xlabel='region'>"
      ]
     },
     "execution_count": 288,
     "metadata": {},
     "output_type": "execute_result"
    },
    {
     "data": {
      "image/png": "[encoded data removed]",
      "text/plain": [
       "<Figure size 864x576 with 1 Axes>"
      ]
     },
     "metadata": {
      "needs_background": "light"
     },
     "output_type": "display_data"
    }
   ],
   "source": [
    "# % Employee who met KPI>80% in each region\n",
    "region_kpi = X_train.groupby('region')['KPIs_met >80%'].mean()*100\n",
    "region_kpi.sort_values(ascending = False,inplace=True)\n",
    "region_kpi.plot(kind='bar',figsize=(12,8))"
   ]
  },
  {
   "cell_type": "markdown",
   "metadata": {
    "id": "8tBR2sTXUBh2"
   },
   "source": [
    "1. Region 18\n",
    "2. Region 9\n",
    "3. Region 24\n",
    "4. Region 33 \n",
    "\n",
    "have relatively less no. of KPI>80, Efficiency is less of this region employee is not good. Updates or report should be taken from this region.\n"
   ]
  },
  {
   "cell_type": "code",
   "execution_count": 289,
   "metadata": {
    "colab": {
     "base_uri": "https://localhost:8080/"
    },
    "id": "9z7MUyC2UO2O",
    "outputId": "80b1eb6a-8bcc-4d33-c54c-c2bd71bd5776"
   },
   "outputs": [
    {
     "data": {
      "text/plain": [
       "<AxesSubplot:title={'center':'department vs rating'}, xlabel='Department', ylabel='Mean rating'>"
      ]
     },
     "execution_count": 289,
     "metadata": {},
     "output_type": "execute_result"
    },
    {
     "data": {
      "image/png": "[encoded data removed]",
      "text/plain": [
       "<Figure size 720x576 with 1 Axes>"
      ]
     },
     "metadata": {
      "needs_background": "light"
     },
     "output_type": "display_data"
    }
   ],
   "source": [
    "# previous year rating average in each department\n",
    "department_rating = X_train.groupby('department')['previous_year_rating'].mean()\n",
    "department_rating.plot(kind='bar',grid=True,title='department vs rating', ylabel='Mean rating',\n",
    "         xlabel='Department', figsize=(10, 8))"
   ]
  },
  {
   "cell_type": "markdown",
   "metadata": {
    "id": "-kg1dq6wUdae"
   },
   "source": [
    "1. Operation\n",
    "2. Analytics\n",
    "3. R & D\n",
    "\n",
    "have best ratings in all department\n"
   ]
  },
  {
   "cell_type": "code",
   "execution_count": 290,
   "metadata": {
    "colab": {
     "base_uri": "https://localhost:8080/"
    },
    "id": "RMx-hfNfUxHr",
    "outputId": "5794ebcb-0403-4d3b-8a83-b516873c710d"
   },
   "outputs": [
    {
     "data": {
      "text/plain": [
       "<AxesSubplot:title={'center':'department vs age'}, xlabel='Department', ylabel='Mean age'>"
      ]
     },
     "execution_count": 290,
     "metadata": {},
     "output_type": "execute_result"
    },
    {
     "data": {
      "image/png": "[encoded data removed]",
      "text/plain": [
       "<Figure size 1080x360 with 1 Axes>"
      ]
     },
     "metadata": {
      "needs_background": "light"
     },
     "output_type": "display_data"
    }
   ],
   "source": [
    "# average age in each department\n",
    "department_age = X_train.groupby('department')['age'].mean()\n",
    "department_age.plot(kind='bar',grid=True,title='department vs age', ylabel='Mean age',\n",
    "         xlabel='Department', figsize=(15, 5))"
   ]
  },
  {
   "cell_type": "markdown",
   "metadata": {
    "id": "A_EMEFZwU5n7"
   },
   "source": [
    "1. Finance\n",
    "2. Analytics\n",
    "3. R&D\n",
    "\n",
    "have younger average age of employees\n"
   ]
  },
  {
   "cell_type": "code",
   "execution_count": 291,
   "metadata": {
    "colab": {
     "base_uri": "https://localhost:8080/"
    },
    "id": "5VWw9oXxicMs",
    "outputId": "c54bcc51-2540-4881-9766-1d9d60fc24be",
    "scrolled": true
   },
   "outputs": [
    {
     "data": {
      "text/plain": [
       "<seaborn.axisgrid.FacetGrid at 0x2261ca3e880>"
      ]
     },
     "execution_count": 291,
     "metadata": {},
     "output_type": "execute_result"
    },
    {
     "data": {
      "image/png": "[encoded data removed]",
      "text/plain": [
       "<Figure size 789.25x720 with 1 Axes>"
      ]
     },
     "metadata": {
      "needs_background": "light"
     },
     "output_type": "display_data"
    }
   ],
   "source": [
    "# promotion based on department and region\n",
    "sns.FacetGrid(X_train,hue='is_promoted',height=10).map(plt.scatter,\"department\",\"region\").add_legend()"
   ]
  },
  {
   "cell_type": "markdown",
   "metadata": {
    "id": "wJAJK5okicMt"
   },
   "source": [
    "Promotion in \n",
    "\n",
    "Sales & Marketing,\n",
    "Operation,\n",
    "Technology,\n",
    "Analytics \n",
    "\n",
    "is very low, since this field need experience which can be gained with years.\n"
   ]
  },
  {
   "cell_type": "code",
   "execution_count": 292,
   "metadata": {
    "colab": {
     "base_uri": "https://localhost:8080/"
    },
    "id": "S15C4QJEicMt",
    "outputId": "644e5ded-182b-48e3-a816-f98812f92c9a"
   },
   "outputs": [
    {
     "data": {
      "text/plain": [
       "<seaborn.axisgrid.FacetGrid at 0x2261b7d5ee0>"
      ]
     },
     "execution_count": 292,
     "metadata": {},
     "output_type": "execute_result"
    },
    {
     "data": {
      "image/png": "[encoded data removed]",
      "text/plain": [
       "<Figure size 789.25x720 with 1 Axes>"
      ]
     },
     "metadata": {
      "needs_background": "light"
     },
     "output_type": "display_data"
    }
   ],
   "source": [
    "# promotion based on no of trainings and average score\n",
    "sns.FacetGrid(X_train,hue='is_promoted',height=10).map(plt.scatter,\"no_of_trainings\",\"avg_training_score\").add_legend()"
   ]
  },
  {
   "cell_type": "markdown",
   "metadata": {
    "id": "KNhXIaV0icMt"
   },
   "source": [
    "People with more number of trainings have less chance of promotion, and also getting more training is not increasing thier training score, infact it’s approximately same.\n",
    "\n",
    "More no. of training don’t make a employee better, there is high chance people have more training beacause they are not performing well. Taking training again and again shows employee is not very good.\n"
   ]
  },
  {
   "cell_type": "markdown",
   "metadata": {
    "id": "vB00jeRficMw"
   },
   "source": [
    "#### Outliers"
   ]
  },
  {
   "cell_type": "code",
   "execution_count": 293,
   "metadata": {
    "colab": {
     "base_uri": "https://localhost:8080/"
    },
    "id": "aP3RtkwIicMw",
    "outputId": "d7ec1893-71f8-4b4c-9969-1cbbe3aa03bb"
   },
   "outputs": [
    {
     "data": {
      "text/plain": [
       "<seaborn.axisgrid.FacetGrid at 0x2261b317fa0>"
      ]
     },
     "execution_count": 293,
     "metadata": {},
     "output_type": "execute_result"
    },
    {
     "data": {
      "image/png": "[encoded data removed]",
      "text/plain": [
       "<Figure size 360x360 with 1 Axes>"
      ]
     },
     "metadata": {
      "needs_background": "light"
     },
     "output_type": "display_data"
    }
   ],
   "source": [
    "# distplot of age column\n",
    "sns.displot(X_train['age'])"
   ]
  },
  {
   "cell_type": "code",
   "execution_count": 294,
   "metadata": {
    "colab": {
     "base_uri": "https://localhost:8080/"
    },
    "id": "enwZ-sE6icMw",
    "outputId": "3076b385-75b7-4320-9f69-ba13d96cb283"
   },
   "outputs": [
    {
     "data": {
      "text/plain": [
       "{'whiskers': [<matplotlib.lines.Line2D at 0x2261bffee20>,\n",
       "  <matplotlib.lines.Line2D at 0x2261bed31c0>],\n",
       " 'caps': [<matplotlib.lines.Line2D at 0x2261bed3520>,\n",
       "  <matplotlib.lines.Line2D at 0x2261bed3880>],\n",
       " 'boxes': [<matplotlib.lines.Line2D at 0x2261bffeac0>],\n",
       " 'medians': [<matplotlib.lines.Line2D at 0x2261bed3bb0>],\n",
       " 'fliers': [<matplotlib.lines.Line2D at 0x2261bed3ee0>],\n",
       " 'means': []}"
      ]
     },
     "execution_count": 294,
     "metadata": {},
     "output_type": "execute_result"
    },
    {
     "data": {
      "image/png": "[encoded data removed]",
      "text/plain": [
       "<Figure size 432x288 with 1 Axes>"
      ]
     },
     "metadata": {
      "needs_background": "light"
     },
     "output_type": "display_data"
    }
   ],
   "source": [
    "# box plot of age column\n",
    "plt.boxplot(X_train['age'])"
   ]
  },
  {
   "cell_type": "code",
   "execution_count": 295,
   "metadata": {
    "colab": {
     "base_uri": "https://localhost:8080/"
    },
    "id": "-2CPsTfSicMw",
    "outputId": "56e97eca-c38c-4ec7-be2b-4e374f40be33"
   },
   "outputs": [
    {
     "name": "stdout",
     "output_type": "stream",
     "text": [
      "Lower : 14.0\n",
      "Upper : 54.0\n",
      "Identified outliers: 981\n",
      "{55, 56, 57, 58, 59, 60}\n",
      "Non-outlier observations: 37384\n"
     ]
    }
   ],
   "source": [
    "q_25 = percentile(X_train['age'], 25)   # 25 percentile\n",
    "q_75 = percentile(X_train['age'], 75)   # 75 percentile\n",
    "IQR = q_75 - q_25   #IQR\n",
    "cut_off = IQR * 1.5\n",
    "lower_cut = q_25 - cut_off # lower cut\n",
    "upper_cut = q_75 + cut_off # upper cut\n",
    "print(f\"Lower : {lower_cut}\")\n",
    "print(f\"Upper : {upper_cut}\")\n",
    "outliers = [x for x in X_train['age'] if x < lower_cut or x > upper_cut]\n",
    "print('Identified outliers: %d' % len(outliers)) # Length of outliers found\n",
    "unique_outliers = set(outliers)\n",
    "print(unique_outliers)\n",
    "outliers_removed = [x for x in X_train['age'] if x >= lower_cut and x <= upper_cut]\n",
    "print('Non-outlier observations: %d' % len(outliers_removed))"
   ]
  },
  {
   "cell_type": "markdown",
   "metadata": {
    "id": "PK3eQ3_7icMx"
   },
   "source": [
    "Now, we can see that 55 to 60 is showing as outlier, but the thing is reteriment age for any company is nearly 60 in india, so I am deciding to keep this and not remove, or This outliers shows that people are highly motivated to work in this company in thier 50's."
   ]
  },
  {
   "cell_type": "code",
   "execution_count": 296,
   "metadata": {
    "colab": {
     "base_uri": "https://localhost:8080/"
    },
    "id": "VWe_nZyFicMx",
    "outputId": "ade3e849-89f1-4fd8-aa96-3def705891e0"
   },
   "outputs": [
    {
     "data": {
      "text/plain": [
       "<AxesSubplot:xlabel='avg_training_score', ylabel='Density'>"
      ]
     },
     "execution_count": 296,
     "metadata": {},
     "output_type": "execute_result"
    },
    {
     "data": {
      "image/png": "[encoded data removed]",
      "text/plain": [
       "<Figure size 432x288 with 1 Axes>"
      ]
     },
     "metadata": {
      "needs_background": "light"
     },
     "output_type": "display_data"
    }
   ],
   "source": [
    "#Distplot of average trining score\n",
    "sns.distplot(X_train['avg_training_score'])"
   ]
  },
  {
   "cell_type": "markdown",
   "metadata": {
    "id": "o7F9s9MMVh3G"
   },
   "source": [
    "We can see maximium employee score in 3 ranges.\n",
    "\n",
    "1. Approx 50\n",
    "2. Approx 60\n",
    "3. Approx 80\n"
   ]
  },
  {
   "cell_type": "markdown",
   "metadata": {
    "id": "Wh9UhTUiicMx"
   },
   "source": [
    "#### Feature Engneering"
   ]
  },
  {
   "cell_type": "code",
   "execution_count": 297,
   "metadata": {
    "colab": {
     "base_uri": "https://localhost:8080/"
    },
    "id": "aeQSG8k5icMx",
    "outputId": "6804f3e0-e09b-4c21-f7ba-c1dc615ee27b"
   },
   "outputs": [
    {
     "data": {
      "text/html": [
       "<div>\n",
       "<style scoped>\n",
       "    .dataframe tbody tr th:only-of-type {\n",
       "        vertical-align: middle;\n",
       "    }\n",
       "\n",
       "    .dataframe tbody tr th {\n",
       "        vertical-align: top;\n",
       "    }\n",
       "\n",
       "    .dataframe thead th {\n",
       "        text-align: right;\n",
       "    }\n",
       "</style>\n",
       "<table border=\"1\" class=\"dataframe\">\n",
       "  <thead>\n",
       "    <tr style=\"text-align: right;\">\n",
       "      <th></th>\n",
       "      <th>employee_id</th>\n",
       "      <th>department</th>\n",
       "      <th>region</th>\n",
       "      <th>education</th>\n",
       "      <th>gender</th>\n",
       "      <th>recruitment_channel</th>\n",
       "      <th>no_of_trainings</th>\n",
       "      <th>age</th>\n",
       "      <th>previous_year_rating</th>\n",
       "      <th>length_of_service</th>\n",
       "      <th>KPIs_met &gt;80%</th>\n",
       "      <th>awards_won?</th>\n",
       "      <th>avg_training_score</th>\n",
       "      <th>is_promoted</th>\n",
       "      <th>education_NA</th>\n",
       "      <th>education_mode</th>\n",
       "      <th>previous_year_rating_na</th>\n",
       "      <th>previous_year_rating_na_median</th>\n",
       "    </tr>\n",
       "  </thead>\n",
       "  <tbody>\n",
       "    <tr>\n",
       "      <th>0</th>\n",
       "      <td>65438</td>\n",
       "      <td>Sales &amp; Marketing</td>\n",
       "      <td>region_7</td>\n",
       "      <td>Master's &amp; above</td>\n",
       "      <td>f</td>\n",
       "      <td>sourcing</td>\n",
       "      <td>1</td>\n",
       "      <td>35</td>\n",
       "      <td>5.0</td>\n",
       "      <td>8</td>\n",
       "      <td>1</td>\n",
       "      <td>0</td>\n",
       "      <td>49</td>\n",
       "      <td>0</td>\n",
       "      <td>Master's &amp; above</td>\n",
       "      <td>Master's &amp; above</td>\n",
       "      <td>5.0</td>\n",
       "      <td>5.0</td>\n",
       "    </tr>\n",
       "    <tr>\n",
       "      <th>1</th>\n",
       "      <td>65141</td>\n",
       "      <td>Operations</td>\n",
       "      <td>region_22</td>\n",
       "      <td>Bachelor's</td>\n",
       "      <td>m</td>\n",
       "      <td>other</td>\n",
       "      <td>1</td>\n",
       "      <td>30</td>\n",
       "      <td>5.0</td>\n",
       "      <td>4</td>\n",
       "      <td>0</td>\n",
       "      <td>0</td>\n",
       "      <td>60</td>\n",
       "      <td>0</td>\n",
       "      <td>Bachelor's</td>\n",
       "      <td>Bachelor's</td>\n",
       "      <td>5.0</td>\n",
       "      <td>5.0</td>\n",
       "    </tr>\n",
       "    <tr>\n",
       "      <th>2</th>\n",
       "      <td>7513</td>\n",
       "      <td>Sales &amp; Marketing</td>\n",
       "      <td>region_19</td>\n",
       "      <td>Bachelor's</td>\n",
       "      <td>m</td>\n",
       "      <td>sourcing</td>\n",
       "      <td>1</td>\n",
       "      <td>34</td>\n",
       "      <td>3.0</td>\n",
       "      <td>7</td>\n",
       "      <td>0</td>\n",
       "      <td>0</td>\n",
       "      <td>50</td>\n",
       "      <td>0</td>\n",
       "      <td>Bachelor's</td>\n",
       "      <td>Bachelor's</td>\n",
       "      <td>3.0</td>\n",
       "      <td>3.0</td>\n",
       "    </tr>\n",
       "    <tr>\n",
       "      <th>3</th>\n",
       "      <td>2542</td>\n",
       "      <td>Sales &amp; Marketing</td>\n",
       "      <td>region_23</td>\n",
       "      <td>Bachelor's</td>\n",
       "      <td>m</td>\n",
       "      <td>other</td>\n",
       "      <td>2</td>\n",
       "      <td>39</td>\n",
       "      <td>1.0</td>\n",
       "      <td>10</td>\n",
       "      <td>0</td>\n",
       "      <td>0</td>\n",
       "      <td>50</td>\n",
       "      <td>0</td>\n",
       "      <td>Bachelor's</td>\n",
       "      <td>Bachelor's</td>\n",
       "      <td>1.0</td>\n",
       "      <td>1.0</td>\n",
       "    </tr>\n",
       "    <tr>\n",
       "      <th>4</th>\n",
       "      <td>48945</td>\n",
       "      <td>Technology</td>\n",
       "      <td>region_26</td>\n",
       "      <td>Bachelor's</td>\n",
       "      <td>m</td>\n",
       "      <td>other</td>\n",
       "      <td>1</td>\n",
       "      <td>45</td>\n",
       "      <td>3.0</td>\n",
       "      <td>2</td>\n",
       "      <td>0</td>\n",
       "      <td>0</td>\n",
       "      <td>73</td>\n",
       "      <td>0</td>\n",
       "      <td>Bachelor's</td>\n",
       "      <td>Bachelor's</td>\n",
       "      <td>3.0</td>\n",
       "      <td>3.0</td>\n",
       "    </tr>\n",
       "  </tbody>\n",
       "</table>\n",
       "</div>"
      ],
      "text/plain": [
       "   employee_id         department     region         education gender  \\\n",
       "0        65438  Sales & Marketing   region_7  Master's & above      f   \n",
       "1        65141         Operations  region_22        Bachelor's      m   \n",
       "2         7513  Sales & Marketing  region_19        Bachelor's      m   \n",
       "3         2542  Sales & Marketing  region_23        Bachelor's      m   \n",
       "4        48945         Technology  region_26        Bachelor's      m   \n",
       "\n",
       "  recruitment_channel  no_of_trainings  age  previous_year_rating  \\\n",
       "0            sourcing                1   35                   5.0   \n",
       "1               other                1   30                   5.0   \n",
       "2            sourcing                1   34                   3.0   \n",
       "3               other                2   39                   1.0   \n",
       "4               other                1   45                   3.0   \n",
       "\n",
       "   length_of_service  KPIs_met >80%  awards_won?  avg_training_score  \\\n",
       "0                  8              1            0                  49   \n",
       "1                  4              0            0                  60   \n",
       "2                  7              0            0                  50   \n",
       "3                 10              0            0                  50   \n",
       "4                  2              0            0                  73   \n",
       "\n",
       "   is_promoted      education_NA    education_mode  previous_year_rating_na  \\\n",
       "0            0  Master's & above  Master's & above                      5.0   \n",
       "1            0        Bachelor's        Bachelor's                      5.0   \n",
       "2            0        Bachelor's        Bachelor's                      3.0   \n",
       "3            0        Bachelor's        Bachelor's                      1.0   \n",
       "4            0        Bachelor's        Bachelor's                      3.0   \n",
       "\n",
       "   previous_year_rating_na_median  \n",
       "0                             5.0  \n",
       "1                             5.0  \n",
       "2                             3.0  \n",
       "3                             1.0  \n",
       "4                             3.0  "
      ]
     },
     "execution_count": 297,
     "metadata": {},
     "output_type": "execute_result"
    }
   ],
   "source": [
    "X_train.head()"
   ]
  },
  {
   "cell_type": "markdown",
   "metadata": {
    "id": "sWIs11FX_POj"
   },
   "source": [
    "##### New Features"
   ]
  },
  {
   "cell_type": "markdown",
   "metadata": {
    "id": "CmIPpS1Z_zrw"
   },
   "source": [
    "1. 'score>90' : Who have score more than in 89 in training"
   ]
  },
  {
   "cell_type": "code",
   "execution_count": 298,
   "metadata": {
    "id": "3B0dlI5tV7c0"
   },
   "outputs": [],
   "source": [
    "X_train['score>90'] = np.where(X_train['avg_training_score']>89,1,0) # mapping score more than 89 as 1"
   ]
  },
  {
   "cell_type": "markdown",
   "metadata": {
    "id": "Cl-R4Nz6WZTs"
   },
   "source": [
    "Made this feature since, having score more than 90% increases chance of promotion"
   ]
  },
  {
   "cell_type": "markdown",
   "metadata": {
    "id": "jXBLv7-0_6DX"
   },
   "source": [
    "2. 'regional_promotion' : Region wise promotion"
   ]
  },
  {
   "cell_type": "code",
   "execution_count": 299,
   "metadata": {
    "id": "QsfR68CnXjdF"
   },
   "outputs": [],
   "source": [
    "region_is_promoted_dic = region_is_promoted.to_dict() # converting to dictonary"
   ]
  },
  {
   "cell_type": "code",
   "execution_count": 300,
   "metadata": {
    "id": "07BurqCFXrT9"
   },
   "outputs": [],
   "source": [
    "# % promotion in region > 12 would be 3, >7 would 2 , or 1\n",
    "for key in region_is_promoted_dic:\n",
    "    if(region_is_promoted_dic[key]>12):\n",
    "        region_is_promoted_dic[key] = 3\n",
    "    elif (region_is_promoted_dic[key]>7):\n",
    "        region_is_promoted_dic[key] = 2\n",
    "    else:\n",
    "        region_is_promoted_dic[key] = 1"
   ]
  },
  {
   "cell_type": "markdown",
   "metadata": {
    "id": "BRAbYRhXWqBc"
   },
   "source": [
    "Since in EDA we saw there is a group of region which have good,moderate,less no. of promotion"
   ]
  },
  {
   "cell_type": "code",
   "execution_count": 301,
   "metadata": {
    "id": "EJp2dazLZeU8"
   },
   "outputs": [],
   "source": [
    "X_train['regional_promotion'] = X_train['region'].map(region_is_promoted_dic)"
   ]
  },
  {
   "cell_type": "markdown",
   "metadata": {
    "id": "EQ_ZDJ-zACNU"
   },
   "source": [
    "3. 'promotion_on_trainings' : Promotion based on no. of training"
   ]
  },
  {
   "cell_type": "code",
   "execution_count": 302,
   "metadata": {
    "id": "9iWh_SQoaOj-"
   },
   "outputs": [],
   "source": [
    "training_is_promoted = training_is_promoted.to_dict()"
   ]
  },
  {
   "cell_type": "code",
   "execution_count": 303,
   "metadata": {
    "id": "_DwyuO3BaSRw"
   },
   "outputs": [],
   "source": [
    "# less tha 4 training as 2 , less than 7 training is 1 , else 0\n",
    "for key in training_is_promoted:\n",
    "    if(key<4):\n",
    "        training_is_promoted[key] = 2\n",
    "    elif (key<7):\n",
    "        training_is_promoted[key] = 1\n",
    "    else:\n",
    "        training_is_promoted[key] = 0"
   ]
  },
  {
   "cell_type": "markdown",
   "metadata": {
    "id": "-WQmKm51bIfE"
   },
   "source": [
    "Made this feature, since less no. of training increases chance of promotion"
   ]
  },
  {
   "cell_type": "code",
   "execution_count": 304,
   "metadata": {
    "id": "HM9tNYn3a5qE"
   },
   "outputs": [],
   "source": [
    "X_train['promotion_on_trainings'] = X_train['no_of_trainings'].map(training_is_promoted)"
   ]
  },
  {
   "cell_type": "markdown",
   "metadata": {
    "id": "WUdeoOKPAist"
   },
   "source": [
    "4. 'promotion_on_lengthOfService' : Promotion based on length of service"
   ]
  },
  {
   "cell_type": "code",
   "execution_count": 305,
   "metadata": {
    "id": "2XSLKne-c1tx"
   },
   "outputs": [],
   "source": [
    "los_is_promoted_dic = los_is_promoted.to_dict()"
   ]
  },
  {
   "cell_type": "code",
   "execution_count": 306,
   "metadata": {
    "id": "7R8sgbIgc6DS"
   },
   "outputs": [],
   "source": [
    "# length of service more than 1 and less than 6 is 3 , 7 to 10 as 2, else 1\n",
    "for key in los_is_promoted_dic:\n",
    "    if(key>1 and key<6):\n",
    "        los_is_promoted_dic[key] = 3\n",
    "    elif (key>6 and key<11):\n",
    "        los_is_promoted_dic[key] = 2\n",
    "    else:\n",
    "        los_is_promoted_dic[key] = 1"
   ]
  },
  {
   "cell_type": "markdown",
   "metadata": {
    "id": "WwsO5qCweBOx"
   },
   "source": [
    "Made this feature, since there is a pattern of promotion acc. to length of service"
   ]
  },
  {
   "cell_type": "code",
   "execution_count": 307,
   "metadata": {
    "id": "-ypmPo1sdLbz"
   },
   "outputs": [],
   "source": [
    "X_train['promotion_on_lengthOfService'] = X_train['length_of_service'].map(los_is_promoted_dic)"
   ]
  },
  {
   "cell_type": "markdown",
   "metadata": {
    "id": "2QeFHHxmDDJt"
   },
   "source": [
    "5. 'recruitment_rank' : based on no. of promotion"
   ]
  },
  {
   "cell_type": "code",
   "execution_count": 308,
   "metadata": {
    "id": "27c75l6Pe8Yl"
   },
   "outputs": [],
   "source": [
    "# recruitment channel ranking w.r.t promotion , since referred>sourcing>other\n",
    "recruitment_rank_dic = {'referred' : 3, 'sourcing' : 2, 'other' : 1}\n",
    "X_train['recruitment_rank'] = X_train['recruitment_channel'].map(recruitment_rank_dic)"
   ]
  },
  {
   "cell_type": "markdown",
   "metadata": {
    "id": "8yf78fa7_bbm"
   },
   "source": [
    "##### Encoding old categorical features"
   ]
  },
  {
   "cell_type": "code",
   "execution_count": 309,
   "metadata": {
    "id": "3iyqRfuzicMx"
   },
   "outputs": [],
   "source": [
    "# Male encoding\n",
    "gender_dic = {'m' : 1 , 'f' : 0}\n",
    "X_train.loc[:,'gender'] = X_train['gender'].map(gender_dic)"
   ]
  },
  {
   "cell_type": "code",
   "execution_count": 310,
   "metadata": {
    "colab": {
     "base_uri": "https://localhost:8080/"
    },
    "id": "TizA9g6VicMy",
    "outputId": "b49b37dc-c258-4b4c-9ea9-123671336c7a"
   },
   "outputs": [
    {
     "data": {
      "text/html": [
       "<div>\n",
       "<style scoped>\n",
       "    .dataframe tbody tr th:only-of-type {\n",
       "        vertical-align: middle;\n",
       "    }\n",
       "\n",
       "    .dataframe tbody tr th {\n",
       "        vertical-align: top;\n",
       "    }\n",
       "\n",
       "    .dataframe thead th {\n",
       "        text-align: right;\n",
       "    }\n",
       "</style>\n",
       "<table border=\"1\" class=\"dataframe\">\n",
       "  <thead>\n",
       "    <tr style=\"text-align: right;\">\n",
       "      <th></th>\n",
       "      <th>employee_id</th>\n",
       "      <th>department</th>\n",
       "      <th>region</th>\n",
       "      <th>education</th>\n",
       "      <th>gender</th>\n",
       "      <th>recruitment_channel</th>\n",
       "      <th>no_of_trainings</th>\n",
       "      <th>age</th>\n",
       "      <th>previous_year_rating</th>\n",
       "      <th>length_of_service</th>\n",
       "      <th>...</th>\n",
       "      <th>is_promoted</th>\n",
       "      <th>education_NA</th>\n",
       "      <th>education_mode</th>\n",
       "      <th>previous_year_rating_na</th>\n",
       "      <th>previous_year_rating_na_median</th>\n",
       "      <th>score&gt;90</th>\n",
       "      <th>regional_promotion</th>\n",
       "      <th>promotion_on_trainings</th>\n",
       "      <th>promotion_on_lengthOfService</th>\n",
       "      <th>recruitment_rank</th>\n",
       "    </tr>\n",
       "  </thead>\n",
       "  <tbody>\n",
       "    <tr>\n",
       "      <th>0</th>\n",
       "      <td>65438</td>\n",
       "      <td>Sales &amp; Marketing</td>\n",
       "      <td>region_7</td>\n",
       "      <td>Master's &amp; above</td>\n",
       "      <td>0</td>\n",
       "      <td>sourcing</td>\n",
       "      <td>1</td>\n",
       "      <td>35</td>\n",
       "      <td>5.0</td>\n",
       "      <td>8</td>\n",
       "      <td>...</td>\n",
       "      <td>0</td>\n",
       "      <td>Master's &amp; above</td>\n",
       "      <td>Master's &amp; above</td>\n",
       "      <td>5.0</td>\n",
       "      <td>5.0</td>\n",
       "      <td>0</td>\n",
       "      <td>2</td>\n",
       "      <td>2</td>\n",
       "      <td>2</td>\n",
       "      <td>2</td>\n",
       "    </tr>\n",
       "    <tr>\n",
       "      <th>1</th>\n",
       "      <td>65141</td>\n",
       "      <td>Operations</td>\n",
       "      <td>region_22</td>\n",
       "      <td>Bachelor's</td>\n",
       "      <td>1</td>\n",
       "      <td>other</td>\n",
       "      <td>1</td>\n",
       "      <td>30</td>\n",
       "      <td>5.0</td>\n",
       "      <td>4</td>\n",
       "      <td>...</td>\n",
       "      <td>0</td>\n",
       "      <td>Bachelor's</td>\n",
       "      <td>Bachelor's</td>\n",
       "      <td>5.0</td>\n",
       "      <td>5.0</td>\n",
       "      <td>0</td>\n",
       "      <td>2</td>\n",
       "      <td>2</td>\n",
       "      <td>3</td>\n",
       "      <td>1</td>\n",
       "    </tr>\n",
       "  </tbody>\n",
       "</table>\n",
       "<p>2 rows × 23 columns</p>\n",
       "</div>"
      ],
      "text/plain": [
       "   employee_id         department     region         education  gender  \\\n",
       "0        65438  Sales & Marketing   region_7  Master's & above       0   \n",
       "1        65141         Operations  region_22        Bachelor's       1   \n",
       "\n",
       "  recruitment_channel  no_of_trainings  age  previous_year_rating  \\\n",
       "0            sourcing                1   35                   5.0   \n",
       "1               other                1   30                   5.0   \n",
       "\n",
       "   length_of_service  ...  is_promoted      education_NA    education_mode  \\\n",
       "0                  8  ...            0  Master's & above  Master's & above   \n",
       "1                  4  ...            0        Bachelor's        Bachelor's   \n",
       "\n",
       "   previous_year_rating_na previous_year_rating_na_median score>90  \\\n",
       "0                      5.0                            5.0        0   \n",
       "1                      5.0                            5.0        0   \n",
       "\n",
       "   regional_promotion  promotion_on_trainings  promotion_on_lengthOfService  \\\n",
       "0                   2                       2                             2   \n",
       "1                   2                       2                             3   \n",
       "\n",
       "   recruitment_rank  \n",
       "0                 2  \n",
       "1                 1  \n",
       "\n",
       "[2 rows x 23 columns]"
      ]
     },
     "execution_count": 310,
     "metadata": {},
     "output_type": "execute_result"
    }
   ],
   "source": [
    "X_train.head(2)"
   ]
  },
  {
   "cell_type": "code",
   "execution_count": 451,
   "metadata": {},
   "outputs": [
    {
     "data": {
      "text/plain": [
       "{\"Bachelor's\": 0.08086746612677154,\n",
       " 'Below Secondary': 0.07495429616087751,\n",
       " \"Master's & above\": 0.0984251968503937,\n",
       " 'Not Available': 0.05406976744186046}"
      ]
     },
     "execution_count": 451,
     "metadata": {},
     "output_type": "execute_result"
    }
   ],
   "source": [
    "education_dic_na"
   ]
  },
  {
   "cell_type": "code",
   "execution_count": 311,
   "metadata": {
    "id": "qNaF393BicMy"
   },
   "outputs": [],
   "source": [
    "# Target encoding on department\n",
    "department_dic = X_train.groupby('department').is_promoted.mean().to_dict()\n",
    "X_train.loc[:,'department'] = X_train['department'].map(department_dic)"
   ]
  },
  {
   "cell_type": "code",
   "execution_count": 312,
   "metadata": {
    "colab": {
     "base_uri": "https://localhost:8080/"
    },
    "id": "XGbLDI94icMy",
    "outputId": "a58862a9-8f7b-411b-9297-db97e0bd4846"
   },
   "outputs": [
    {
     "data": {
      "text/plain": [
       "Bachelor's          27404\n",
       "Master's & above    10414\n",
       "Below Secondary       547\n",
       "Name: education_mode, dtype: int64"
      ]
     },
     "execution_count": 312,
     "metadata": {},
     "output_type": "execute_result"
    }
   ],
   "source": [
    "X_train['education_mode'].value_counts()"
   ]
  },
  {
   "cell_type": "code",
   "execution_count": 313,
   "metadata": {
    "id": "j9W_jxQ2icMy"
   },
   "outputs": [],
   "source": [
    "# Ordinal encoding on education\n",
    "education_dic_mode = {\"Below Secondary\" : 1 , \"Bachelor's\" : 2 , \"Master's & above\" : 3}\n",
    "X_train.loc[:,'education_mode'] = X_train['education_mode'].map(education_dic_mode)"
   ]
  },
  {
   "cell_type": "code",
   "execution_count": 314,
   "metadata": {
    "id": "GBsm5CCwicMy"
   },
   "outputs": [],
   "source": [
    "# Target encoding on education\n",
    "education_dic_na = X_train.groupby('education_NA').is_promoted.mean().to_dict()\n",
    "X_train.loc[:,'education_NA'] = X_train['education_NA'].map(education_dic_na)"
   ]
  },
  {
   "cell_type": "code",
   "execution_count": 315,
   "metadata": {
    "id": "JW7QAmlLicMz"
   },
   "outputs": [],
   "source": [
    "# Target encoding on region\n",
    "region_dic = X_train.groupby('region').is_promoted.mean().to_dict()\n",
    "X_train.loc[:,'region'] = X_train['region'].map(region_dic)"
   ]
  },
  {
   "cell_type": "code",
   "execution_count": 316,
   "metadata": {
    "id": "rPlhTflWicMz"
   },
   "outputs": [],
   "source": [
    "# Target encoding in recruitment channel\n",
    "recruitment_channel_dic = X_train.groupby('recruitment_channel').is_promoted.mean().to_dict()\n",
    "X_train.loc[:,'recruitment_channel'] = X_train['recruitment_channel'].map(recruitment_channel_dic)"
   ]
  },
  {
   "cell_type": "code",
   "execution_count": 317,
   "metadata": {
    "colab": {
     "base_uri": "https://localhost:8080/"
    },
    "id": "k9Kl-zn9icMz",
    "outputId": "e352401c-1df1-4e2d-8db4-7f942e8b3a6c"
   },
   "outputs": [
    {
     "data": {
      "text/html": [
       "<div>\n",
       "<style scoped>\n",
       "    .dataframe tbody tr th:only-of-type {\n",
       "        vertical-align: middle;\n",
       "    }\n",
       "\n",
       "    .dataframe tbody tr th {\n",
       "        vertical-align: top;\n",
       "    }\n",
       "\n",
       "    .dataframe thead th {\n",
       "        text-align: right;\n",
       "    }\n",
       "</style>\n",
       "<table border=\"1\" class=\"dataframe\">\n",
       "  <thead>\n",
       "    <tr style=\"text-align: right;\">\n",
       "      <th></th>\n",
       "      <th>employee_id</th>\n",
       "      <th>department</th>\n",
       "      <th>region</th>\n",
       "      <th>education</th>\n",
       "      <th>gender</th>\n",
       "      <th>recruitment_channel</th>\n",
       "      <th>no_of_trainings</th>\n",
       "      <th>age</th>\n",
       "      <th>previous_year_rating</th>\n",
       "      <th>length_of_service</th>\n",
       "      <th>...</th>\n",
       "      <th>is_promoted</th>\n",
       "      <th>education_NA</th>\n",
       "      <th>education_mode</th>\n",
       "      <th>previous_year_rating_na</th>\n",
       "      <th>previous_year_rating_na_median</th>\n",
       "      <th>score&gt;90</th>\n",
       "      <th>regional_promotion</th>\n",
       "      <th>promotion_on_trainings</th>\n",
       "      <th>promotion_on_lengthOfService</th>\n",
       "      <th>recruitment_rank</th>\n",
       "    </tr>\n",
       "  </thead>\n",
       "  <tbody>\n",
       "    <tr>\n",
       "      <th>0</th>\n",
       "      <td>65438</td>\n",
       "      <td>0.070888</td>\n",
       "      <td>0.103888</td>\n",
       "      <td>Master's &amp; above</td>\n",
       "      <td>0</td>\n",
       "      <td>0.084834</td>\n",
       "      <td>1</td>\n",
       "      <td>35</td>\n",
       "      <td>5.0</td>\n",
       "      <td>8</td>\n",
       "      <td>...</td>\n",
       "      <td>0</td>\n",
       "      <td>0.098425</td>\n",
       "      <td>3</td>\n",
       "      <td>5.0</td>\n",
       "      <td>5.0</td>\n",
       "      <td>0</td>\n",
       "      <td>2</td>\n",
       "      <td>2</td>\n",
       "      <td>2</td>\n",
       "      <td>2</td>\n",
       "    </tr>\n",
       "    <tr>\n",
       "      <th>1</th>\n",
       "      <td>65141</td>\n",
       "      <td>0.092049</td>\n",
       "      <td>0.113404</td>\n",
       "      <td>Bachelor's</td>\n",
       "      <td>1</td>\n",
       "      <td>0.082518</td>\n",
       "      <td>1</td>\n",
       "      <td>30</td>\n",
       "      <td>5.0</td>\n",
       "      <td>4</td>\n",
       "      <td>...</td>\n",
       "      <td>0</td>\n",
       "      <td>0.080867</td>\n",
       "      <td>2</td>\n",
       "      <td>5.0</td>\n",
       "      <td>5.0</td>\n",
       "      <td>0</td>\n",
       "      <td>2</td>\n",
       "      <td>2</td>\n",
       "      <td>3</td>\n",
       "      <td>1</td>\n",
       "    </tr>\n",
       "    <tr>\n",
       "      <th>2</th>\n",
       "      <td>7513</td>\n",
       "      <td>0.070888</td>\n",
       "      <td>0.060556</td>\n",
       "      <td>Bachelor's</td>\n",
       "      <td>1</td>\n",
       "      <td>0.084834</td>\n",
       "      <td>1</td>\n",
       "      <td>34</td>\n",
       "      <td>3.0</td>\n",
       "      <td>7</td>\n",
       "      <td>...</td>\n",
       "      <td>0</td>\n",
       "      <td>0.080867</td>\n",
       "      <td>2</td>\n",
       "      <td>3.0</td>\n",
       "      <td>3.0</td>\n",
       "      <td>0</td>\n",
       "      <td>1</td>\n",
       "      <td>2</td>\n",
       "      <td>2</td>\n",
       "      <td>2</td>\n",
       "    </tr>\n",
       "    <tr>\n",
       "      <th>3</th>\n",
       "      <td>2542</td>\n",
       "      <td>0.070888</td>\n",
       "      <td>0.103325</td>\n",
       "      <td>Bachelor's</td>\n",
       "      <td>1</td>\n",
       "      <td>0.082518</td>\n",
       "      <td>2</td>\n",
       "      <td>39</td>\n",
       "      <td>1.0</td>\n",
       "      <td>10</td>\n",
       "      <td>...</td>\n",
       "      <td>0</td>\n",
       "      <td>0.080867</td>\n",
       "      <td>2</td>\n",
       "      <td>1.0</td>\n",
       "      <td>1.0</td>\n",
       "      <td>0</td>\n",
       "      <td>2</td>\n",
       "      <td>2</td>\n",
       "      <td>2</td>\n",
       "      <td>1</td>\n",
       "    </tr>\n",
       "    <tr>\n",
       "      <th>4</th>\n",
       "      <td>48945</td>\n",
       "      <td>0.107379</td>\n",
       "      <td>0.062619</td>\n",
       "      <td>Bachelor's</td>\n",
       "      <td>1</td>\n",
       "      <td>0.082518</td>\n",
       "      <td>1</td>\n",
       "      <td>45</td>\n",
       "      <td>3.0</td>\n",
       "      <td>2</td>\n",
       "      <td>...</td>\n",
       "      <td>0</td>\n",
       "      <td>0.080867</td>\n",
       "      <td>2</td>\n",
       "      <td>3.0</td>\n",
       "      <td>3.0</td>\n",
       "      <td>0</td>\n",
       "      <td>1</td>\n",
       "      <td>2</td>\n",
       "      <td>3</td>\n",
       "      <td>1</td>\n",
       "    </tr>\n",
       "  </tbody>\n",
       "</table>\n",
       "<p>5 rows × 23 columns</p>\n",
       "</div>"
      ],
      "text/plain": [
       "   employee_id  department    region         education  gender  \\\n",
       "0        65438    0.070888  0.103888  Master's & above       0   \n",
       "1        65141    0.092049  0.113404        Bachelor's       1   \n",
       "2         7513    0.070888  0.060556        Bachelor's       1   \n",
       "3         2542    0.070888  0.103325        Bachelor's       1   \n",
       "4        48945    0.107379  0.062619        Bachelor's       1   \n",
       "\n",
       "   recruitment_channel  no_of_trainings  age  previous_year_rating  \\\n",
       "0             0.084834                1   35                   5.0   \n",
       "1             0.082518                1   30                   5.0   \n",
       "2             0.084834                1   34                   3.0   \n",
       "3             0.082518                2   39                   1.0   \n",
       "4             0.082518                1   45                   3.0   \n",
       "\n",
       "   length_of_service  ...  is_promoted  education_NA  education_mode  \\\n",
       "0                  8  ...            0      0.098425               3   \n",
       "1                  4  ...            0      0.080867               2   \n",
       "2                  7  ...            0      0.080867               2   \n",
       "3                 10  ...            0      0.080867               2   \n",
       "4                  2  ...            0      0.080867               2   \n",
       "\n",
       "   previous_year_rating_na  previous_year_rating_na_median  score>90  \\\n",
       "0                      5.0                             5.0         0   \n",
       "1                      5.0                             5.0         0   \n",
       "2                      3.0                             3.0         0   \n",
       "3                      1.0                             1.0         0   \n",
       "4                      3.0                             3.0         0   \n",
       "\n",
       "   regional_promotion  promotion_on_trainings  promotion_on_lengthOfService  \\\n",
       "0                   2                       2                             2   \n",
       "1                   2                       2                             3   \n",
       "2                   1                       2                             2   \n",
       "3                   2                       2                             2   \n",
       "4                   1                       2                             3   \n",
       "\n",
       "   recruitment_rank  \n",
       "0                 2  \n",
       "1                 1  \n",
       "2                 2  \n",
       "3                 1  \n",
       "4                 1  \n",
       "\n",
       "[5 rows x 23 columns]"
      ]
     },
     "execution_count": 317,
     "metadata": {},
     "output_type": "execute_result"
    }
   ],
   "source": [
    "X_train.head()"
   ]
  },
  {
   "cell_type": "code",
   "execution_count": 318,
   "metadata": {
    "colab": {
     "base_uri": "https://localhost:8080/"
    },
    "id": "8tBqEI55icMz",
    "outputId": "111ebada-1481-4ac3-fdf8-1a5b856d60a0"
   },
   "outputs": [
    {
     "data": {
      "text/plain": [
       "employee_id                          0\n",
       "department                           0\n",
       "region                               0\n",
       "education                         1720\n",
       "gender                               0\n",
       "recruitment_channel                  0\n",
       "no_of_trainings                      0\n",
       "age                                  0\n",
       "previous_year_rating              2907\n",
       "length_of_service                    0\n",
       "KPIs_met >80%                        0\n",
       "awards_won?                          0\n",
       "avg_training_score                   0\n",
       "is_promoted                          0\n",
       "education_NA                         0\n",
       "education_mode                       0\n",
       "previous_year_rating_na              0\n",
       "previous_year_rating_na_median       0\n",
       "score>90                             0\n",
       "regional_promotion                   0\n",
       "promotion_on_trainings               0\n",
       "promotion_on_lengthOfService         0\n",
       "recruitment_rank                     0\n",
       "dtype: int64"
      ]
     },
     "execution_count": 318,
     "metadata": {},
     "output_type": "execute_result"
    }
   ],
   "source": [
    "X_train.isnull().sum() # checking null"
   ]
  },
  {
   "cell_type": "markdown",
   "metadata": {
    "id": "3vNEcjZ6CWHa"
   },
   "source": [
    "No Null, education and previous_year_rating null impuation is done as another feature"
   ]
  },
  {
   "cell_type": "code",
   "execution_count": 319,
   "metadata": {
    "id": "8aCK_vAficM1"
   },
   "outputs": [],
   "source": [
    "X_train.drop(columns = ['education','previous_year_rating'],inplace=True) #removing it as other non-null feature is created from it"
   ]
  },
  {
   "cell_type": "markdown",
   "metadata": {
    "id": "a3Y698noECmO"
   },
   "source": [
    "\n",
    "\n",
    " \n",
    "#### **X_validation and X_test Preprocessing and Feature Engneering**\n",
    "\n"
   ]
  },
  {
   "cell_type": "code",
   "execution_count": 320,
   "metadata": {
    "colab": {
     "base_uri": "https://localhost:8080/"
    },
    "id": "0KlYUiDM-2rI",
    "outputId": "9c65e0f4-2b8f-40d1-f6ac-7d550f282352"
   },
   "outputs": [
    {
     "data": {
      "text/plain": [
       "employee_id               0\n",
       "department                0\n",
       "region                    0\n",
       "education               341\n",
       "gender                    0\n",
       "recruitment_channel       0\n",
       "no_of_trainings           0\n",
       "age                       0\n",
       "previous_year_rating    626\n",
       "length_of_service         0\n",
       "KPIs_met >80%             0\n",
       "awards_won?               0\n",
       "avg_training_score        0\n",
       "is_promoted               0\n",
       "dtype: int64"
      ]
     },
     "execution_count": 320,
     "metadata": {},
     "output_type": "execute_result"
    }
   ],
   "source": [
    "X_validation.isnull().sum()"
   ]
  },
  {
   "cell_type": "code",
   "execution_count": 321,
   "metadata": {
    "colab": {
     "base_uri": "https://localhost:8080/"
    },
    "id": "mxlkespR43Jo",
    "outputId": "5ed6af5f-10b6-4b28-bc10-1bc44054f48d"
   },
   "outputs": [
    {
     "data": {
      "text/plain": [
       "employee_id               0\n",
       "department                0\n",
       "region                    0\n",
       "education               348\n",
       "gender                    0\n",
       "recruitment_channel       0\n",
       "no_of_trainings           0\n",
       "age                       0\n",
       "previous_year_rating    591\n",
       "length_of_service         0\n",
       "KPIs_met >80%             0\n",
       "awards_won?               0\n",
       "avg_training_score        0\n",
       "is_promoted               0\n",
       "dtype: int64"
      ]
     },
     "execution_count": 321,
     "metadata": {},
     "output_type": "execute_result"
    }
   ],
   "source": [
    "X_test.isnull().sum()"
   ]
  },
  {
   "cell_type": "code",
   "execution_count": 322,
   "metadata": {
    "id": "dwieXb1N-2rJ"
   },
   "outputs": [],
   "source": [
    "# Education null imputation\n",
    "\n",
    "X_validation['education_NA'] = X_validation.loc[:,'education'].fillna('Not Available')\n",
    "X_validation['education_mode'] = X_validation.loc[:,'education'].fillna(education_column_mode)\n",
    "\n",
    "X_test['education_NA'] = X_test.loc[:,'education'].fillna('Not Available')\n",
    "X_test['education_mode'] = X_test.loc[:,'education'].fillna(education_column_mode)"
   ]
  },
  {
   "cell_type": "code",
   "execution_count": 323,
   "metadata": {
    "id": "i6CtqvLc-2rJ"
   },
   "outputs": [],
   "source": [
    "# Previous year rating null imputation\n",
    "\n",
    "X_validation['previous_year_rating_na'] = np.where(X_validation['previous_year_rating'].isnull(),X_validation.apply(new_rating,axis=1),X_validation['previous_year_rating'])\n",
    "X_validation['previous_year_rating_na_median'] = X_validation.loc[:,'previous_year_rating'].fillna(previous_year_rating_median)\n",
    "\n",
    "X_test['previous_year_rating_na'] = np.where(X_test['previous_year_rating'].isnull(),X_test.apply(new_rating,axis=1),X_test['previous_year_rating'])\n",
    "X_test['previous_year_rating_na_median'] = X_test.loc[:,'previous_year_rating'].fillna(previous_year_rating_median)"
   ]
  },
  {
   "cell_type": "code",
   "execution_count": 324,
   "metadata": {
    "id": "TXvj0vuBgHKl"
   },
   "outputs": [],
   "source": [
    "# New features added\n",
    "\n",
    "X_validation['score>90'] = np.where(X_validation['avg_training_score']>89,1,0)\n",
    "X_validation['regional_promotion'] = X_validation['region'].map(region_is_promoted_dic)\n",
    "X_validation['promotion_on_trainings'] = X_validation['no_of_trainings'].map(training_is_promoted)\n",
    "X_validation['promotion_on_lengthOfService'] = X_validation['length_of_service'].map(los_is_promoted_dic)\n",
    "X_validation['recruitment_rank'] = X_validation['recruitment_channel'].map(recruitment_rank_dic)\n",
    "\n",
    "X_test['score>90'] = np.where(X_test['avg_training_score']>89,1,0)\n",
    "X_test['regional_promotion'] = X_test['region'].map(region_is_promoted_dic)\n",
    "X_test['promotion_on_trainings'] = X_test['no_of_trainings'].map(training_is_promoted)\n",
    "X_test['promotion_on_lengthOfService'] = X_test['length_of_service'].map(los_is_promoted_dic)\n",
    "X_test['recruitment_rank'] = X_test['recruitment_channel'].map(recruitment_rank_dic)"
   ]
  },
  {
   "cell_type": "code",
   "execution_count": 325,
   "metadata": {
    "id": "PiUwX46G-2rK"
   },
   "outputs": [],
   "source": [
    "# All encodings\n",
    "\n",
    "X_validation['gender'] = X_validation['gender'].map(gender_dic)\n",
    "X_validation.loc[:,'department'] = X_validation['department'].map(department_dic)\n",
    "X_validation.loc[:,'education_mode'] = X_validation['education_mode'].map(education_dic_mode)\n",
    "X_validation.loc[:,'education_NA'] = X_validation['education_NA'].map(education_dic_na)\n",
    "X_validation.loc[:,'region'] = X_validation['region'].map(region_dic)\n",
    "X_validation.loc[:,'recruitment_channel'] = X_validation['recruitment_channel'].map(recruitment_channel_dic)\n",
    "\n",
    "X_test['gender'] = X_test['gender'].map(gender_dic)\n",
    "X_test.loc[:,'department'] = X_test['department'].map(department_dic)\n",
    "X_test.loc[:,'education_mode'] = X_test['education_mode'].map(education_dic_mode)\n",
    "X_test.loc[:,'education_NA'] = X_test['education_NA'].map(education_dic_na)\n",
    "X_test.loc[:,'region'] = X_test['region'].map(region_dic)\n",
    "X_test.loc[:,'recruitment_channel'] = X_test['recruitment_channel'].map(recruitment_channel_dic)"
   ]
  },
  {
   "cell_type": "code",
   "execution_count": 326,
   "metadata": {
    "colab": {
     "base_uri": "https://localhost:8080/"
    },
    "id": "yxtszB-H-2rL",
    "outputId": "515aacd3-4dd8-4ee6-91c4-3f3ee62e0c33"
   },
   "outputs": [
    {
     "data": {
      "text/html": [
       "<div>\n",
       "<style scoped>\n",
       "    .dataframe tbody tr th:only-of-type {\n",
       "        vertical-align: middle;\n",
       "    }\n",
       "\n",
       "    .dataframe tbody tr th {\n",
       "        vertical-align: top;\n",
       "    }\n",
       "\n",
       "    .dataframe thead th {\n",
       "        text-align: right;\n",
       "    }\n",
       "</style>\n",
       "<table border=\"1\" class=\"dataframe\">\n",
       "  <thead>\n",
       "    <tr style=\"text-align: right;\">\n",
       "      <th></th>\n",
       "      <th>employee_id</th>\n",
       "      <th>department</th>\n",
       "      <th>region</th>\n",
       "      <th>gender</th>\n",
       "      <th>recruitment_channel</th>\n",
       "      <th>no_of_trainings</th>\n",
       "      <th>age</th>\n",
       "      <th>length_of_service</th>\n",
       "      <th>KPIs_met &gt;80%</th>\n",
       "      <th>awards_won?</th>\n",
       "      <th>...</th>\n",
       "      <th>is_promoted</th>\n",
       "      <th>education_NA</th>\n",
       "      <th>education_mode</th>\n",
       "      <th>previous_year_rating_na</th>\n",
       "      <th>previous_year_rating_na_median</th>\n",
       "      <th>score&gt;90</th>\n",
       "      <th>regional_promotion</th>\n",
       "      <th>promotion_on_trainings</th>\n",
       "      <th>promotion_on_lengthOfService</th>\n",
       "      <th>recruitment_rank</th>\n",
       "    </tr>\n",
       "  </thead>\n",
       "  <tbody>\n",
       "    <tr>\n",
       "      <th>38365</th>\n",
       "      <td>74233</td>\n",
       "      <td>0.070888</td>\n",
       "      <td>0.043956</td>\n",
       "      <td>0</td>\n",
       "      <td>0.084834</td>\n",
       "      <td>1</td>\n",
       "      <td>26</td>\n",
       "      <td>1</td>\n",
       "      <td>0</td>\n",
       "      <td>0</td>\n",
       "      <td>...</td>\n",
       "      <td>0</td>\n",
       "      <td>0.080867</td>\n",
       "      <td>2</td>\n",
       "      <td>3.143418</td>\n",
       "      <td>3.0</td>\n",
       "      <td>0</td>\n",
       "      <td>1</td>\n",
       "      <td>2</td>\n",
       "      <td>1</td>\n",
       "      <td>2</td>\n",
       "    </tr>\n",
       "    <tr>\n",
       "      <th>38366</th>\n",
       "      <td>29616</td>\n",
       "      <td>0.070888</td>\n",
       "      <td>0.079461</td>\n",
       "      <td>1</td>\n",
       "      <td>0.084834</td>\n",
       "      <td>3</td>\n",
       "      <td>34</td>\n",
       "      <td>9</td>\n",
       "      <td>0</td>\n",
       "      <td>0</td>\n",
       "      <td>...</td>\n",
       "      <td>0</td>\n",
       "      <td>0.080867</td>\n",
       "      <td>2</td>\n",
       "      <td>4.000000</td>\n",
       "      <td>4.0</td>\n",
       "      <td>0</td>\n",
       "      <td>2</td>\n",
       "      <td>2</td>\n",
       "      <td>2</td>\n",
       "      <td>2</td>\n",
       "    </tr>\n",
       "    <tr>\n",
       "      <th>38367</th>\n",
       "      <td>40167</td>\n",
       "      <td>0.092049</td>\n",
       "      <td>0.079461</td>\n",
       "      <td>1</td>\n",
       "      <td>0.082518</td>\n",
       "      <td>2</td>\n",
       "      <td>34</td>\n",
       "      <td>2</td>\n",
       "      <td>0</td>\n",
       "      <td>0</td>\n",
       "      <td>...</td>\n",
       "      <td>0</td>\n",
       "      <td>0.098425</td>\n",
       "      <td>3</td>\n",
       "      <td>4.000000</td>\n",
       "      <td>4.0</td>\n",
       "      <td>0</td>\n",
       "      <td>2</td>\n",
       "      <td>2</td>\n",
       "      <td>3</td>\n",
       "      <td>1</td>\n",
       "    </tr>\n",
       "    <tr>\n",
       "      <th>38368</th>\n",
       "      <td>61052</td>\n",
       "      <td>0.070888</td>\n",
       "      <td>0.077915</td>\n",
       "      <td>1</td>\n",
       "      <td>0.082518</td>\n",
       "      <td>1</td>\n",
       "      <td>39</td>\n",
       "      <td>3</td>\n",
       "      <td>0</td>\n",
       "      <td>0</td>\n",
       "      <td>...</td>\n",
       "      <td>0</td>\n",
       "      <td>0.080867</td>\n",
       "      <td>2</td>\n",
       "      <td>4.000000</td>\n",
       "      <td>4.0</td>\n",
       "      <td>0</td>\n",
       "      <td>2</td>\n",
       "      <td>2</td>\n",
       "      <td>3</td>\n",
       "      <td>1</td>\n",
       "    </tr>\n",
       "    <tr>\n",
       "      <th>38369</th>\n",
       "      <td>48327</td>\n",
       "      <td>0.107379</td>\n",
       "      <td>0.043956</td>\n",
       "      <td>1</td>\n",
       "      <td>0.084834</td>\n",
       "      <td>1</td>\n",
       "      <td>24</td>\n",
       "      <td>1</td>\n",
       "      <td>1</td>\n",
       "      <td>0</td>\n",
       "      <td>...</td>\n",
       "      <td>0</td>\n",
       "      <td>0.080867</td>\n",
       "      <td>2</td>\n",
       "      <td>3.188243</td>\n",
       "      <td>3.0</td>\n",
       "      <td>0</td>\n",
       "      <td>1</td>\n",
       "      <td>2</td>\n",
       "      <td>1</td>\n",
       "      <td>2</td>\n",
       "    </tr>\n",
       "  </tbody>\n",
       "</table>\n",
       "<p>5 rows × 21 columns</p>\n",
       "</div>"
      ],
      "text/plain": [
       "       employee_id  department    region  gender  recruitment_channel  \\\n",
       "38365        74233    0.070888  0.043956       0             0.084834   \n",
       "38366        29616    0.070888  0.079461       1             0.084834   \n",
       "38367        40167    0.092049  0.079461       1             0.082518   \n",
       "38368        61052    0.070888  0.077915       1             0.082518   \n",
       "38369        48327    0.107379  0.043956       1             0.084834   \n",
       "\n",
       "       no_of_trainings  age  length_of_service  KPIs_met >80%  awards_won?  \\\n",
       "38365                1   26                  1              0            0   \n",
       "38366                3   34                  9              0            0   \n",
       "38367                2   34                  2              0            0   \n",
       "38368                1   39                  3              0            0   \n",
       "38369                1   24                  1              1            0   \n",
       "\n",
       "       ...  is_promoted  education_NA  education_mode  \\\n",
       "38365  ...            0      0.080867               2   \n",
       "38366  ...            0      0.080867               2   \n",
       "38367  ...            0      0.098425               3   \n",
       "38368  ...            0      0.080867               2   \n",
       "38369  ...            0      0.080867               2   \n",
       "\n",
       "       previous_year_rating_na  previous_year_rating_na_median  score>90  \\\n",
       "38365                 3.143418                             3.0         0   \n",
       "38366                 4.000000                             4.0         0   \n",
       "38367                 4.000000                             4.0         0   \n",
       "38368                 4.000000                             4.0         0   \n",
       "38369                 3.188243                             3.0         0   \n",
       "\n",
       "       regional_promotion  promotion_on_trainings  \\\n",
       "38365                   1                       2   \n",
       "38366                   2                       2   \n",
       "38367                   2                       2   \n",
       "38368                   2                       2   \n",
       "38369                   1                       2   \n",
       "\n",
       "       promotion_on_lengthOfService  recruitment_rank  \n",
       "38365                             1                 2  \n",
       "38366                             2                 2  \n",
       "38367                             3                 1  \n",
       "38368                             3                 1  \n",
       "38369                             1                 2  \n",
       "\n",
       "[5 rows x 21 columns]"
      ]
     },
     "execution_count": 326,
     "metadata": {},
     "output_type": "execute_result"
    }
   ],
   "source": [
    "# Removing old features having null which is already imputed as another feature\n",
    "\n",
    "X_validation.drop(columns = ['education','previous_year_rating'],inplace=True)\n",
    "X_validation.head()"
   ]
  },
  {
   "cell_type": "code",
   "execution_count": 327,
   "metadata": {
    "colab": {
     "base_uri": "https://localhost:8080/"
    },
    "id": "roKMl05e5n2k",
    "outputId": "175d93f1-c9ae-4993-95d1-22188a594170"
   },
   "outputs": [
    {
     "data": {
      "text/html": [
       "<div>\n",
       "<style scoped>\n",
       "    .dataframe tbody tr th:only-of-type {\n",
       "        vertical-align: middle;\n",
       "    }\n",
       "\n",
       "    .dataframe tbody tr th {\n",
       "        vertical-align: top;\n",
       "    }\n",
       "\n",
       "    .dataframe thead th {\n",
       "        text-align: right;\n",
       "    }\n",
       "</style>\n",
       "<table border=\"1\" class=\"dataframe\">\n",
       "  <thead>\n",
       "    <tr style=\"text-align: right;\">\n",
       "      <th></th>\n",
       "      <th>employee_id</th>\n",
       "      <th>department</th>\n",
       "      <th>region</th>\n",
       "      <th>gender</th>\n",
       "      <th>recruitment_channel</th>\n",
       "      <th>no_of_trainings</th>\n",
       "      <th>age</th>\n",
       "      <th>length_of_service</th>\n",
       "      <th>KPIs_met &gt;80%</th>\n",
       "      <th>awards_won?</th>\n",
       "      <th>...</th>\n",
       "      <th>is_promoted</th>\n",
       "      <th>education_NA</th>\n",
       "      <th>education_mode</th>\n",
       "      <th>previous_year_rating_na</th>\n",
       "      <th>previous_year_rating_na_median</th>\n",
       "      <th>score&gt;90</th>\n",
       "      <th>regional_promotion</th>\n",
       "      <th>promotion_on_trainings</th>\n",
       "      <th>promotion_on_lengthOfService</th>\n",
       "      <th>recruitment_rank</th>\n",
       "    </tr>\n",
       "  </thead>\n",
       "  <tbody>\n",
       "    <tr>\n",
       "      <th>46586</th>\n",
       "      <td>66102</td>\n",
       "      <td>0.070888</td>\n",
       "      <td>0.088036</td>\n",
       "      <td>1</td>\n",
       "      <td>0.082518</td>\n",
       "      <td>1</td>\n",
       "      <td>40</td>\n",
       "      <td>9</td>\n",
       "      <td>0</td>\n",
       "      <td>0</td>\n",
       "      <td>...</td>\n",
       "      <td>0</td>\n",
       "      <td>0.080867</td>\n",
       "      <td>2</td>\n",
       "      <td>5.0</td>\n",
       "      <td>5.0</td>\n",
       "      <td>0</td>\n",
       "      <td>2</td>\n",
       "      <td>2</td>\n",
       "      <td>2</td>\n",
       "      <td>1</td>\n",
       "    </tr>\n",
       "    <tr>\n",
       "      <th>46587</th>\n",
       "      <td>59945</td>\n",
       "      <td>0.070888</td>\n",
       "      <td>0.020134</td>\n",
       "      <td>0</td>\n",
       "      <td>0.082518</td>\n",
       "      <td>1</td>\n",
       "      <td>31</td>\n",
       "      <td>5</td>\n",
       "      <td>0</td>\n",
       "      <td>0</td>\n",
       "      <td>...</td>\n",
       "      <td>0</td>\n",
       "      <td>0.080867</td>\n",
       "      <td>2</td>\n",
       "      <td>1.0</td>\n",
       "      <td>1.0</td>\n",
       "      <td>0</td>\n",
       "      <td>1</td>\n",
       "      <td>2</td>\n",
       "      <td>3</td>\n",
       "      <td>1</td>\n",
       "    </tr>\n",
       "    <tr>\n",
       "      <th>46588</th>\n",
       "      <td>57636</td>\n",
       "      <td>0.092049</td>\n",
       "      <td>0.079461</td>\n",
       "      <td>1</td>\n",
       "      <td>0.084834</td>\n",
       "      <td>1</td>\n",
       "      <td>46</td>\n",
       "      <td>7</td>\n",
       "      <td>1</td>\n",
       "      <td>0</td>\n",
       "      <td>...</td>\n",
       "      <td>0</td>\n",
       "      <td>0.080867</td>\n",
       "      <td>2</td>\n",
       "      <td>3.0</td>\n",
       "      <td>3.0</td>\n",
       "      <td>0</td>\n",
       "      <td>2</td>\n",
       "      <td>2</td>\n",
       "      <td>2</td>\n",
       "      <td>2</td>\n",
       "    </tr>\n",
       "    <tr>\n",
       "      <th>46589</th>\n",
       "      <td>49121</td>\n",
       "      <td>0.107379</td>\n",
       "      <td>0.062619</td>\n",
       "      <td>1</td>\n",
       "      <td>0.082518</td>\n",
       "      <td>1</td>\n",
       "      <td>28</td>\n",
       "      <td>4</td>\n",
       "      <td>0</td>\n",
       "      <td>0</td>\n",
       "      <td>...</td>\n",
       "      <td>0</td>\n",
       "      <td>0.080867</td>\n",
       "      <td>2</td>\n",
       "      <td>1.0</td>\n",
       "      <td>1.0</td>\n",
       "      <td>0</td>\n",
       "      <td>1</td>\n",
       "      <td>2</td>\n",
       "      <td>3</td>\n",
       "      <td>1</td>\n",
       "    </tr>\n",
       "    <tr>\n",
       "      <th>46590</th>\n",
       "      <td>54015</td>\n",
       "      <td>0.070888</td>\n",
       "      <td>0.079461</td>\n",
       "      <td>1</td>\n",
       "      <td>0.082518</td>\n",
       "      <td>2</td>\n",
       "      <td>32</td>\n",
       "      <td>7</td>\n",
       "      <td>0</td>\n",
       "      <td>0</td>\n",
       "      <td>...</td>\n",
       "      <td>0</td>\n",
       "      <td>0.080867</td>\n",
       "      <td>2</td>\n",
       "      <td>5.0</td>\n",
       "      <td>5.0</td>\n",
       "      <td>0</td>\n",
       "      <td>2</td>\n",
       "      <td>2</td>\n",
       "      <td>2</td>\n",
       "      <td>1</td>\n",
       "    </tr>\n",
       "  </tbody>\n",
       "</table>\n",
       "<p>5 rows × 21 columns</p>\n",
       "</div>"
      ],
      "text/plain": [
       "       employee_id  department    region  gender  recruitment_channel  \\\n",
       "46586        66102    0.070888  0.088036       1             0.082518   \n",
       "46587        59945    0.070888  0.020134       0             0.082518   \n",
       "46588        57636    0.092049  0.079461       1             0.084834   \n",
       "46589        49121    0.107379  0.062619       1             0.082518   \n",
       "46590        54015    0.070888  0.079461       1             0.082518   \n",
       "\n",
       "       no_of_trainings  age  length_of_service  KPIs_met >80%  awards_won?  \\\n",
       "46586                1   40                  9              0            0   \n",
       "46587                1   31                  5              0            0   \n",
       "46588                1   46                  7              1            0   \n",
       "46589                1   28                  4              0            0   \n",
       "46590                2   32                  7              0            0   \n",
       "\n",
       "       ...  is_promoted  education_NA  education_mode  \\\n",
       "46586  ...            0      0.080867               2   \n",
       "46587  ...            0      0.080867               2   \n",
       "46588  ...            0      0.080867               2   \n",
       "46589  ...            0      0.080867               2   \n",
       "46590  ...            0      0.080867               2   \n",
       "\n",
       "       previous_year_rating_na  previous_year_rating_na_median  score>90  \\\n",
       "46586                      5.0                             5.0         0   \n",
       "46587                      1.0                             1.0         0   \n",
       "46588                      3.0                             3.0         0   \n",
       "46589                      1.0                             1.0         0   \n",
       "46590                      5.0                             5.0         0   \n",
       "\n",
       "       regional_promotion  promotion_on_trainings  \\\n",
       "46586                   2                       2   \n",
       "46587                   1                       2   \n",
       "46588                   2                       2   \n",
       "46589                   1                       2   \n",
       "46590                   2                       2   \n",
       "\n",
       "       promotion_on_lengthOfService  recruitment_rank  \n",
       "46586                             2                 1  \n",
       "46587                             3                 1  \n",
       "46588                             2                 2  \n",
       "46589                             3                 1  \n",
       "46590                             2                 1  \n",
       "\n",
       "[5 rows x 21 columns]"
      ]
     },
     "execution_count": 327,
     "metadata": {},
     "output_type": "execute_result"
    }
   ],
   "source": [
    "# Removing old features having null which is already imputed as another feature\n",
    "\n",
    "X_test.drop(columns = ['education','previous_year_rating'],inplace=True)\n",
    "X_test.head()"
   ]
  },
  {
   "cell_type": "code",
   "execution_count": 328,
   "metadata": {
    "id": "jHwE38TlIlUe"
   },
   "outputs": [],
   "source": [
    "#Seprating features and target in train, validation and test\n",
    "\n",
    "#Train\n",
    "x_train = X_train.drop(columns=['is_promoted'])\n",
    "y_train = X_train['is_promoted']\n",
    "\n",
    "#Validation\n",
    "x_val = X_validation.drop(columns=['is_promoted'])\n",
    "y_val = X_validation['is_promoted']\n",
    "\n",
    "#Test\n",
    "x_test = X_test.drop(columns=['is_promoted'])\n",
    "y_test = X_test['is_promoted']"
   ]
  },
  {
   "cell_type": "markdown",
   "metadata": {
    "id": "CS-M8WLkDp9a"
   },
   "source": [
    "#### Feature Scaling"
   ]
  },
  {
   "cell_type": "code",
   "execution_count": 329,
   "metadata": {
    "colab": {
     "base_uri": "https://localhost:8080/"
    },
    "id": "3Gdi0WaRDuUY",
    "outputId": "638fe43a-e123-4529-fc3d-774a056bb9ad"
   },
   "outputs": [
    {
     "data": {
      "text/html": [
       "<div>\n",
       "<style scoped>\n",
       "    .dataframe tbody tr th:only-of-type {\n",
       "        vertical-align: middle;\n",
       "    }\n",
       "\n",
       "    .dataframe tbody tr th {\n",
       "        vertical-align: top;\n",
       "    }\n",
       "\n",
       "    .dataframe thead th {\n",
       "        text-align: right;\n",
       "    }\n",
       "</style>\n",
       "<table border=\"1\" class=\"dataframe\">\n",
       "  <thead>\n",
       "    <tr style=\"text-align: right;\">\n",
       "      <th></th>\n",
       "      <th>employee_id</th>\n",
       "      <th>department</th>\n",
       "      <th>region</th>\n",
       "      <th>gender</th>\n",
       "      <th>recruitment_channel</th>\n",
       "      <th>no_of_trainings</th>\n",
       "      <th>age</th>\n",
       "      <th>length_of_service</th>\n",
       "      <th>KPIs_met &gt;80%</th>\n",
       "      <th>awards_won?</th>\n",
       "      <th>avg_training_score</th>\n",
       "      <th>education_NA</th>\n",
       "      <th>education_mode</th>\n",
       "      <th>previous_year_rating_na</th>\n",
       "      <th>previous_year_rating_na_median</th>\n",
       "      <th>score&gt;90</th>\n",
       "      <th>regional_promotion</th>\n",
       "      <th>promotion_on_trainings</th>\n",
       "      <th>promotion_on_lengthOfService</th>\n",
       "      <th>recruitment_rank</th>\n",
       "    </tr>\n",
       "  </thead>\n",
       "  <tbody>\n",
       "    <tr>\n",
       "      <th>0</th>\n",
       "      <td>0.835762</td>\n",
       "      <td>0.427911</td>\n",
       "      <td>0.649025</td>\n",
       "      <td>0.0</td>\n",
       "      <td>0.056183</td>\n",
       "      <td>0.000000</td>\n",
       "      <td>0.375</td>\n",
       "      <td>0.194444</td>\n",
       "      <td>1.0</td>\n",
       "      <td>0.0</td>\n",
       "      <td>0.166667</td>\n",
       "      <td>1.000000</td>\n",
       "      <td>1.0</td>\n",
       "      <td>1.0</td>\n",
       "      <td>1.0</td>\n",
       "      <td>0.0</td>\n",
       "      <td>0.5</td>\n",
       "      <td>1.0</td>\n",
       "      <td>0.5</td>\n",
       "      <td>0.5</td>\n",
       "    </tr>\n",
       "    <tr>\n",
       "      <th>1</th>\n",
       "      <td>0.831969</td>\n",
       "      <td>0.759664</td>\n",
       "      <td>0.722766</td>\n",
       "      <td>1.0</td>\n",
       "      <td>0.000000</td>\n",
       "      <td>0.000000</td>\n",
       "      <td>0.250</td>\n",
       "      <td>0.083333</td>\n",
       "      <td>0.0</td>\n",
       "      <td>0.0</td>\n",
       "      <td>0.350000</td>\n",
       "      <td>0.604158</td>\n",
       "      <td>0.5</td>\n",
       "      <td>1.0</td>\n",
       "      <td>1.0</td>\n",
       "      <td>0.0</td>\n",
       "      <td>0.5</td>\n",
       "      <td>1.0</td>\n",
       "      <td>1.0</td>\n",
       "      <td>0.0</td>\n",
       "    </tr>\n",
       "    <tr>\n",
       "      <th>2</th>\n",
       "      <td>0.095932</td>\n",
       "      <td>0.427911</td>\n",
       "      <td>0.313239</td>\n",
       "      <td>1.0</td>\n",
       "      <td>0.056183</td>\n",
       "      <td>0.000000</td>\n",
       "      <td>0.350</td>\n",
       "      <td>0.166667</td>\n",
       "      <td>0.0</td>\n",
       "      <td>0.0</td>\n",
       "      <td>0.183333</td>\n",
       "      <td>0.604158</td>\n",
       "      <td>0.5</td>\n",
       "      <td>0.5</td>\n",
       "      <td>0.5</td>\n",
       "      <td>0.0</td>\n",
       "      <td>0.0</td>\n",
       "      <td>1.0</td>\n",
       "      <td>0.5</td>\n",
       "      <td>0.5</td>\n",
       "    </tr>\n",
       "    <tr>\n",
       "      <th>3</th>\n",
       "      <td>0.032441</td>\n",
       "      <td>0.427911</td>\n",
       "      <td>0.644663</td>\n",
       "      <td>1.0</td>\n",
       "      <td>0.000000</td>\n",
       "      <td>0.111111</td>\n",
       "      <td>0.475</td>\n",
       "      <td>0.250000</td>\n",
       "      <td>0.0</td>\n",
       "      <td>0.0</td>\n",
       "      <td>0.183333</td>\n",
       "      <td>0.604158</td>\n",
       "      <td>0.5</td>\n",
       "      <td>0.0</td>\n",
       "      <td>0.0</td>\n",
       "      <td>0.0</td>\n",
       "      <td>0.5</td>\n",
       "      <td>1.0</td>\n",
       "      <td>0.5</td>\n",
       "      <td>0.0</td>\n",
       "    </tr>\n",
       "    <tr>\n",
       "      <th>4</th>\n",
       "      <td>0.625110</td>\n",
       "      <td>1.000000</td>\n",
       "      <td>0.329219</td>\n",
       "      <td>1.0</td>\n",
       "      <td>0.000000</td>\n",
       "      <td>0.000000</td>\n",
       "      <td>0.625</td>\n",
       "      <td>0.027778</td>\n",
       "      <td>0.0</td>\n",
       "      <td>0.0</td>\n",
       "      <td>0.566667</td>\n",
       "      <td>0.604158</td>\n",
       "      <td>0.5</td>\n",
       "      <td>0.5</td>\n",
       "      <td>0.5</td>\n",
       "      <td>0.0</td>\n",
       "      <td>0.0</td>\n",
       "      <td>1.0</td>\n",
       "      <td>1.0</td>\n",
       "      <td>0.0</td>\n",
       "    </tr>\n",
       "  </tbody>\n",
       "</table>\n",
       "</div>"
      ],
      "text/plain": [
       "   employee_id  department    region  gender  recruitment_channel  \\\n",
       "0     0.835762    0.427911  0.649025     0.0             0.056183   \n",
       "1     0.831969    0.759664  0.722766     1.0             0.000000   \n",
       "2     0.095932    0.427911  0.313239     1.0             0.056183   \n",
       "3     0.032441    0.427911  0.644663     1.0             0.000000   \n",
       "4     0.625110    1.000000  0.329219     1.0             0.000000   \n",
       "\n",
       "   no_of_trainings    age  length_of_service  KPIs_met >80%  awards_won?  \\\n",
       "0         0.000000  0.375           0.194444            1.0          0.0   \n",
       "1         0.000000  0.250           0.083333            0.0          0.0   \n",
       "2         0.000000  0.350           0.166667            0.0          0.0   \n",
       "3         0.111111  0.475           0.250000            0.0          0.0   \n",
       "4         0.000000  0.625           0.027778            0.0          0.0   \n",
       "\n",
       "   avg_training_score  education_NA  education_mode  previous_year_rating_na  \\\n",
       "0            0.166667      1.000000             1.0                      1.0   \n",
       "1            0.350000      0.604158             0.5                      1.0   \n",
       "2            0.183333      0.604158             0.5                      0.5   \n",
       "3            0.183333      0.604158             0.5                      0.0   \n",
       "4            0.566667      0.604158             0.5                      0.5   \n",
       "\n",
       "   previous_year_rating_na_median  score>90  regional_promotion  \\\n",
       "0                             1.0       0.0                 0.5   \n",
       "1                             1.0       0.0                 0.5   \n",
       "2                             0.5       0.0                 0.0   \n",
       "3                             0.0       0.0                 0.5   \n",
       "4                             0.5       0.0                 0.0   \n",
       "\n",
       "   promotion_on_trainings  promotion_on_lengthOfService  recruitment_rank  \n",
       "0                     1.0                           0.5               0.5  \n",
       "1                     1.0                           1.0               0.0  \n",
       "2                     1.0                           0.5               0.5  \n",
       "3                     1.0                           0.5               0.0  \n",
       "4                     1.0                           1.0               0.0  "
      ]
     },
     "execution_count": 329,
     "metadata": {},
     "output_type": "execute_result"
    }
   ],
   "source": [
    "# Training\n",
    "\n",
    "scaler = MinMaxScaler() # create an object\n",
    "x_train_scaled = scaler.fit_transform(x_train) # fit the scaler to the train set, and then transform it\n",
    "x_train_scaled = pd.DataFrame(x_train_scaled, columns = x_train.columns) # converting back to dataframe\n",
    "x_train_scaled.head()"
   ]
  },
  {
   "cell_type": "code",
   "execution_count": 330,
   "metadata": {
    "colab": {
     "base_uri": "https://localhost:8080/"
    },
    "id": "ol5Ez-p9EmS2",
    "outputId": "546fb165-f87d-4c68-f5fc-2e2a9d1c8baf"
   },
   "outputs": [
    {
     "data": {
      "text/html": [
       "<div>\n",
       "<style scoped>\n",
       "    .dataframe tbody tr th:only-of-type {\n",
       "        vertical-align: middle;\n",
       "    }\n",
       "\n",
       "    .dataframe tbody tr th {\n",
       "        vertical-align: top;\n",
       "    }\n",
       "\n",
       "    .dataframe thead th {\n",
       "        text-align: right;\n",
       "    }\n",
       "</style>\n",
       "<table border=\"1\" class=\"dataframe\">\n",
       "  <thead>\n",
       "    <tr style=\"text-align: right;\">\n",
       "      <th></th>\n",
       "      <th>employee_id</th>\n",
       "      <th>department</th>\n",
       "      <th>region</th>\n",
       "      <th>gender</th>\n",
       "      <th>recruitment_channel</th>\n",
       "      <th>no_of_trainings</th>\n",
       "      <th>age</th>\n",
       "      <th>length_of_service</th>\n",
       "      <th>KPIs_met &gt;80%</th>\n",
       "      <th>awards_won?</th>\n",
       "      <th>avg_training_score</th>\n",
       "      <th>education_NA</th>\n",
       "      <th>education_mode</th>\n",
       "      <th>previous_year_rating_na</th>\n",
       "      <th>previous_year_rating_na_median</th>\n",
       "      <th>score&gt;90</th>\n",
       "      <th>regional_promotion</th>\n",
       "      <th>promotion_on_trainings</th>\n",
       "      <th>promotion_on_lengthOfService</th>\n",
       "      <th>recruitment_rank</th>\n",
       "    </tr>\n",
       "  </thead>\n",
       "  <tbody>\n",
       "    <tr>\n",
       "      <th>0</th>\n",
       "      <td>0.948094</td>\n",
       "      <td>0.427911</td>\n",
       "      <td>0.184599</td>\n",
       "      <td>0.0</td>\n",
       "      <td>0.056183</td>\n",
       "      <td>0.000000</td>\n",
       "      <td>0.150</td>\n",
       "      <td>0.000000</td>\n",
       "      <td>0.0</td>\n",
       "      <td>0.0</td>\n",
       "      <td>0.150000</td>\n",
       "      <td>0.604158</td>\n",
       "      <td>0.5</td>\n",
       "      <td>0.535854</td>\n",
       "      <td>0.50</td>\n",
       "      <td>0.0</td>\n",
       "      <td>0.0</td>\n",
       "      <td>1.0</td>\n",
       "      <td>0.0</td>\n",
       "      <td>0.5</td>\n",
       "    </tr>\n",
       "    <tr>\n",
       "      <th>1</th>\n",
       "      <td>0.378236</td>\n",
       "      <td>0.427911</td>\n",
       "      <td>0.459733</td>\n",
       "      <td>1.0</td>\n",
       "      <td>0.056183</td>\n",
       "      <td>0.222222</td>\n",
       "      <td>0.350</td>\n",
       "      <td>0.222222</td>\n",
       "      <td>0.0</td>\n",
       "      <td>0.0</td>\n",
       "      <td>0.183333</td>\n",
       "      <td>0.604158</td>\n",
       "      <td>0.5</td>\n",
       "      <td>0.750000</td>\n",
       "      <td>0.75</td>\n",
       "      <td>0.0</td>\n",
       "      <td>0.5</td>\n",
       "      <td>1.0</td>\n",
       "      <td>0.5</td>\n",
       "      <td>0.5</td>\n",
       "    </tr>\n",
       "    <tr>\n",
       "      <th>2</th>\n",
       "      <td>0.512996</td>\n",
       "      <td>0.759664</td>\n",
       "      <td>0.459733</td>\n",
       "      <td>1.0</td>\n",
       "      <td>0.000000</td>\n",
       "      <td>0.111111</td>\n",
       "      <td>0.350</td>\n",
       "      <td>0.027778</td>\n",
       "      <td>0.0</td>\n",
       "      <td>0.0</td>\n",
       "      <td>0.366667</td>\n",
       "      <td>1.000000</td>\n",
       "      <td>1.0</td>\n",
       "      <td>0.750000</td>\n",
       "      <td>0.75</td>\n",
       "      <td>0.0</td>\n",
       "      <td>0.5</td>\n",
       "      <td>1.0</td>\n",
       "      <td>1.0</td>\n",
       "      <td>0.0</td>\n",
       "    </tr>\n",
       "    <tr>\n",
       "      <th>3</th>\n",
       "      <td>0.779743</td>\n",
       "      <td>0.427911</td>\n",
       "      <td>0.447756</td>\n",
       "      <td>1.0</td>\n",
       "      <td>0.000000</td>\n",
       "      <td>0.000000</td>\n",
       "      <td>0.475</td>\n",
       "      <td>0.055556</td>\n",
       "      <td>0.0</td>\n",
       "      <td>0.0</td>\n",
       "      <td>0.116667</td>\n",
       "      <td>0.604158</td>\n",
       "      <td>0.5</td>\n",
       "      <td>0.750000</td>\n",
       "      <td>0.75</td>\n",
       "      <td>0.0</td>\n",
       "      <td>0.5</td>\n",
       "      <td>1.0</td>\n",
       "      <td>1.0</td>\n",
       "      <td>0.0</td>\n",
       "    </tr>\n",
       "    <tr>\n",
       "      <th>4</th>\n",
       "      <td>0.617217</td>\n",
       "      <td>1.000000</td>\n",
       "      <td>0.184599</td>\n",
       "      <td>1.0</td>\n",
       "      <td>0.056183</td>\n",
       "      <td>0.000000</td>\n",
       "      <td>0.100</td>\n",
       "      <td>0.000000</td>\n",
       "      <td>1.0</td>\n",
       "      <td>0.0</td>\n",
       "      <td>0.683333</td>\n",
       "      <td>0.604158</td>\n",
       "      <td>0.5</td>\n",
       "      <td>0.547061</td>\n",
       "      <td>0.50</td>\n",
       "      <td>0.0</td>\n",
       "      <td>0.0</td>\n",
       "      <td>1.0</td>\n",
       "      <td>0.0</td>\n",
       "      <td>0.5</td>\n",
       "    </tr>\n",
       "  </tbody>\n",
       "</table>\n",
       "</div>"
      ],
      "text/plain": [
       "   employee_id  department    region  gender  recruitment_channel  \\\n",
       "0     0.948094    0.427911  0.184599     0.0             0.056183   \n",
       "1     0.378236    0.427911  0.459733     1.0             0.056183   \n",
       "2     0.512996    0.759664  0.459733     1.0             0.000000   \n",
       "3     0.779743    0.427911  0.447756     1.0             0.000000   \n",
       "4     0.617217    1.000000  0.184599     1.0             0.056183   \n",
       "\n",
       "   no_of_trainings    age  length_of_service  KPIs_met >80%  awards_won?  \\\n",
       "0         0.000000  0.150           0.000000            0.0          0.0   \n",
       "1         0.222222  0.350           0.222222            0.0          0.0   \n",
       "2         0.111111  0.350           0.027778            0.0          0.0   \n",
       "3         0.000000  0.475           0.055556            0.0          0.0   \n",
       "4         0.000000  0.100           0.000000            1.0          0.0   \n",
       "\n",
       "   avg_training_score  education_NA  education_mode  previous_year_rating_na  \\\n",
       "0            0.150000      0.604158             0.5                 0.535854   \n",
       "1            0.183333      0.604158             0.5                 0.750000   \n",
       "2            0.366667      1.000000             1.0                 0.750000   \n",
       "3            0.116667      0.604158             0.5                 0.750000   \n",
       "4            0.683333      0.604158             0.5                 0.547061   \n",
       "\n",
       "   previous_year_rating_na_median  score>90  regional_promotion  \\\n",
       "0                            0.50       0.0                 0.0   \n",
       "1                            0.75       0.0                 0.5   \n",
       "2                            0.75       0.0                 0.5   \n",
       "3                            0.75       0.0                 0.5   \n",
       "4                            0.50       0.0                 0.0   \n",
       "\n",
       "   promotion_on_trainings  promotion_on_lengthOfService  recruitment_rank  \n",
       "0                     1.0                           0.0               0.5  \n",
       "1                     1.0                           0.5               0.5  \n",
       "2                     1.0                           1.0               0.0  \n",
       "3                     1.0                           1.0               0.0  \n",
       "4                     1.0                           0.0               0.5  "
      ]
     },
     "execution_count": 330,
     "metadata": {},
     "output_type": "execute_result"
    }
   ],
   "source": [
    "# Validation\n",
    "\n",
    "x_val_scaled = scaler.transform(x_val) #  transform it\n",
    "x_val_scaled = pd.DataFrame(x_val_scaled, columns = x_val.columns) # converting back to dataframe\n",
    "x_val_scaled.head()"
   ]
  },
  {
   "cell_type": "code",
   "execution_count": 331,
   "metadata": {
    "colab": {
     "base_uri": "https://localhost:8080/"
    },
    "id": "wh8ot4MJE6WJ",
    "outputId": "abeb8ac9-1f24-4d9b-b00c-b3fcd8972a09"
   },
   "outputs": [
    {
     "data": {
      "text/html": [
       "<div>\n",
       "<style scoped>\n",
       "    .dataframe tbody tr th:only-of-type {\n",
       "        vertical-align: middle;\n",
       "    }\n",
       "\n",
       "    .dataframe tbody tr th {\n",
       "        vertical-align: top;\n",
       "    }\n",
       "\n",
       "    .dataframe thead th {\n",
       "        text-align: right;\n",
       "    }\n",
       "</style>\n",
       "<table border=\"1\" class=\"dataframe\">\n",
       "  <thead>\n",
       "    <tr style=\"text-align: right;\">\n",
       "      <th></th>\n",
       "      <th>employee_id</th>\n",
       "      <th>department</th>\n",
       "      <th>region</th>\n",
       "      <th>gender</th>\n",
       "      <th>recruitment_channel</th>\n",
       "      <th>no_of_trainings</th>\n",
       "      <th>age</th>\n",
       "      <th>length_of_service</th>\n",
       "      <th>KPIs_met &gt;80%</th>\n",
       "      <th>awards_won?</th>\n",
       "      <th>avg_training_score</th>\n",
       "      <th>education_NA</th>\n",
       "      <th>education_mode</th>\n",
       "      <th>previous_year_rating_na</th>\n",
       "      <th>previous_year_rating_na_median</th>\n",
       "      <th>score&gt;90</th>\n",
       "      <th>regional_promotion</th>\n",
       "      <th>promotion_on_trainings</th>\n",
       "      <th>promotion_on_lengthOfService</th>\n",
       "      <th>recruitment_rank</th>\n",
       "    </tr>\n",
       "  </thead>\n",
       "  <tbody>\n",
       "    <tr>\n",
       "      <th>0</th>\n",
       "      <td>0.844243</td>\n",
       "      <td>0.427911</td>\n",
       "      <td>0.526183</td>\n",
       "      <td>1.0</td>\n",
       "      <td>0.000000</td>\n",
       "      <td>0.000000</td>\n",
       "      <td>0.500</td>\n",
       "      <td>0.222222</td>\n",
       "      <td>0.0</td>\n",
       "      <td>0.0</td>\n",
       "      <td>0.166667</td>\n",
       "      <td>0.604158</td>\n",
       "      <td>0.5</td>\n",
       "      <td>1.0</td>\n",
       "      <td>1.0</td>\n",
       "      <td>0.0</td>\n",
       "      <td>0.5</td>\n",
       "      <td>1.0</td>\n",
       "      <td>0.5</td>\n",
       "      <td>0.0</td>\n",
       "    </tr>\n",
       "    <tr>\n",
       "      <th>1</th>\n",
       "      <td>0.765604</td>\n",
       "      <td>0.427911</td>\n",
       "      <td>0.000000</td>\n",
       "      <td>0.0</td>\n",
       "      <td>0.000000</td>\n",
       "      <td>0.000000</td>\n",
       "      <td>0.275</td>\n",
       "      <td>0.111111</td>\n",
       "      <td>0.0</td>\n",
       "      <td>0.0</td>\n",
       "      <td>0.216667</td>\n",
       "      <td>0.604158</td>\n",
       "      <td>0.5</td>\n",
       "      <td>0.0</td>\n",
       "      <td>0.0</td>\n",
       "      <td>0.0</td>\n",
       "      <td>0.0</td>\n",
       "      <td>1.0</td>\n",
       "      <td>1.0</td>\n",
       "      <td>0.0</td>\n",
       "    </tr>\n",
       "    <tr>\n",
       "      <th>2</th>\n",
       "      <td>0.736113</td>\n",
       "      <td>0.759664</td>\n",
       "      <td>0.459733</td>\n",
       "      <td>1.0</td>\n",
       "      <td>0.056183</td>\n",
       "      <td>0.000000</td>\n",
       "      <td>0.650</td>\n",
       "      <td>0.166667</td>\n",
       "      <td>1.0</td>\n",
       "      <td>0.0</td>\n",
       "      <td>0.400000</td>\n",
       "      <td>0.604158</td>\n",
       "      <td>0.5</td>\n",
       "      <td>0.5</td>\n",
       "      <td>0.5</td>\n",
       "      <td>0.0</td>\n",
       "      <td>0.5</td>\n",
       "      <td>1.0</td>\n",
       "      <td>0.5</td>\n",
       "      <td>0.5</td>\n",
       "    </tr>\n",
       "    <tr>\n",
       "      <th>3</th>\n",
       "      <td>0.627358</td>\n",
       "      <td>1.000000</td>\n",
       "      <td>0.329219</td>\n",
       "      <td>1.0</td>\n",
       "      <td>0.000000</td>\n",
       "      <td>0.000000</td>\n",
       "      <td>0.200</td>\n",
       "      <td>0.083333</td>\n",
       "      <td>0.0</td>\n",
       "      <td>0.0</td>\n",
       "      <td>0.683333</td>\n",
       "      <td>0.604158</td>\n",
       "      <td>0.5</td>\n",
       "      <td>0.0</td>\n",
       "      <td>0.0</td>\n",
       "      <td>0.0</td>\n",
       "      <td>0.0</td>\n",
       "      <td>1.0</td>\n",
       "      <td>1.0</td>\n",
       "      <td>0.0</td>\n",
       "    </tr>\n",
       "    <tr>\n",
       "      <th>4</th>\n",
       "      <td>0.689865</td>\n",
       "      <td>0.427911</td>\n",
       "      <td>0.459733</td>\n",
       "      <td>1.0</td>\n",
       "      <td>0.000000</td>\n",
       "      <td>0.111111</td>\n",
       "      <td>0.300</td>\n",
       "      <td>0.166667</td>\n",
       "      <td>0.0</td>\n",
       "      <td>0.0</td>\n",
       "      <td>0.133333</td>\n",
       "      <td>0.604158</td>\n",
       "      <td>0.5</td>\n",
       "      <td>1.0</td>\n",
       "      <td>1.0</td>\n",
       "      <td>0.0</td>\n",
       "      <td>0.5</td>\n",
       "      <td>1.0</td>\n",
       "      <td>0.5</td>\n",
       "      <td>0.0</td>\n",
       "    </tr>\n",
       "  </tbody>\n",
       "</table>\n",
       "</div>"
      ],
      "text/plain": [
       "   employee_id  department    region  gender  recruitment_channel  \\\n",
       "0     0.844243    0.427911  0.526183     1.0             0.000000   \n",
       "1     0.765604    0.427911  0.000000     0.0             0.000000   \n",
       "2     0.736113    0.759664  0.459733     1.0             0.056183   \n",
       "3     0.627358    1.000000  0.329219     1.0             0.000000   \n",
       "4     0.689865    0.427911  0.459733     1.0             0.000000   \n",
       "\n",
       "   no_of_trainings    age  length_of_service  KPIs_met >80%  awards_won?  \\\n",
       "0         0.000000  0.500           0.222222            0.0          0.0   \n",
       "1         0.000000  0.275           0.111111            0.0          0.0   \n",
       "2         0.000000  0.650           0.166667            1.0          0.0   \n",
       "3         0.000000  0.200           0.083333            0.0          0.0   \n",
       "4         0.111111  0.300           0.166667            0.0          0.0   \n",
       "\n",
       "   avg_training_score  education_NA  education_mode  previous_year_rating_na  \\\n",
       "0            0.166667      0.604158             0.5                      1.0   \n",
       "1            0.216667      0.604158             0.5                      0.0   \n",
       "2            0.400000      0.604158             0.5                      0.5   \n",
       "3            0.683333      0.604158             0.5                      0.0   \n",
       "4            0.133333      0.604158             0.5                      1.0   \n",
       "\n",
       "   previous_year_rating_na_median  score>90  regional_promotion  \\\n",
       "0                             1.0       0.0                 0.5   \n",
       "1                             0.0       0.0                 0.0   \n",
       "2                             0.5       0.0                 0.5   \n",
       "3                             0.0       0.0                 0.0   \n",
       "4                             1.0       0.0                 0.5   \n",
       "\n",
       "   promotion_on_trainings  promotion_on_lengthOfService  recruitment_rank  \n",
       "0                     1.0                           0.5               0.0  \n",
       "1                     1.0                           1.0               0.0  \n",
       "2                     1.0                           0.5               0.5  \n",
       "3                     1.0                           1.0               0.0  \n",
       "4                     1.0                           0.5               0.0  "
      ]
     },
     "execution_count": 331,
     "metadata": {},
     "output_type": "execute_result"
    }
   ],
   "source": [
    "# Test\n",
    "\n",
    "x_test_scaled = scaler.transform(x_test) #  transform it\n",
    "x_test_scaled = pd.DataFrame(x_test_scaled, columns = x_test.columns) # converting back to dataframe\n",
    "x_test_scaled.head()"
   ]
  },
  {
   "cell_type": "markdown",
   "metadata": {
    "id": "O6ek8qAgXgwb"
   },
   "source": [
    "#### Feature Selection\n"
   ]
  },
  {
   "cell_type": "code",
   "execution_count": 332,
   "metadata": {
    "colab": {
     "base_uri": "https://localhost:8080/",
     "height": 243
    },
    "id": "syfTOKLMicM1",
    "outputId": "f7ce50af-de86-40ff-8e2a-5fe51867ce12"
   },
   "outputs": [
    {
     "data": {
      "text/html": [
       "<div>\n",
       "<style scoped>\n",
       "    .dataframe tbody tr th:only-of-type {\n",
       "        vertical-align: middle;\n",
       "    }\n",
       "\n",
       "    .dataframe tbody tr th {\n",
       "        vertical-align: top;\n",
       "    }\n",
       "\n",
       "    .dataframe thead th {\n",
       "        text-align: right;\n",
       "    }\n",
       "</style>\n",
       "<table border=\"1\" class=\"dataframe\">\n",
       "  <thead>\n",
       "    <tr style=\"text-align: right;\">\n",
       "      <th></th>\n",
       "      <th>employee_id</th>\n",
       "      <th>department</th>\n",
       "      <th>region</th>\n",
       "      <th>gender</th>\n",
       "      <th>recruitment_channel</th>\n",
       "      <th>no_of_trainings</th>\n",
       "      <th>age</th>\n",
       "      <th>length_of_service</th>\n",
       "      <th>KPIs_met &gt;80%</th>\n",
       "      <th>awards_won?</th>\n",
       "      <th>avg_training_score</th>\n",
       "      <th>education_NA</th>\n",
       "      <th>education_mode</th>\n",
       "      <th>previous_year_rating_na</th>\n",
       "      <th>previous_year_rating_na_median</th>\n",
       "      <th>score&gt;90</th>\n",
       "      <th>regional_promotion</th>\n",
       "      <th>promotion_on_trainings</th>\n",
       "      <th>promotion_on_lengthOfService</th>\n",
       "      <th>recruitment_rank</th>\n",
       "    </tr>\n",
       "  </thead>\n",
       "  <tbody>\n",
       "    <tr>\n",
       "      <th>0</th>\n",
       "      <td>0.835762</td>\n",
       "      <td>0.427911</td>\n",
       "      <td>0.649025</td>\n",
       "      <td>0.0</td>\n",
       "      <td>0.056183</td>\n",
       "      <td>0.000000</td>\n",
       "      <td>0.375</td>\n",
       "      <td>0.194444</td>\n",
       "      <td>1.0</td>\n",
       "      <td>0.0</td>\n",
       "      <td>0.166667</td>\n",
       "      <td>1.000000</td>\n",
       "      <td>1.0</td>\n",
       "      <td>1.0</td>\n",
       "      <td>1.0</td>\n",
       "      <td>0.0</td>\n",
       "      <td>0.5</td>\n",
       "      <td>1.0</td>\n",
       "      <td>0.5</td>\n",
       "      <td>0.5</td>\n",
       "    </tr>\n",
       "    <tr>\n",
       "      <th>1</th>\n",
       "      <td>0.831969</td>\n",
       "      <td>0.759664</td>\n",
       "      <td>0.722766</td>\n",
       "      <td>1.0</td>\n",
       "      <td>0.000000</td>\n",
       "      <td>0.000000</td>\n",
       "      <td>0.250</td>\n",
       "      <td>0.083333</td>\n",
       "      <td>0.0</td>\n",
       "      <td>0.0</td>\n",
       "      <td>0.350000</td>\n",
       "      <td>0.604158</td>\n",
       "      <td>0.5</td>\n",
       "      <td>1.0</td>\n",
       "      <td>1.0</td>\n",
       "      <td>0.0</td>\n",
       "      <td>0.5</td>\n",
       "      <td>1.0</td>\n",
       "      <td>1.0</td>\n",
       "      <td>0.0</td>\n",
       "    </tr>\n",
       "    <tr>\n",
       "      <th>2</th>\n",
       "      <td>0.095932</td>\n",
       "      <td>0.427911</td>\n",
       "      <td>0.313239</td>\n",
       "      <td>1.0</td>\n",
       "      <td>0.056183</td>\n",
       "      <td>0.000000</td>\n",
       "      <td>0.350</td>\n",
       "      <td>0.166667</td>\n",
       "      <td>0.0</td>\n",
       "      <td>0.0</td>\n",
       "      <td>0.183333</td>\n",
       "      <td>0.604158</td>\n",
       "      <td>0.5</td>\n",
       "      <td>0.5</td>\n",
       "      <td>0.5</td>\n",
       "      <td>0.0</td>\n",
       "      <td>0.0</td>\n",
       "      <td>1.0</td>\n",
       "      <td>0.5</td>\n",
       "      <td>0.5</td>\n",
       "    </tr>\n",
       "    <tr>\n",
       "      <th>3</th>\n",
       "      <td>0.032441</td>\n",
       "      <td>0.427911</td>\n",
       "      <td>0.644663</td>\n",
       "      <td>1.0</td>\n",
       "      <td>0.000000</td>\n",
       "      <td>0.111111</td>\n",
       "      <td>0.475</td>\n",
       "      <td>0.250000</td>\n",
       "      <td>0.0</td>\n",
       "      <td>0.0</td>\n",
       "      <td>0.183333</td>\n",
       "      <td>0.604158</td>\n",
       "      <td>0.5</td>\n",
       "      <td>0.0</td>\n",
       "      <td>0.0</td>\n",
       "      <td>0.0</td>\n",
       "      <td>0.5</td>\n",
       "      <td>1.0</td>\n",
       "      <td>0.5</td>\n",
       "      <td>0.0</td>\n",
       "    </tr>\n",
       "    <tr>\n",
       "      <th>4</th>\n",
       "      <td>0.625110</td>\n",
       "      <td>1.000000</td>\n",
       "      <td>0.329219</td>\n",
       "      <td>1.0</td>\n",
       "      <td>0.000000</td>\n",
       "      <td>0.000000</td>\n",
       "      <td>0.625</td>\n",
       "      <td>0.027778</td>\n",
       "      <td>0.0</td>\n",
       "      <td>0.0</td>\n",
       "      <td>0.566667</td>\n",
       "      <td>0.604158</td>\n",
       "      <td>0.5</td>\n",
       "      <td>0.5</td>\n",
       "      <td>0.5</td>\n",
       "      <td>0.0</td>\n",
       "      <td>0.0</td>\n",
       "      <td>1.0</td>\n",
       "      <td>1.0</td>\n",
       "      <td>0.0</td>\n",
       "    </tr>\n",
       "  </tbody>\n",
       "</table>\n",
       "</div>"
      ],
      "text/plain": [
       "   employee_id  department    region  gender  recruitment_channel  \\\n",
       "0     0.835762    0.427911  0.649025     0.0             0.056183   \n",
       "1     0.831969    0.759664  0.722766     1.0             0.000000   \n",
       "2     0.095932    0.427911  0.313239     1.0             0.056183   \n",
       "3     0.032441    0.427911  0.644663     1.0             0.000000   \n",
       "4     0.625110    1.000000  0.329219     1.0             0.000000   \n",
       "\n",
       "   no_of_trainings    age  length_of_service  KPIs_met >80%  awards_won?  \\\n",
       "0         0.000000  0.375           0.194444            1.0          0.0   \n",
       "1         0.000000  0.250           0.083333            0.0          0.0   \n",
       "2         0.000000  0.350           0.166667            0.0          0.0   \n",
       "3         0.111111  0.475           0.250000            0.0          0.0   \n",
       "4         0.000000  0.625           0.027778            0.0          0.0   \n",
       "\n",
       "   avg_training_score  education_NA  education_mode  previous_year_rating_na  \\\n",
       "0            0.166667      1.000000             1.0                      1.0   \n",
       "1            0.350000      0.604158             0.5                      1.0   \n",
       "2            0.183333      0.604158             0.5                      0.5   \n",
       "3            0.183333      0.604158             0.5                      0.0   \n",
       "4            0.566667      0.604158             0.5                      0.5   \n",
       "\n",
       "   previous_year_rating_na_median  score>90  regional_promotion  \\\n",
       "0                             1.0       0.0                 0.5   \n",
       "1                             1.0       0.0                 0.5   \n",
       "2                             0.5       0.0                 0.0   \n",
       "3                             0.0       0.0                 0.5   \n",
       "4                             0.5       0.0                 0.0   \n",
       "\n",
       "   promotion_on_trainings  promotion_on_lengthOfService  recruitment_rank  \n",
       "0                     1.0                           0.5               0.5  \n",
       "1                     1.0                           1.0               0.0  \n",
       "2                     1.0                           0.5               0.5  \n",
       "3                     1.0                           0.5               0.0  \n",
       "4                     1.0                           1.0               0.0  "
      ]
     },
     "execution_count": 332,
     "metadata": {},
     "output_type": "execute_result"
    }
   ],
   "source": [
    "x_train_scaled.head()"
   ]
  },
  {
   "cell_type": "markdown",
   "metadata": {
    "id": "OhwtEKA3XtZQ"
   },
   "source": [
    "##### Filter Method"
   ]
  },
  {
   "cell_type": "markdown",
   "metadata": {
    "id": "hvfQJ90dX6NO"
   },
   "source": [
    "1.   Correlation Matrix\n",
    "\n"
   ]
  },
  {
   "cell_type": "code",
   "execution_count": 333,
   "metadata": {
    "colab": {
     "base_uri": "https://localhost:8080/"
    },
    "id": "5WEjPH9xicM2",
    "outputId": "f82b94ac-25f2-43d3-9dbf-388b963a3a79"
   },
   "outputs": [
    {
     "data": {
      "image/png": "[encoded data removed]",
      "text/plain": [
       "<Figure size 792x792 with 2 Axes>"
      ]
     },
     "metadata": {
      "needs_background": "light"
     },
     "output_type": "display_data"
    }
   ],
   "source": [
    "corr_features = set()\n",
    "# create the correlation matrix (default to pearson)\n",
    "corr_matrix = X_train.corr()\n",
    "# optional: display a heatmap of the correlation matrix\n",
    "plt.figure(figsize=(11,11))\n",
    "sns.heatmap(corr_matrix)\n",
    "for i in range(len(corr_matrix.columns)):\n",
    "    for j in range(i):\n",
    "        if abs(corr_matrix.iloc[i, j]) > 0.90:\n",
    "            colname = corr_matrix.columns[i]\n",
    "            corr_features.add(colname)"
   ]
  },
  {
   "cell_type": "code",
   "execution_count": 334,
   "metadata": {
    "colab": {
     "base_uri": "https://localhost:8080/"
    },
    "id": "YoaKco4lz1rK",
    "outputId": "94b51c7c-72b2-4515-81aa-cab68a3fe14f"
   },
   "outputs": [
    {
     "data": {
      "text/plain": [
       "{'previous_year_rating_na_median'}"
      ]
     },
     "execution_count": 334,
     "metadata": {},
     "output_type": "execute_result"
    }
   ],
   "source": [
    "corr_features"
   ]
  },
  {
   "cell_type": "markdown",
   "metadata": {
    "id": "C2rs0RzsCt1o"
   },
   "source": [
    "Checking Corelation between null columns we made and target, so that we can keep one."
   ]
  },
  {
   "cell_type": "code",
   "execution_count": 335,
   "metadata": {
    "colab": {
     "base_uri": "https://localhost:8080/"
    },
    "id": "jIYY2K7ouPDO",
    "outputId": "c77e92c0-5062-45bf-efc1-872d2b1a9862"
   },
   "outputs": [
    {
     "name": "stdout",
     "output_type": "stream",
     "text": [
      "education_NA : 0.036741663489285495\n",
      "education_mode : 0.030373288121805987\n"
     ]
    }
   ],
   "source": [
    "print(f\"education_NA : {corr_matrix.loc['education_NA', 'is_promoted']}\")\n",
    "print(f\"education_mode : {corr_matrix.loc['education_mode', 'is_promoted']}\")"
   ]
  },
  {
   "cell_type": "markdown",
   "metadata": {
    "id": "OKFVZIqYIZb0"
   },
   "source": [
    "education_mode have less corelation with is_promoted"
   ]
  },
  {
   "cell_type": "code",
   "execution_count": 336,
   "metadata": {
    "colab": {
     "base_uri": "https://localhost:8080/"
    },
    "id": "e3dJabm1zAvW",
    "outputId": "56f6ee98-2d97-4fc6-d0ad-d9f58a4d344e"
   },
   "outputs": [
    {
     "name": "stdout",
     "output_type": "stream",
     "text": [
      "previous_year_rating_na : 0.15551528020503272\n",
      "previous_year_rating_na_median : 0.155043043855513\n"
     ]
    }
   ],
   "source": [
    "print(f\"previous_year_rating_na : {corr_matrix.loc['previous_year_rating_na', 'is_promoted']}\")\n",
    "print(f\"previous_year_rating_na_median : {corr_matrix.loc['previous_year_rating_na_median', 'is_promoted']}\")"
   ]
  },
  {
   "cell_type": "markdown",
   "metadata": {
    "id": "BOYepW3uIjuD"
   },
   "source": [
    "previous_year_rating_na_median  have less corelation with is_promoted"
   ]
  },
  {
   "cell_type": "code",
   "execution_count": 337,
   "metadata": {
    "id": "HPUPul1ryXfq"
   },
   "outputs": [],
   "source": [
    "x_train_scaled.drop(labels=['education_mode','employee_id'], axis=1, inplace=True)\n",
    "x_train_scaled.drop(labels=corr_features, axis=1, inplace=True)\n",
    "\n",
    "x_val_scaled.drop(labels=['education_mode','employee_id'], axis=1, inplace=True)\n",
    "x_val_scaled.drop(labels=corr_features, axis=1, inplace=True)\n",
    "\n",
    "x_test_scaled.drop(labels=['education_mode','employee_id'], axis=1, inplace=True)\n",
    "x_test_scaled.drop(labels=corr_features, axis=1, inplace=True)"
   ]
  },
  {
   "cell_type": "code",
   "execution_count": 338,
   "metadata": {},
   "outputs": [],
   "source": [
    "x_train.drop(labels=['education_mode','employee_id'], axis=1, inplace=True)\n",
    "x_train.drop(labels=corr_features, axis=1, inplace=True)\n",
    "\n",
    "x_val.drop(labels=['education_mode','employee_id'], axis=1, inplace=True)\n",
    "x_val.drop(labels=corr_features, axis=1, inplace=True)\n",
    "\n",
    "x_test.drop(labels=['education_mode','employee_id'], axis=1, inplace=True)\n",
    "x_test.drop(labels=corr_features, axis=1, inplace=True)"
   ]
  },
  {
   "cell_type": "markdown",
   "metadata": {
    "id": "633HQHC2DvWZ"
   },
   "source": [
    "\n",
    "\n",
    "2.   Using SelectKBest\n",
    "\n"
   ]
  },
  {
   "cell_type": "code",
   "execution_count": 339,
   "metadata": {},
   "outputs": [
    {
     "data": {
      "text/plain": [
       "Index(['department', 'region', 'gender', 'recruitment_channel',\n",
       "       'no_of_trainings', 'age', 'length_of_service', 'KPIs_met >80%',\n",
       "       'awards_won?', 'avg_training_score', 'education_NA',\n",
       "       'previous_year_rating_na', 'score>90', 'regional_promotion',\n",
       "       'promotion_on_trainings', 'promotion_on_lengthOfService',\n",
       "       'recruitment_rank'],\n",
       "      dtype='object')"
      ]
     },
     "execution_count": 339,
     "metadata": {},
     "output_type": "execute_result"
    }
   ],
   "source": [
    "x_train_scaled.columns"
   ]
  },
  {
   "cell_type": "code",
   "execution_count": 340,
   "metadata": {
    "colab": {
     "base_uri": "https://localhost:8080/"
    },
    "id": "gCJu52z27rB7",
    "outputId": "0d99f1ca-f5b0-4da8-a43a-b7287330e7f5"
   },
   "outputs": [
    {
     "name": "stdout",
     "output_type": "stream",
     "text": [
      "\n",
      " \n",
      "Top 10 features selected by <function mutual_info_classif at 0x0000022612DDA160> : \n",
      " \n",
      "\n",
      "Index(['department', 'region', 'KPIs_met >80%', 'awards_won?',\n",
      "       'avg_training_score', 'education_NA', 'previous_year_rating_na',\n",
      "       'score>90', 'regional_promotion', 'promotion_on_trainings'],\n",
      "      dtype='object')\n",
      "----------------------------------------------------------------------------------------------------\n",
      "\n",
      " \n",
      "Top 10 features selected by <function chi2 at 0x0000022612B90B80> : \n",
      " \n",
      "\n",
      "Index(['department', 'region', 'recruitment_channel', 'KPIs_met >80%',\n",
      "       'awards_won?', 'avg_training_score', 'education_NA',\n",
      "       'previous_year_rating_na', 'score>90', 'regional_promotion'],\n",
      "      dtype='object')\n",
      "----------------------------------------------------------------------------------------------------\n",
      "\n",
      " \n",
      "Top 10 features selected by <function f_classif at 0x0000022612B90A60> : \n",
      " \n",
      "\n",
      "Index(['department', 'region', 'no_of_trainings', 'KPIs_met >80%',\n",
      "       'awards_won?', 'avg_training_score', 'education_NA',\n",
      "       'previous_year_rating_na', 'score>90', 'regional_promotion'],\n",
      "      dtype='object')\n",
      "----------------------------------------------------------------------------------------------------\n",
      "\n",
      " \n",
      "Common Features selected in SelectKBest :\n",
      "['previous_year_rating_na', 'region', 'department', 'score>90', 'avg_training_score', 'education_NA', 'awards_won?', 'KPIs_met >80%', 'regional_promotion']\n"
     ]
    }
   ],
   "source": [
    "# select the number of features you want to retain.\n",
    "select_k = 10\n",
    "features = {}\n",
    "for algo in [mutual_info_classif,chi2,f_classif]:\n",
    "  # create the SelectKBest \n",
    "  selection = SelectKBest(algo, k=select_k).fit(x_train_scaled, y_train)\n",
    "  # display the retained features.\n",
    "  features[algo] = x_train_scaled.columns[selection.get_support()]\n",
    "  print(f\"\\n \\nTop {select_k} features selected by {algo} : \\n \\n\")\n",
    "  print(features[algo])\n",
    "  print('-'*100)\n",
    "mic_set = set(features[mutual_info_classif])\n",
    "chi_set = set(features[chi2])\n",
    "fc_set = set(features[f_classif])\n",
    "my_set = mic_set.intersection(chi_set)\n",
    "final_set = my_set.intersection(fc_set)\n",
    "feature_by_SelectKBest = list(final_set)\n",
    "print(\"\\n \\nCommon Features selected in SelectKBest :\")\n",
    "print(feature_by_SelectKBest)"
   ]
  },
  {
   "cell_type": "markdown",
   "metadata": {
    "id": "N6F91e0YZHpu"
   },
   "source": [
    "3. Univariate ROC-AUC\n",
    "\n"
   ]
  },
  {
   "cell_type": "code",
   "execution_count": 341,
   "metadata": {
    "colab": {
     "base_uri": "https://localhost:8080/"
    },
    "id": "Y-sjSSfe9D3H",
    "outputId": "e395ac69-cc51-4e98-a70b-1fc9b7bb8b71"
   },
   "outputs": [
    {
     "name": "stdout",
     "output_type": "stream",
     "text": [
      "KPIs_met >80%                   0.677759\n",
      "avg_training_score              0.663619\n",
      "previous_year_rating_na         0.633412\n",
      "region                          0.571083\n",
      "score>90                        0.561596\n",
      "awards_won?                     0.555025\n",
      "regional_promotion              0.550911\n",
      "department                      0.540645\n",
      "gender                          0.522902\n",
      "education_NA                    0.521806\n",
      "promotion_on_lengthOfService    0.517849\n",
      "length_of_service               0.515825\n",
      "no_of_trainings                 0.514072\n",
      "age                             0.513884\n",
      "recruitment_channel             0.503222\n",
      "recruitment_rank                0.503222\n",
      "promotion_on_trainings          0.501786\n",
      "dtype: float64\n",
      "\n",
      " \n",
      "Top 10 Features selected in Univariate ROC-AUC :\n",
      "['KPIs_met >80%', 'avg_training_score', 'previous_year_rating_na', 'region', 'score>90', 'awards_won?', 'regional_promotion', 'department', 'gender', 'education_NA']\n"
     ]
    }
   ],
   "source": [
    "# list of the resulting scores.\n",
    "roc_values = []\n",
    "\n",
    "# loop over all features and calculate the score.\n",
    "for feature in x_train.columns:\n",
    "    clf = DecisionTreeClassifier()\n",
    "    clf.fit(x_train[feature].to_frame(), y_train)\n",
    "    y_scored = clf.predict_proba(x_val[feature].to_frame())\n",
    "    roc_values.append(roc_auc_score(y_val, y_scored[:, 1]))\n",
    "\n",
    "# create a Pandas Series for visualisation.\n",
    "roc_values = pd.Series(roc_values)\n",
    "roc_values.index = x_train_scaled.columns\n",
    "\n",
    "# show the results.\n",
    "print(roc_values.sort_values(ascending=False))\n",
    "\n",
    "# Selecting top 10 Features\n",
    "print(\"\\n \\nTop 10 Features selected in Univariate ROC-AUC :\")\n",
    "features_by_UnivariateROCAUC = list(roc_values.sort_values(ascending=False)[:10].index)\n",
    "print(features_by_UnivariateROCAUC)"
   ]
  },
  {
   "cell_type": "markdown",
   "metadata": {
    "id": "EztQkc8ZKoUo"
   },
   "source": [
    "##### Wrapper Method"
   ]
  },
  {
   "cell_type": "markdown",
   "metadata": {
    "id": "gwqsHA3QK63J"
   },
   "source": [
    "\n",
    "\n",
    "Forward Feature Selection\n",
    "\n"
   ]
  },
  {
   "cell_type": "code",
   "execution_count": 114,
   "metadata": {
    "colab": {
     "base_uri": "https://localhost:8080/"
    },
    "id": "Bgt_fGQM_UnS",
    "outputId": "5be70bb6-fe53-4429-98a8-eec7479df5d2"
   },
   "outputs": [
    {
     "name": "stdout",
     "output_type": "stream",
     "text": [
      "Features by Forward Selection : \n",
      " \n",
      "Index(['department', 'gender', 'no_of_trainings', 'awards_won?',\n",
      "       'avg_training_score', 'education_NA', 'score>90', 'regional_promotion',\n",
      "       'promotion_on_trainings', 'recruitment_rank'],\n",
      "      dtype='object')\n",
      "\n",
      "\n",
      "Prediction Score : 0.9352274051559213\n"
     ]
    }
   ],
   "source": [
    "sfs = SequentialFeatureSelector(RandomForestClassifier(), \n",
    "           k_features=10, \n",
    "           forward=True, \n",
    "           floating=False,\n",
    "           scoring='accuracy',\n",
    "           cv=2)\n",
    "\n",
    "# fit the object to the training data.\n",
    "sfs = sfs.fit(x_train_scaled, y_train)\n",
    "\n",
    "# print the selected features.\n",
    "features_by_forward = x_train_scaled.columns[list(sfs.k_feature_idx_)]\n",
    "print(f\"Features by Forward Selection : \\n \\n{features_by_forward}\")\n",
    "\n",
    "# print the final prediction score.\n",
    "print(f\"\\n\\nPrediction Score : {sfs.k_score_}\")"
   ]
  },
  {
   "cell_type": "markdown",
   "metadata": {
    "id": "TnwRIP-aVtb9"
   },
   "source": [
    "To save time, I have wriiten above result in text\n",
    "\n",
    "Features by Forward Selection : \n",
    " \n",
    "Index(['department', 'gender', 'no_of_trainings', 'awards_won?',\n",
    "       'avg_training_score', 'education_NA', 'score>90', 'regional_promotion',\n",
    "       'promotion_on_trainings', 'recruitment_rank'],\n",
    "      dtype='object')\n",
    "\n",
    "\n",
    "Prediction Score : 0.9352274051559213"
   ]
  },
  {
   "cell_type": "code",
   "execution_count": 342,
   "metadata": {
    "id": "Xj6LasRpV540"
   },
   "outputs": [],
   "source": [
    "features_by_forward = ['department', 'gender', 'no_of_trainings', 'awards_won?', 'avg_training_score', 'education_NA', 'score>90', 'regional_promotion', 'promotion_on_trainings', 'recruitment_rank']"
   ]
  },
  {
   "cell_type": "markdown",
   "metadata": {
    "id": "pFFcyfpBQz9A"
   },
   "source": [
    "##### Embedded Methods"
   ]
  },
  {
   "cell_type": "markdown",
   "metadata": {
    "id": "2vrUSRUwTKWi"
   },
   "source": [
    "\n",
    "\n",
    "Tree-based Feature Importance (XGB)\n",
    "\n"
   ]
  },
  {
   "cell_type": "code",
   "execution_count": 343,
   "metadata": {
    "colab": {
     "base_uri": "https://localhost:8080/"
    },
    "id": "kY14zuCgTQ8x",
    "outputId": "7cd1de87-e310-4d25-b9d7-9fa28c2f6f05"
   },
   "outputs": [
    {
     "name": "stdout",
     "output_type": "stream",
     "text": [
      "[18:29:35] WARNING: C:/Users/Administrator/workspace/xgboost-win64_release_1.4.0/src/learner.cc:1095: Starting in XGBoost 1.3.0, the default evaluation metric used with the objective 'binary:logistic' was changed from 'error' to 'logloss'. Explicitly set eval_metric if you'd like to restore the old behavior.\n",
      "KPIs_met >80%                   0.463760\n",
      "awards_won?                     0.130932\n",
      "department                      0.118135\n",
      "avg_training_score              0.094127\n",
      "previous_year_rating_na         0.043342\n",
      "region                          0.022101\n",
      "no_of_trainings                 0.021371\n",
      "education_NA                    0.020631\n",
      "gender                          0.018663\n",
      "length_of_service               0.017998\n",
      "age                             0.017790\n",
      "recruitment_channel             0.015678\n",
      "promotion_on_lengthOfService    0.015472\n",
      "score>90                        0.000000\n",
      "regional_promotion              0.000000\n",
      "promotion_on_trainings          0.000000\n",
      "recruitment_rank                0.000000\n",
      "dtype: float32\n",
      "\n",
      " \n",
      "Top 10 Features selected in Tree-based Feature Importance :\n",
      "['KPIs_met >80%', 'awards_won?', 'department', 'avg_training_score', 'previous_year_rating_na', 'region', 'no_of_trainings', 'education_NA', 'gender', 'length_of_service']\n"
     ]
    }
   ],
   "source": [
    "model = XGBClassifier()\n",
    "# fit the model to start training.\n",
    "model.fit(x_train, y_train)\n",
    "\n",
    "# get the importance of the resulting features.\n",
    "importances = model.feature_importances_\n",
    "\n",
    "importances = pd.Series(importances)\n",
    "importances.index = x_train.columns\n",
    "\n",
    "# show the results.\n",
    "print(importances.sort_values(ascending=False))\n",
    "\n",
    "# Selecting top 10 Features\n",
    "print(\"\\n \\nTop 10 Features selected in Tree-based Feature Importance :\")\n",
    "features_by_treeBased = list(importances.sort_values(ascending=False)[:10].index)\n",
    "print(features_by_treeBased)"
   ]
  },
  {
   "cell_type": "markdown",
   "metadata": {
    "id": "qV4K6-SLT5F0"
   },
   "source": [
    "#### Final Feature Selected"
   ]
  },
  {
   "cell_type": "markdown",
   "metadata": {
    "id": "bTlY8o-_l7qx"
   },
   "source": [
    "\n",
    "\n",
    "1.   Select K best\n",
    "\n"
   ]
  },
  {
   "cell_type": "code",
   "execution_count": 344,
   "metadata": {
    "colab": {
     "base_uri": "https://localhost:8080/"
    },
    "id": "DKK_kIWqWhY9",
    "outputId": "369e7e2d-06eb-4590-f5cd-832ad3d6ec2f"
   },
   "outputs": [
    {
     "data": {
      "text/plain": [
       "['previous_year_rating_na',\n",
       " 'region',\n",
       " 'department',\n",
       " 'score>90',\n",
       " 'avg_training_score',\n",
       " 'education_NA',\n",
       " 'awards_won?',\n",
       " 'KPIs_met >80%',\n",
       " 'regional_promotion']"
      ]
     },
     "execution_count": 344,
     "metadata": {},
     "output_type": "execute_result"
    }
   ],
   "source": [
    "feature_by_SelectKBest"
   ]
  },
  {
   "cell_type": "markdown",
   "metadata": {
    "id": "6CpHJLgZWxDX"
   },
   "source": [
    "2. Univariate ROCAUC by Decision tree classifier"
   ]
  },
  {
   "cell_type": "code",
   "execution_count": 345,
   "metadata": {
    "colab": {
     "base_uri": "https://localhost:8080/"
    },
    "id": "pAZ92hykWyYK",
    "outputId": "cb929552-f790-496e-a8de-9e8be393dcba"
   },
   "outputs": [
    {
     "data": {
      "text/plain": [
       "['KPIs_met >80%',\n",
       " 'avg_training_score',\n",
       " 'previous_year_rating_na',\n",
       " 'region',\n",
       " 'score>90',\n",
       " 'awards_won?',\n",
       " 'regional_promotion',\n",
       " 'department',\n",
       " 'gender',\n",
       " 'education_NA']"
      ]
     },
     "execution_count": 345,
     "metadata": {},
     "output_type": "execute_result"
    }
   ],
   "source": [
    "features_by_UnivariateROCAUC"
   ]
  },
  {
   "cell_type": "markdown",
   "metadata": {
    "id": "7ZaXt4nMW_KX"
   },
   "source": [
    "3. Forward Feature Selection using Random Forest Classifier"
   ]
  },
  {
   "cell_type": "code",
   "execution_count": 346,
   "metadata": {
    "colab": {
     "base_uri": "https://localhost:8080/"
    },
    "id": "WfW3qPyXW-ro",
    "outputId": "19b32523-44c0-49c1-d886-56adefd6e485"
   },
   "outputs": [
    {
     "data": {
      "text/plain": [
       "['department',\n",
       " 'gender',\n",
       " 'no_of_trainings',\n",
       " 'awards_won?',\n",
       " 'avg_training_score',\n",
       " 'education_NA',\n",
       " 'score>90',\n",
       " 'regional_promotion',\n",
       " 'promotion_on_trainings',\n",
       " 'recruitment_rank']"
      ]
     },
     "execution_count": 346,
     "metadata": {},
     "output_type": "execute_result"
    }
   ],
   "source": [
    "features_by_forward"
   ]
  },
  {
   "cell_type": "markdown",
   "metadata": {
    "id": "FJAkBe_xXLo9"
   },
   "source": [
    "4. Embedded Feature selection using XGB"
   ]
  },
  {
   "cell_type": "code",
   "execution_count": 347,
   "metadata": {
    "colab": {
     "base_uri": "https://localhost:8080/"
    },
    "id": "Rx1d6YT9XSfF",
    "outputId": "814bd488-a2a9-4239-b33c-fc2b32284503"
   },
   "outputs": [
    {
     "data": {
      "text/plain": [
       "['KPIs_met >80%',\n",
       " 'awards_won?',\n",
       " 'department',\n",
       " 'avg_training_score',\n",
       " 'previous_year_rating_na',\n",
       " 'region',\n",
       " 'no_of_trainings',\n",
       " 'education_NA',\n",
       " 'gender',\n",
       " 'length_of_service']"
      ]
     },
     "execution_count": 347,
     "metadata": {},
     "output_type": "execute_result"
    }
   ],
   "source": [
    "features_by_treeBased"
   ]
  },
  {
   "cell_type": "markdown",
   "metadata": {
    "id": "AVgmlKdjT_HV"
   },
   "source": [
    "### Modelling"
   ]
  },
  {
   "cell_type": "markdown",
   "metadata": {
    "id": "_I1538MhquLs"
   },
   "source": [
    "\n",
    "\n",
    "#### Distance Based\n",
    "\n"
   ]
  },
  {
   "cell_type": "markdown",
   "metadata": {
    "id": "Y7iAGEfBjegk"
   },
   "source": [
    "###### On train"
   ]
  },
  {
   "cell_type": "markdown",
   "metadata": {
    "id": "VOtupmxbkBM2"
   },
   "source": [
    "Using feature from SelectKBest in all distance based"
   ]
  },
  {
   "cell_type": "code",
   "execution_count": 121,
   "metadata": {
    "colab": {
     "base_uri": "https://localhost:8080/"
    },
    "id": "gWZYnGt6jiTH",
    "outputId": "f6e4aeed-1bb8-4193-a17c-63dbd6e26b5f"
   },
   "outputs": [
    {
     "name": "stdout",
     "output_type": "stream",
     "text": [
      "LogisticRegression()\n",
      "[[34964   165]\n",
      " [ 2794   442]]\n",
      "              precision    recall  f1-score   support\n",
      "\n",
      "           0       0.93      1.00      0.96     35129\n",
      "           1       0.73      0.14      0.23      3236\n",
      "\n",
      "    accuracy                           0.92     38365\n",
      "   macro avg       0.83      0.57      0.59     38365\n",
      "weighted avg       0.91      0.92      0.90     38365\n",
      "\n",
      "\n",
      " \n",
      " \n",
      "KNeighborsClassifier()\n",
      "[[34847   282]\n",
      " [ 2452   784]]\n",
      "              precision    recall  f1-score   support\n",
      "\n",
      "           0       0.93      0.99      0.96     35129\n",
      "           1       0.74      0.24      0.36      3236\n",
      "\n",
      "    accuracy                           0.93     38365\n",
      "   macro avg       0.83      0.62      0.66     38365\n",
      "weighted avg       0.92      0.93      0.91     38365\n",
      "\n",
      "\n",
      " \n",
      " \n"
     ]
    }
   ],
   "source": [
    "for algo in [LogisticRegression(),KNeighborsClassifier()]: #checking for all algo\n",
    "  classifier = algo\n",
    "  classifier.fit(x_train_scaled[feature_by_SelectKBest], y_train)      \n",
    "  y_train_pred = classifier.predict(x_train_scaled[feature_by_SelectKBest]) \n",
    "  print(algo)\n",
    "  print(confusion_matrix(y_train, y_train_pred))\n",
    "  print(classification_report(y_train, y_train_pred))\n",
    "  print(\"\\n \\n \")"
   ]
  },
  {
   "cell_type": "markdown",
   "metadata": {
    "id": "Tw9QnVF9jaZh"
   },
   "source": [
    "###### On Validation"
   ]
  },
  {
   "cell_type": "code",
   "execution_count": 122,
   "metadata": {
    "colab": {
     "base_uri": "https://localhost:8080/"
    },
    "id": "1a6WRv7VtE7I",
    "outputId": "fcf5bf77-2404-4d12-fb2c-f9594cf3b627"
   },
   "outputs": [
    {
     "name": "stdout",
     "output_type": "stream",
     "text": [
      "LogisticRegression()\n",
      "[[7448   38]\n",
      " [ 638   97]]\n",
      "              precision    recall  f1-score   support\n",
      "\n",
      "           0       0.92      0.99      0.96      7486\n",
      "           1       0.72      0.13      0.22       735\n",
      "\n",
      "    accuracy                           0.92      8221\n",
      "   macro avg       0.82      0.56      0.59      8221\n",
      "weighted avg       0.90      0.92      0.89      8221\n",
      "\n",
      "\n",
      " \n",
      " \n",
      "KNeighborsClassifier()\n",
      "[[7392   94]\n",
      " [ 592  143]]\n",
      "              precision    recall  f1-score   support\n",
      "\n",
      "           0       0.93      0.99      0.96      7486\n",
      "           1       0.60      0.19      0.29       735\n",
      "\n",
      "    accuracy                           0.92      8221\n",
      "   macro avg       0.76      0.59      0.62      8221\n",
      "weighted avg       0.90      0.92      0.90      8221\n",
      "\n",
      "\n",
      " \n",
      " \n"
     ]
    }
   ],
   "source": [
    "for algo in [LogisticRegression(),KNeighborsClassifier()]:\n",
    "  classifier = algo\n",
    "  classifier.fit(x_train_scaled[feature_by_SelectKBest], y_train)\n",
    "  y_val_pred = classifier.predict(x_val_scaled[feature_by_SelectKBest])\n",
    "  print(algo)\n",
    "  print(confusion_matrix(y_val, y_val_pred))\n",
    "  print(classification_report(y_val, y_val_pred))\n",
    "  print(\"\\n \\n \")"
   ]
  },
  {
   "cell_type": "markdown",
   "metadata": {
    "id": "0xL8oIBEltk_"
   },
   "source": [
    "###### Data Has a lot of imbalance, Applying different methods to overcome that"
   ]
  },
  {
   "cell_type": "markdown",
   "metadata": {
    "id": "J9TDIzWJbN2B"
   },
   "source": [
    "##### Handling Imbalanced Data"
   ]
  },
  {
   "cell_type": "markdown",
   "metadata": {
    "id": "eqo9dk7TwmFf"
   },
   "source": [
    "###### SMOTE"
   ]
  },
  {
   "cell_type": "code",
   "execution_count": 123,
   "metadata": {
    "colab": {
     "base_uri": "https://localhost:8080/"
    },
    "id": "L28XCZuGZti0",
    "outputId": "acb92034-04ac-4c4c-c2ed-2ea420d2be2e"
   },
   "outputs": [
    {
     "name": "stdout",
     "output_type": "stream",
     "text": [
      "LogisticRegression()\n",
      "[[5487 1999]\n",
      " [ 214  521]]\n",
      "              precision    recall  f1-score   support\n",
      "\n",
      "           0       0.96      0.73      0.83      7486\n",
      "           1       0.21      0.71      0.32       735\n",
      "\n",
      "    accuracy                           0.73      8221\n",
      "   macro avg       0.58      0.72      0.58      8221\n",
      "weighted avg       0.89      0.73      0.79      8221\n",
      "\n",
      "\n",
      " \n",
      " \n",
      "KNeighborsClassifier()\n",
      "[[6627  859]\n",
      " [ 432  303]]\n",
      "              precision    recall  f1-score   support\n",
      "\n",
      "           0       0.94      0.89      0.91      7486\n",
      "           1       0.26      0.41      0.32       735\n",
      "\n",
      "    accuracy                           0.84      8221\n",
      "   macro avg       0.60      0.65      0.62      8221\n",
      "weighted avg       0.88      0.84      0.86      8221\n",
      "\n",
      "\n",
      " \n",
      " \n"
     ]
    }
   ],
   "source": [
    "sm = SMOTE()  # SMOTE\n",
    "X_train_bd, y_train_bd = sm.fit_resample(x_train_scaled, y_train)\n",
    "X_train_bd = pd.DataFrame(data = X_train_bd,columns=x_train_scaled.columns)\n",
    "\n",
    "\n",
    "for algo in [LogisticRegression(),KNeighborsClassifier()]:\n",
    "  classifier = algo\n",
    "  classifier.fit(X_train_bd[feature_by_SelectKBest], y_train_bd)\n",
    "  y_val_pred = classifier.predict(x_val_scaled[feature_by_SelectKBest])\n",
    "  print(algo)\n",
    "  print(confusion_matrix(y_val, y_val_pred))\n",
    "  print(classification_report(y_val, y_val_pred))\n",
    "  print(\"\\n \\n \")"
   ]
  },
  {
   "cell_type": "markdown",
   "metadata": {
    "id": "8bwmDE0S3H28"
   },
   "source": [
    "###### SOMTETOMEK"
   ]
  },
  {
   "cell_type": "code",
   "execution_count": 124,
   "metadata": {
    "colab": {
     "base_uri": "https://localhost:8080/"
    },
    "id": "qCPRZhvv3Vhj",
    "outputId": "90f45a77-22bb-4fe4-d086-c6ed7996cb6a"
   },
   "outputs": [
    {
     "name": "stdout",
     "output_type": "stream",
     "text": [
      "LogisticRegression()\n",
      "[[5467 2019]\n",
      " [ 209  526]]\n",
      "              precision    recall  f1-score   support\n",
      "\n",
      "           0       0.96      0.73      0.83      7486\n",
      "           1       0.21      0.72      0.32       735\n",
      "\n",
      "    accuracy                           0.73      8221\n",
      "   macro avg       0.58      0.72      0.58      8221\n",
      "weighted avg       0.90      0.73      0.79      8221\n",
      "\n",
      "\n",
      " \n",
      " \n",
      "KNeighborsClassifier()\n",
      "[[6612  874]\n",
      " [ 427  308]]\n",
      "              precision    recall  f1-score   support\n",
      "\n",
      "           0       0.94      0.88      0.91      7486\n",
      "           1       0.26      0.42      0.32       735\n",
      "\n",
      "    accuracy                           0.84      8221\n",
      "   macro avg       0.60      0.65      0.62      8221\n",
      "weighted avg       0.88      0.84      0.86      8221\n",
      "\n",
      "\n",
      " \n",
      " \n"
     ]
    }
   ],
   "source": [
    "smtom = SMOTETomek()  # SMOTETOMEK\n",
    "X_train_bd, y_train_bd = smtom.fit_resample(x_train_scaled, y_train)\n",
    "X_train_bd = pd.DataFrame(data = X_train_bd,columns=x_train_scaled.columns)\n",
    "\n",
    "\n",
    "for algo in [LogisticRegression(),KNeighborsClassifier()]:\n",
    "  classifier = algo\n",
    "  classifier.fit(X_train_bd[feature_by_SelectKBest], y_train_bd)\n",
    "  y_val_pred = classifier.predict(x_val_scaled[feature_by_SelectKBest])\n",
    "  print(algo)\n",
    "  print(confusion_matrix(y_val, y_val_pred))\n",
    "  print(classification_report(y_val, y_val_pred))\n",
    "  print(\"\\n \\n \")"
   ]
  },
  {
   "cell_type": "markdown",
   "metadata": {
    "id": "IAEmmrCH5z9N"
   },
   "source": [
    "###### SMOTEENN"
   ]
  },
  {
   "cell_type": "code",
   "execution_count": 125,
   "metadata": {
    "colab": {
     "base_uri": "https://localhost:8080/"
    },
    "id": "slBIYeao581C",
    "outputId": "55b6d3c6-97a2-4ccf-c8c3-8fc4a434bb63"
   },
   "outputs": [
    {
     "name": "stdout",
     "output_type": "stream",
     "text": [
      "LogisticRegression()\n",
      "[[5038 2448]\n",
      " [ 144  591]]\n",
      "              precision    recall  f1-score   support\n",
      "\n",
      "           0       0.97      0.67      0.80      7486\n",
      "           1       0.19      0.80      0.31       735\n",
      "\n",
      "    accuracy                           0.68      8221\n",
      "   macro avg       0.58      0.74      0.55      8221\n",
      "weighted avg       0.90      0.68      0.75      8221\n",
      "\n",
      "\n",
      " \n",
      " \n",
      "KNeighborsClassifier()\n",
      "[[6089 1397]\n",
      " [ 312  423]]\n",
      "              precision    recall  f1-score   support\n",
      "\n",
      "           0       0.95      0.81      0.88      7486\n",
      "           1       0.23      0.58      0.33       735\n",
      "\n",
      "    accuracy                           0.79      8221\n",
      "   macro avg       0.59      0.69      0.60      8221\n",
      "weighted avg       0.89      0.79      0.83      8221\n",
      "\n",
      "\n",
      " \n",
      " \n"
     ]
    }
   ],
   "source": [
    "smoteen = SMOTEENN()  # SMOTEEN\n",
    "X_train_bd, y_train_bd = smoteen.fit_resample(x_train_scaled, y_train)\n",
    "X_train_bd = pd.DataFrame(data = X_train_bd,columns=x_train_scaled.columns)\n",
    "\n",
    "\n",
    "for algo in [LogisticRegression(),KNeighborsClassifier()]:\n",
    "  classifier = algo\n",
    "  classifier.fit(X_train_bd[feature_by_SelectKBest], y_train_bd)\n",
    "  y_val_pred = classifier.predict(x_val_scaled[feature_by_SelectKBest])\n",
    "  print(algo)\n",
    "  print(confusion_matrix(y_val, y_val_pred))\n",
    "  print(classification_report(y_val, y_val_pred))\n",
    "  print(\"\\n \\n \")"
   ]
  },
  {
   "cell_type": "markdown",
   "metadata": {
    "id": "_nIuKivnpwts"
   },
   "source": [
    "###### Random Over Sampler"
   ]
  },
  {
   "cell_type": "code",
   "execution_count": 127,
   "metadata": {
    "colab": {
     "base_uri": "https://localhost:8080/"
    },
    "id": "uNMxByMSp1Om",
    "outputId": "3b46cfe8-874f-455b-8de4-f5ca8b806960"
   },
   "outputs": [
    {
     "name": "stdout",
     "output_type": "stream",
     "text": [
      "LogisticRegression()\n",
      "[[5473 2013]\n",
      " [ 206  529]]\n",
      "              precision    recall  f1-score   support\n",
      "\n",
      "           0       0.96      0.73      0.83      7486\n",
      "           1       0.21      0.72      0.32       735\n",
      "\n",
      "    accuracy                           0.73      8221\n",
      "   macro avg       0.59      0.73      0.58      8221\n",
      "weighted avg       0.90      0.73      0.79      8221\n",
      "\n",
      "\n",
      " \n",
      " \n",
      "KNeighborsClassifier()\n",
      "[[6452 1034]\n",
      " [ 409  326]]\n",
      "              precision    recall  f1-score   support\n",
      "\n",
      "           0       0.94      0.86      0.90      7486\n",
      "           1       0.24      0.44      0.31       735\n",
      "\n",
      "    accuracy                           0.82      8221\n",
      "   macro avg       0.59      0.65      0.61      8221\n",
      "weighted avg       0.88      0.82      0.85      8221\n",
      "\n",
      "\n",
      " \n",
      " \n"
     ]
    }
   ],
   "source": [
    "over_sampl =  RandomOverSampler()  # RANDOM OVER SAMPLER\n",
    "\n",
    "X_train_bd, y_train_bd = over_sampl.fit_resample(x_train_scaled, y_train)\n",
    "X_train_bd = pd.DataFrame(data = X_train_bd,columns=x_train_scaled.columns)\n",
    "\n",
    "\n",
    "for algo in [LogisticRegression(),KNeighborsClassifier()]:\n",
    "  classifier = algo\n",
    "  classifier.fit(X_train_bd[feature_by_SelectKBest], y_train_bd)\n",
    "  y_val_pred = classifier.predict(x_val_scaled[feature_by_SelectKBest])\n",
    "  print(algo)\n",
    "  print(confusion_matrix(y_val, y_val_pred))\n",
    "  print(classification_report(y_val, y_val_pred))\n",
    "  print(\"\\n \\n \")"
   ]
  },
  {
   "cell_type": "markdown",
   "metadata": {
    "id": "h8v3EL0KkbAp"
   },
   "source": [
    "##### Best Algo selected"
   ]
  },
  {
   "cell_type": "code",
   "execution_count": 128,
   "metadata": {
    "colab": {
     "base_uri": "https://localhost:8080/"
    },
    "id": "GQ9QRa-FzhxM",
    "outputId": "b59df205-50ec-4327-c6a6-6efb66099193"
   },
   "outputs": [
    {
     "data": {
      "text/plain": [
       "KNeighborsClassifier()"
      ]
     },
     "execution_count": 128,
     "metadata": {},
     "output_type": "execute_result"
    }
   ],
   "source": [
    "smoteen = SMOTEENN() # for balancing selected algo\n",
    "X_train_bd, y_train_bd = smoteen.fit_resample(x_train_scaled, y_train)\n",
    "X_train_bd = pd.DataFrame(data = X_train_bd,columns=x_train_scaled.columns)\n",
    "\n",
    "classifier = KNeighborsClassifier() # KNN is selected\n",
    "classifier.fit(X_train_bd[feature_by_SelectKBest], y_train_bd)"
   ]
  },
  {
   "cell_type": "markdown",
   "metadata": {
    "id": "kU5TRUhblGQz"
   },
   "source": [
    "On train"
   ]
  },
  {
   "cell_type": "code",
   "execution_count": 129,
   "metadata": {
    "colab": {
     "base_uri": "https://localhost:8080/"
    },
    "id": "axw7yaPplHwH",
    "outputId": "53d078c9-65f7-4677-ee75-538e1499f27d"
   },
   "outputs": [
    {
     "name": "stdout",
     "output_type": "stream",
     "text": [
      "[[25719  2129]\n",
      " [ 2670 30304]]\n",
      "              precision    recall  f1-score   support\n",
      "\n",
      "           0       0.91      0.92      0.91     27848\n",
      "           1       0.93      0.92      0.93     32974\n",
      "\n",
      "    accuracy                           0.92     60822\n",
      "   macro avg       0.92      0.92      0.92     60822\n",
      "weighted avg       0.92      0.92      0.92     60822\n",
      "\n",
      "\n",
      " \n",
      " \n"
     ]
    }
   ],
   "source": [
    "y_train_pred = classifier.predict(X_train_bd[feature_by_SelectKBest]) # predicting on train\n",
    "print(confusion_matrix(y_train_bd, y_train_pred))\n",
    "print(classification_report(y_train_bd, y_train_pred))\n",
    "print(\"\\n \\n \")"
   ]
  },
  {
   "cell_type": "markdown",
   "metadata": {
    "id": "3Hf-l1Gik7M3"
   },
   "source": [
    "On Validation"
   ]
  },
  {
   "cell_type": "code",
   "execution_count": 130,
   "metadata": {
    "colab": {
     "base_uri": "https://localhost:8080/"
    },
    "id": "0ofW6hIQke-Y",
    "outputId": "9f636008-5059-4bfc-93aa-02761ff99f55"
   },
   "outputs": [
    {
     "name": "stdout",
     "output_type": "stream",
     "text": [
      "[[6104 1382]\n",
      " [ 317  418]]\n",
      "              precision    recall  f1-score   support\n",
      "\n",
      "           0       0.95      0.82      0.88      7486\n",
      "           1       0.23      0.57      0.33       735\n",
      "\n",
      "    accuracy                           0.79      8221\n",
      "   macro avg       0.59      0.69      0.60      8221\n",
      "weighted avg       0.89      0.79      0.83      8221\n",
      "\n",
      "\n",
      " \n",
      " \n"
     ]
    }
   ],
   "source": [
    "y_val_pred = classifier.predict(x_val_scaled[feature_by_SelectKBest])  # predicting on validation\n",
    "print(confusion_matrix(y_val, y_val_pred))\n",
    "print(classification_report(y_val, y_val_pred))\n",
    "print(\"\\n \\n \")"
   ]
  },
  {
   "cell_type": "markdown",
   "metadata": {
    "id": "GDPP1bFPmR9D"
   },
   "source": [
    "**We can see a overfitting in this model, lets check we could get good result in tree based algo**"
   ]
  },
  {
   "cell_type": "markdown",
   "metadata": {
    "id": "SzoXma8G2C9p"
   },
   "source": [
    "#### Tree Based"
   ]
  },
  {
   "cell_type": "code",
   "execution_count": 348,
   "metadata": {
    "colab": {
     "base_uri": "https://localhost:8080/"
    },
    "id": "AHzpAK4i4AA_",
    "outputId": "e1ced6ab-e6bc-40ec-af4b-d268a705c978"
   },
   "outputs": [
    {
     "data": {
      "text/plain": [
       "10.855686032138443"
      ]
     },
     "execution_count": 348,
     "metadata": {},
     "output_type": "execute_result"
    }
   ],
   "source": [
    "# I will be using it as scale_pos_weight\n",
    "counts = y_train.value_counts() \n",
    "ratio = counts[0]/counts[1]\n",
    "ratio  #ratio of people who are not promoted upon who are promoted"
   ]
  },
  {
   "cell_type": "markdown",
   "metadata": {
    "id": "V9PBorUKmIiL"
   },
   "source": [
    "##### On train"
   ]
  },
  {
   "cell_type": "code",
   "execution_count": 132,
   "metadata": {
    "colab": {
     "base_uri": "https://localhost:8080/"
    },
    "id": "oC1EY0Ap3XZ1",
    "outputId": "eaad1e7e-ee78-4979-d7a3-e5e480ba6f12"
   },
   "outputs": [
    {
     "name": "stdout",
     "output_type": "stream",
     "text": [
      "Decision Tree Classifier \n",
      "\n",
      "\n",
      "[[33018  2111]\n",
      " [    5  3231]]\n",
      "              precision    recall  f1-score   support\n",
      "\n",
      "           0       1.00      0.94      0.97     35129\n",
      "           1       0.60      1.00      0.75      3236\n",
      "\n",
      "    accuracy                           0.94     38365\n",
      "   macro avg       0.80      0.97      0.86     38365\n",
      "weighted avg       0.97      0.94      0.95     38365\n",
      "\n",
      "\n",
      " \n",
      " \n",
      "Random Forest Classifier \n",
      "\n",
      "\n",
      "[[31767  3362]\n",
      " [ 1076  2160]]\n",
      "              precision    recall  f1-score   support\n",
      "\n",
      "           0       0.97      0.90      0.93     35129\n",
      "           1       0.39      0.67      0.49      3236\n",
      "\n",
      "    accuracy                           0.88     38365\n",
      "   macro avg       0.68      0.79      0.71     38365\n",
      "weighted avg       0.92      0.88      0.90     38365\n",
      "\n",
      "\n",
      " \n",
      " \n",
      "XGB Classifier \n",
      "\n",
      "\n",
      "[15:12:55] WARNING: C:/Users/Administrator/workspace/xgboost-win64_release_1.4.0/src/learner.cc:1095: Starting in XGBoost 1.3.0, the default evaluation metric used with the objective 'binary:logistic' was changed from 'error' to 'logloss'. Explicitly set eval_metric if you'd like to restore the old behavior.\n",
      "[[29011  6118]\n",
      " [   97  3139]]\n",
      "              precision    recall  f1-score   support\n",
      "\n",
      "           0       1.00      0.83      0.90     35129\n",
      "           1       0.34      0.97      0.50      3236\n",
      "\n",
      "    accuracy                           0.84     38365\n",
      "   macro avg       0.67      0.90      0.70     38365\n",
      "weighted avg       0.94      0.84      0.87     38365\n",
      "\n",
      "\n",
      " \n",
      " \n",
      "LGBM Classifier \n",
      "\n",
      "\n",
      "[[26470  8659]\n",
      " [   97  3139]]\n",
      "              precision    recall  f1-score   support\n",
      "\n",
      "           0       1.00      0.75      0.86     35129\n",
      "           1       0.27      0.97      0.42      3236\n",
      "\n",
      "    accuracy                           0.77     38365\n",
      "   macro avg       0.63      0.86      0.64     38365\n",
      "weighted avg       0.93      0.77      0.82     38365\n",
      "\n",
      "\n",
      " \n",
      " \n"
     ]
    }
   ],
   "source": [
    "print(\"Decision Tree Classifier \\n\\n\")\n",
    "classifier = DecisionTreeClassifier(class_weight='balanced') # now classes will be weighted inversely proportional to frequently they appear.\n",
    "classifier.fit(x_train[features_by_UnivariateROCAUC], y_train)\n",
    "y_train_pred = classifier.predict(x_train[features_by_UnivariateROCAUC])   # using features by UnivariateROCAUC\n",
    "print(confusion_matrix(y_train, y_train_pred))\n",
    "print(classification_report(y_train, y_train_pred))\n",
    "print(\"\\n \\n \")\n",
    "\n",
    "print(\"Random Forest Classifier \\n\\n\")\n",
    "classifier = RandomForestClassifier(class_weight='balanced') # now classes will be weighted inversely proportional to frequently they appear.\n",
    "classifier.fit(x_train[features_by_forward], y_train)\n",
    "y_train_pred = classifier.predict(x_train[features_by_forward])  # using features by forward\n",
    "print(confusion_matrix(y_train, y_train_pred))\n",
    "print(classification_report(y_train, y_train_pred))\n",
    "print(\"\\n \\n \")\n",
    "\n",
    "print(\"XGB Classifier \\n\\n\")\n",
    "classifier = XGBClassifier(scale_pos_weight=ratio)   # ratio has been found above\n",
    "classifier.fit(x_train[features_by_treeBased], y_train)\n",
    "y_train_pred = classifier.predict(x_train[features_by_treeBased])  # using features by treeBased\n",
    "print(confusion_matrix(y_train, y_train_pred))\n",
    "print(classification_report(y_train, y_train_pred))\n",
    "print(\"\\n \\n \")\n",
    "\n",
    "print(\"LGBM Classifier \\n\\n\")\n",
    "classifier = ltb.LGBMClassifier(scale_pos_weight=ratio)   # ratio has been found above\n",
    "classifier.fit(x_train[features_by_treeBased], y_train)\n",
    "y_train_pred = classifier.predict(x_train[features_by_treeBased])  # using features by treeBased\n",
    "print(confusion_matrix(y_train, y_train_pred))\n",
    "print(classification_report(y_train, y_train_pred))\n",
    "print(\"\\n \\n \")"
   ]
  },
  {
   "cell_type": "markdown",
   "metadata": {
    "id": "WfpbMYENrSa5"
   },
   "source": [
    "##### On Validation"
   ]
  },
  {
   "cell_type": "code",
   "execution_count": 133,
   "metadata": {
    "colab": {
     "base_uri": "https://localhost:8080/"
    },
    "id": "KCZJMsHZ4Unj",
    "outputId": "e2e89d40-648c-4f39-8f20-2aec7244295e"
   },
   "outputs": [
    {
     "name": "stdout",
     "output_type": "stream",
     "text": [
      "Decision Tree Classifier \n",
      "\n",
      "\n",
      "[[6796  690]\n",
      " [ 339  396]]\n",
      "              precision    recall  f1-score   support\n",
      "\n",
      "           0       0.95      0.91      0.93      7486\n",
      "           1       0.36      0.54      0.43       735\n",
      "\n",
      "    accuracy                           0.87      8221\n",
      "   macro avg       0.66      0.72      0.68      8221\n",
      "weighted avg       0.90      0.87      0.89      8221\n",
      "\n",
      "\n",
      " \n",
      " \n",
      "Random Forest Classifier \n",
      "\n",
      "\n",
      "[[6711  775]\n",
      " [ 422  313]]\n",
      "              precision    recall  f1-score   support\n",
      "\n",
      "           0       0.94      0.90      0.92      7486\n",
      "           1       0.29      0.43      0.34       735\n",
      "\n",
      "    accuracy                           0.85      8221\n",
      "   macro avg       0.61      0.66      0.63      8221\n",
      "weighted avg       0.88      0.85      0.87      8221\n",
      "\n",
      "\n",
      " \n",
      " \n",
      "XGB Classifier \n",
      "\n",
      "\n",
      "[15:13:32] WARNING: C:/Users/Administrator/workspace/xgboost-win64_release_1.4.0/src/learner.cc:1095: Starting in XGBoost 1.3.0, the default evaluation metric used with the objective 'binary:logistic' was changed from 'error' to 'logloss'. Explicitly set eval_metric if you'd like to restore the old behavior.\n",
      "[[6048 1438]\n",
      " [ 158  577]]\n",
      "              precision    recall  f1-score   support\n",
      "\n",
      "           0       0.97      0.81      0.88      7486\n",
      "           1       0.29      0.79      0.42       735\n",
      "\n",
      "    accuracy                           0.81      8221\n",
      "   macro avg       0.63      0.80      0.65      8221\n",
      "weighted avg       0.91      0.81      0.84      8221\n",
      "\n",
      "\n",
      " \n",
      " \n",
      "LGBM Classifier \n",
      "\n",
      "\n",
      "[[5610 1876]\n",
      " [  78  657]]\n",
      "              precision    recall  f1-score   support\n",
      "\n",
      "           0       0.99      0.75      0.85      7486\n",
      "           1       0.26      0.89      0.40       735\n",
      "\n",
      "    accuracy                           0.76      8221\n",
      "   macro avg       0.62      0.82      0.63      8221\n",
      "weighted avg       0.92      0.76      0.81      8221\n",
      "\n",
      "\n",
      " \n",
      " \n"
     ]
    }
   ],
   "source": [
    "print(\"Decision Tree Classifier \\n\\n\")\n",
    "classifier = DecisionTreeClassifier(class_weight='balanced') # now classes will be weighted inversely proportional to frequently they appear.\n",
    "classifier.fit(x_train[features_by_UnivariateROCAUC], y_train)\n",
    "y_val_pred = classifier.predict(x_val[features_by_UnivariateROCAUC])\n",
    "print(confusion_matrix(y_val, y_val_pred))\n",
    "print(classification_report(y_val, y_val_pred))\n",
    "print(\"\\n \\n \")\n",
    "\n",
    "print(\"Random Forest Classifier \\n\\n\")\n",
    "classifier = RandomForestClassifier(class_weight='balanced') # now classes will be weighted inversely proportional to frequently they appear.\n",
    "classifier.fit(x_train[features_by_forward], y_train)\n",
    "y_val_pred = classifier.predict(x_val[features_by_forward])\n",
    "print(confusion_matrix(y_val, y_val_pred))\n",
    "print(classification_report(y_val, y_val_pred))\n",
    "print(\"\\n \\n \")\n",
    "\n",
    "print(\"XGB Classifier \\n\\n\")\n",
    "classifier = XGBClassifier(scale_pos_weight=ratio)           # ratio has been found above\n",
    "classifier.fit(x_train[features_by_treeBased], y_train)\n",
    "y_val_pred = classifier.predict(x_val[features_by_treeBased])\n",
    "print(confusion_matrix(y_val, y_val_pred))\n",
    "print(classification_report(y_val, y_val_pred))\n",
    "print(\"\\n \\n \")\n",
    "\n",
    "print(\"LGBM Classifier \\n\\n\")\n",
    "classifier = ltb.LGBMClassifier(scale_pos_weight=ratio)        # ratio has been found above\n",
    "classifier.fit(x_train[features_by_treeBased], y_train)\n",
    "y_val_pred = classifier.predict(x_val[features_by_treeBased])\n",
    "print(confusion_matrix(y_val, y_val_pred))\n",
    "print(classification_report(y_val, y_val_pred))\n",
    "print(\"\\n \\n \")"
   ]
  },
  {
   "cell_type": "markdown",
   "metadata": {
    "id": "z4taG-GJzuHt"
   },
   "source": [
    "##### Checking my best model for over fitting"
   ]
  },
  {
   "cell_type": "markdown",
   "metadata": {
    "id": "1gNR1XBSzQV-"
   },
   "source": [
    " LBGM on Train\n",
    " \n",
    "              precision    recall  f1-score   support\n",
    "\n",
    "           0       1.00      0.75      0.86     35129\n",
    "           1       0.27      0.97      0.42      3236\n",
    "\n",
    "    accuracy                           0.77     38365\n",
    "   macro avg       0.63      0.86      0.64     38365\n",
    "weighted avg       0.93      0.77      0.82     38365\n",
    "\n",
    "LBGM on Validation\n",
    "\n",
    "              precision    recall  f1-score   support\n",
    "\n",
    "           0       0.99      0.75      0.85      7486\n",
    "           1       0.26      0.89      0.40       735\n",
    "\n",
    "    accuracy                           0.76      8221\n",
    "   macro avg       0.62      0.82      0.63      8221\n",
    "weighted avg       0.92      0.76      0.81      8221\n",
    "\n",
    "**No overfitting as per now, can proceed with hyper parameter tunning**"
   ]
  },
  {
   "cell_type": "code",
   "execution_count": 135,
   "metadata": {},
   "outputs": [
    {
     "name": "stdout",
     "output_type": "stream",
     "text": [
      "train :  [ 3635  3642  3644 ... 38362 38363 38364] Validation :  [   0    1    2 ... 3863 3865 3867]\n",
      "train :  [    0     1     2 ... 38362 38363 38364] Validation :  [3635 3642 3644 ... 7707 7708 7709]\n",
      "train :  [    0     1     2 ... 38362 38363 38364] Validation :  [ 7384  7389  7401 ... 11575 11576 11577]\n",
      "train :  [    0     1     2 ... 38362 38363 38364] Validation :  [10851 10860 10869 ... 15363 15364 15366]\n",
      "train :  [    0     1     2 ... 38362 38363 38364] Validation :  [15154 15161 15164 ... 19195 19196 19197]\n",
      "train :  [    0     1     2 ... 38362 38363 38364] Validation :  [19065 19067 19069 ... 23018 23019 23020]\n",
      "train :  [    0     1     2 ... 38362 38363 38364] Validation :  [23021 23022 23023 ... 27194 27206 27218]\n",
      "train :  [    0     1     2 ... 38362 38363 38364] Validation :  [26816 26817 26818 ... 30833 30839 30844]\n",
      "train :  [    0     1     2 ... 38362 38363 38364] Validation :  [30679 30680 30681 ... 34643 34663 34679]\n",
      "train :  [    0     1     2 ... 34643 34663 34679] Validation :  [34517 34519 34520 ... 38362 38363 38364]\n",
      "Average Accuracy :  0.7613448087783649\n",
      "Max Accuracy :  0.7713764337851929\n",
      "Min Accuracy :  0.7515641293013556\n",
      "Average F1_score :  0.6164724104913951\n",
      "Max F1_score :  0.6261206499433487\n",
      "Min F1_score :  0.6073045891563367\n"
     ]
    }
   ],
   "source": [
    "accuracy=[]   # will contain accuracy\n",
    "f1=[]         # will contain f1\n",
    "X = x_train[features_by_treeBased]\n",
    "Y =  y_train\n",
    "skf = StratifiedKFold(n_splits=10,random_state=None)  # StratifiedKFold\n",
    "skf.get_n_splits(X,Y) \n",
    "classifier = ltb.LGBMClassifier(scale_pos_weight=ratio)\n",
    "for train_index, test_index in skf.split(X,Y):\n",
    "    print(\"train : \",train_index,\"Validation : \",test_index)\n",
    "    X1_train, X1_test = X.iloc[train_index] , X.iloc[test_index]\n",
    "    y1_train, y1_test = Y.iloc[train_index] , Y.iloc[test_index]\n",
    "    classifier.fit(X1_train,y1_train)           # fitting\n",
    "    prediction = classifier.predict(X1_test)    # predicting\n",
    "    score = accuracy_score(prediction,y1_test)\n",
    "    score2 = f1_score(prediction,y1_test,average='macro')\n",
    "    accuracy.append(score)  # adding all accuracy\n",
    "    f1.append(score2)       # adding all macro avg f1_score\n",
    "print(\"Average Accuracy : \",np.array(accuracy).mean())      # Average accuracy\n",
    "print(\"Max Accuracy : \",np.array(accuracy).max())           # Max Accuracy\n",
    "print(\"Min Accuracy : \",np.array(accuracy).min())           # Min Accuracy\n",
    "print(\"Average F1_score : \",np.array(f1).mean())            # Average F1_score\n",
    "print(\"Max F1_score : \",np.array(f1).max())                 # Max F1_score\n",
    "print(\"Min F1_score : \",np.array(f1).min())                 # Min F1_score"
   ]
  },
  {
   "cell_type": "markdown",
   "metadata": {
    "id": "wIp9aVW9LKst"
   },
   "source": [
    "#### HyperParameter Tunning"
   ]
  },
  {
   "cell_type": "markdown",
   "metadata": {
    "id": "eBxKGjLc2680"
   },
   "source": [
    "#### Light BGM HyperParameter tunning"
   ]
  },
  {
   "cell_type": "markdown",
   "metadata": {
    "id": "tVh1rg9X6sRu"
   },
   "source": [
    "##### Automatic Hyper Parameter Tunning"
   ]
  },
  {
   "cell_type": "code",
   "execution_count": 381,
   "metadata": {
    "id": "NJDvEPD4WNBY"
   },
   "outputs": [],
   "source": [
    "from sklearn.model_selection import GridSearchCV\n",
    "import lightgbm as ltb\n",
    "classifier = ltb.LGBMClassifier()\n",
    "gridParams = {\n",
    "    'scale_pos_weight' : [ratio],\n",
    "    'num_iterations' : [200,400,600],\n",
    "    'max_depth' : [4,5,6],\n",
    "    'learning_rate' : [0.05,0.1,0.5],\n",
    "    'num_leaves'  : [16,32,64],\n",
    "    'colsample_bytree': [0.4,0.6, 0.8,1.0]\n",
    "    }\n",
    "try:\n",
    "  grid_search = GridSearchCV(estimator = classifier,\n",
    "                           param_grid = [gridParams],\n",
    "                           scoring = 'f1',\n",
    "                           cv = 5,\n",
    "                           n_jobs = -1)\n",
    "  grid_search.fit(x_train[features_by_treeBased], y_train)\n",
    "except:\n",
    "  print(\"some error\")"
   ]
  },
  {
   "cell_type": "code",
   "execution_count": 382,
   "metadata": {
    "colab": {
     "base_uri": "https://localhost:8080/"
    },
    "id": "Ho7zh3aTZStl",
    "outputId": "4025b72a-03a6-49ec-ad5d-fa4faae7f475"
   },
   "outputs": [
    {
     "data": {
      "text/plain": [
       "{'colsample_bytree': 1.0,\n",
       " 'learning_rate': 0.5,\n",
       " 'max_depth': 6,\n",
       " 'num_iterations': 600,\n",
       " 'num_leaves': 64,\n",
       " 'scale_pos_weight': 10.855686032138443}"
      ]
     },
     "execution_count": 382,
     "metadata": {},
     "output_type": "execute_result"
    }
   ],
   "source": [
    "grid_search.best_params_"
   ]
  },
  {
   "cell_type": "code",
   "execution_count": 383,
   "metadata": {
    "colab": {
     "base_uri": "https://localhost:8080/"
    },
    "id": "VLPaHi5ZWsLU",
    "outputId": "ece12b92-9ec7-455e-9fce-e06a8207f131"
   },
   "outputs": [
    {
     "name": "stdout",
     "output_type": "stream",
     "text": [
      "[[7020  466]\n",
      " [ 346  389]]\n",
      "              precision    recall  f1-score   support\n",
      "\n",
      "           0       0.95      0.94      0.95      7486\n",
      "           1       0.45      0.53      0.49       735\n",
      "\n",
      "    accuracy                           0.90      8221\n",
      "   macro avg       0.70      0.73      0.72      8221\n",
      "weighted avg       0.91      0.90      0.90      8221\n",
      "\n"
     ]
    }
   ],
   "source": [
    "y_val_pred = grid_search.predict(x_val[features_by_treeBased])\n",
    "print(confusion_matrix(y_val, y_val_pred))\n",
    "print(classification_report(y_val, y_val_pred))"
   ]
  },
  {
   "cell_type": "code",
   "execution_count": 167,
   "metadata": {},
   "outputs": [
    {
     "name": "stdout",
     "output_type": "stream",
     "text": [
      "[[30372  4757]\n",
      " [   28  3208]]\n",
      "              precision    recall  f1-score   support\n",
      "\n",
      "           0       1.00      0.86      0.93     35129\n",
      "           1       0.40      0.99      0.57      3236\n",
      "\n",
      "    accuracy                           0.88     38365\n",
      "   macro avg       0.70      0.93      0.75     38365\n",
      "weighted avg       0.95      0.88      0.90     38365\n",
      "\n"
     ]
    }
   ],
   "source": [
    "y_train_pred = grid_search.predict(x_train[features_by_treeBased])\n",
    "print(confusion_matrix(y_train, y_train_pred))\n",
    "print(classification_report(y_train, y_train_pred))"
   ]
  },
  {
   "cell_type": "markdown",
   "metadata": {
    "id": "VJPTO9bC6v79"
   },
   "source": [
    "##### Manual Hyper Parameter Tunning (Trying to get more good recall)"
   ]
  },
  {
   "cell_type": "code",
   "execution_count": 414,
   "metadata": {},
   "outputs": [
    {
     "name": "stdout",
     "output_type": "stream",
     "text": [
      "100\n",
      "[[5610 1876]\n",
      " [  78  657]]\n",
      "              precision    recall  f1-score   support\n",
      "\n",
      "           0       0.99      0.75      0.85      7486\n",
      "           1       0.26      0.89      0.40       735\n",
      "\n",
      "    accuracy                           0.76      8221\n",
      "   macro avg       0.62      0.82      0.63      8221\n",
      "weighted avg       0.92      0.76      0.81      8221\n",
      "\n",
      "200\n",
      "[[5865 1621]\n",
      " [ 122  613]]\n",
      "              precision    recall  f1-score   support\n",
      "\n",
      "           0       0.98      0.78      0.87      7486\n",
      "           1       0.27      0.83      0.41       735\n",
      "\n",
      "    accuracy                           0.79      8221\n",
      "   macro avg       0.63      0.81      0.64      8221\n",
      "weighted avg       0.92      0.79      0.83      8221\n",
      "\n",
      "400\n",
      "[[6199 1287]\n",
      " [ 193  542]]\n",
      "              precision    recall  f1-score   support\n",
      "\n",
      "           0       0.97      0.83      0.89      7486\n",
      "           1       0.30      0.74      0.42       735\n",
      "\n",
      "    accuracy                           0.82      8221\n",
      "   macro avg       0.63      0.78      0.66      8221\n",
      "weighted avg       0.91      0.82      0.85      8221\n",
      "\n",
      "600\n",
      "[[6391 1095]\n",
      " [ 226  509]]\n",
      "              precision    recall  f1-score   support\n",
      "\n",
      "           0       0.97      0.85      0.91      7486\n",
      "           1       0.32      0.69      0.44       735\n",
      "\n",
      "    accuracy                           0.84      8221\n",
      "   macro avg       0.64      0.77      0.67      8221\n",
      "weighted avg       0.91      0.84      0.86      8221\n",
      "\n",
      "800\n",
      "[[6518  968]\n",
      " [ 246  489]]\n",
      "              precision    recall  f1-score   support\n",
      "\n",
      "           0       0.96      0.87      0.91      7486\n",
      "           1       0.34      0.67      0.45       735\n",
      "\n",
      "    accuracy                           0.85      8221\n",
      "   macro avg       0.65      0.77      0.68      8221\n",
      "weighted avg       0.91      0.85      0.87      8221\n",
      "\n"
     ]
    }
   ],
   "source": [
    "for x in [100,200,400,600,800]:\n",
    "    classifier = ltb.LGBMClassifier(scale_pos_weight=ratio,objective='binary',num_iterations=x)\n",
    "    classifier.fit(x_train[features_by_treeBased], y_train)\n",
    "    y_val_pred = classifier.predict(x_val[features_by_treeBased])\n",
    "    print(x)\n",
    "    print(confusion_matrix(y_val, y_val_pred))\n",
    "    print(classification_report(y_val, y_val_pred))"
   ]
  },
  {
   "cell_type": "code",
   "execution_count": 415,
   "metadata": {},
   "outputs": [
    {
     "name": "stdout",
     "output_type": "stream",
     "text": [
      "4\n",
      "[[5738 1748]\n",
      " [  98  637]]\n",
      "              precision    recall  f1-score   support\n",
      "\n",
      "           0       0.98      0.77      0.86      7486\n",
      "           1       0.27      0.87      0.41       735\n",
      "\n",
      "    accuracy                           0.78      8221\n",
      "   macro avg       0.63      0.82      0.63      8221\n",
      "weighted avg       0.92      0.78      0.82      8221\n",
      "\n",
      "5\n",
      "[[5905 1581]\n",
      " [ 133  602]]\n",
      "              precision    recall  f1-score   support\n",
      "\n",
      "           0       0.98      0.79      0.87      7486\n",
      "           1       0.28      0.82      0.41       735\n",
      "\n",
      "    accuracy                           0.79      8221\n",
      "   macro avg       0.63      0.80      0.64      8221\n",
      "weighted avg       0.92      0.79      0.83      8221\n",
      "\n",
      "6\n",
      "[[6065 1421]\n",
      " [ 142  593]]\n",
      "              precision    recall  f1-score   support\n",
      "\n",
      "           0       0.98      0.81      0.89      7486\n",
      "           1       0.29      0.81      0.43       735\n",
      "\n",
      "    accuracy                           0.81      8221\n",
      "   macro avg       0.64      0.81      0.66      8221\n",
      "weighted avg       0.92      0.81      0.85      8221\n",
      "\n"
     ]
    }
   ],
   "source": [
    "for x in [4,5,6,]:\n",
    "    classifier = ltb.LGBMClassifier(scale_pos_weight=ratio,objective='binary',num_iterations=400,max_depth=x)\n",
    "    classifier.fit(x_train[features_by_treeBased], y_train)\n",
    "    y_val_pred = classifier.predict(x_val[features_by_treeBased])\n",
    "    print(x)\n",
    "    print(confusion_matrix(y_val, y_val_pred))\n",
    "    print(classification_report(y_val, y_val_pred))"
   ]
  },
  {
   "cell_type": "code",
   "execution_count": 416,
   "metadata": {},
   "outputs": [
    {
     "name": "stdout",
     "output_type": "stream",
     "text": [
      "0.01\n",
      "[[5290 2196]\n",
      " [  58  677]]\n",
      "              precision    recall  f1-score   support\n",
      "\n",
      "           0       0.99      0.71      0.82      7486\n",
      "           1       0.24      0.92      0.38       735\n",
      "\n",
      "    accuracy                           0.73      8221\n",
      "   macro avg       0.61      0.81      0.60      8221\n",
      "weighted avg       0.92      0.73      0.78      8221\n",
      "\n",
      "0.05\n",
      "[[5783 1703]\n",
      " [ 106  629]]\n",
      "              precision    recall  f1-score   support\n",
      "\n",
      "           0       0.98      0.77      0.86      7486\n",
      "           1       0.27      0.86      0.41       735\n",
      "\n",
      "    accuracy                           0.78      8221\n",
      "   macro avg       0.63      0.81      0.64      8221\n",
      "weighted avg       0.92      0.78      0.82      8221\n",
      "\n",
      "0.1\n",
      "[[6065 1421]\n",
      " [ 142  593]]\n",
      "              precision    recall  f1-score   support\n",
      "\n",
      "           0       0.98      0.81      0.89      7486\n",
      "           1       0.29      0.81      0.43       735\n",
      "\n",
      "    accuracy                           0.81      8221\n",
      "   macro avg       0.64      0.81      0.66      8221\n",
      "weighted avg       0.92      0.81      0.85      8221\n",
      "\n",
      "0.5\n",
      "[[6757  729]\n",
      " [ 294  441]]\n",
      "              precision    recall  f1-score   support\n",
      "\n",
      "           0       0.96      0.90      0.93      7486\n",
      "           1       0.38      0.60      0.46       735\n",
      "\n",
      "    accuracy                           0.88      8221\n",
      "   macro avg       0.67      0.75      0.70      8221\n",
      "weighted avg       0.91      0.88      0.89      8221\n",
      "\n"
     ]
    }
   ],
   "source": [
    "for x in [0.01,0.05,0.1,0.5]:\n",
    "    classifier = ltb.LGBMClassifier(scale_pos_weight=ratio,objective='binary',num_iterations=400,max_depth=6,learning_rate=x)\n",
    "    classifier.fit(x_train[features_by_treeBased], y_train)\n",
    "    y_val_pred = classifier.predict(x_val[features_by_treeBased])\n",
    "    print(x)\n",
    "    print(confusion_matrix(y_val, y_val_pred))\n",
    "    print(classification_report(y_val, y_val_pred))"
   ]
  },
  {
   "cell_type": "code",
   "execution_count": 417,
   "metadata": {},
   "outputs": [
    {
     "name": "stdout",
     "output_type": "stream",
     "text": [
      "16\n",
      "[[5858 1628]\n",
      " [ 122  613]]\n",
      "              precision    recall  f1-score   support\n",
      "\n",
      "           0       0.98      0.78      0.87      7486\n",
      "           1       0.27      0.83      0.41       735\n",
      "\n",
      "    accuracy                           0.79      8221\n",
      "   macro avg       0.63      0.81      0.64      8221\n",
      "weighted avg       0.92      0.79      0.83      8221\n",
      "\n",
      "32\n",
      "[[6065 1421]\n",
      " [ 154  581]]\n",
      "              precision    recall  f1-score   support\n",
      "\n",
      "           0       0.98      0.81      0.89      7486\n",
      "           1       0.29      0.79      0.42       735\n",
      "\n",
      "    accuracy                           0.81      8221\n",
      "   macro avg       0.63      0.80      0.65      8221\n",
      "weighted avg       0.91      0.81      0.84      8221\n",
      "\n",
      "64\n",
      "[[6162 1324]\n",
      " [ 176  559]]\n",
      "              precision    recall  f1-score   support\n",
      "\n",
      "           0       0.97      0.82      0.89      7486\n",
      "           1       0.30      0.76      0.43       735\n",
      "\n",
      "    accuracy                           0.82      8221\n",
      "   macro avg       0.63      0.79      0.66      8221\n",
      "weighted avg       0.91      0.82      0.85      8221\n",
      "\n"
     ]
    }
   ],
   "source": [
    "for x in [16,32,64]:\n",
    "    classifier = ltb.LGBMClassifier(scale_pos_weight=ratio,objective='binary',\n",
    "                                    num_iterations=400,max_depth=6,learning_rate=0.1,\n",
    "                                   num_leaves=x)\n",
    "    classifier.fit(x_train[features_by_treeBased], y_train)\n",
    "    y_val_pred = classifier.predict(x_val[features_by_treeBased])\n",
    "    print(x)\n",
    "    print(confusion_matrix(y_val, y_val_pred))\n",
    "    print(classification_report(y_val, y_val_pred))"
   ]
  },
  {
   "cell_type": "code",
   "execution_count": 418,
   "metadata": {},
   "outputs": [
    {
     "name": "stdout",
     "output_type": "stream",
     "text": [
      "0.4\n",
      "[[5971 1515]\n",
      " [ 139  596]]\n",
      "              precision    recall  f1-score   support\n",
      "\n",
      "           0       0.98      0.80      0.88      7486\n",
      "           1       0.28      0.81      0.42       735\n",
      "\n",
      "    accuracy                           0.80      8221\n",
      "   macro avg       0.63      0.80      0.65      8221\n",
      "weighted avg       0.92      0.80      0.84      8221\n",
      "\n",
      "0.6\n",
      "[[6028 1458]\n",
      " [ 144  591]]\n",
      "              precision    recall  f1-score   support\n",
      "\n",
      "           0       0.98      0.81      0.88      7486\n",
      "           1       0.29      0.80      0.42       735\n",
      "\n",
      "    accuracy                           0.81      8221\n",
      "   macro avg       0.63      0.80      0.65      8221\n",
      "weighted avg       0.92      0.81      0.84      8221\n",
      "\n",
      "0.8\n",
      "[[6049 1437]\n",
      " [ 164  571]]\n",
      "              precision    recall  f1-score   support\n",
      "\n",
      "           0       0.97      0.81      0.88      7486\n",
      "           1       0.28      0.78      0.42       735\n",
      "\n",
      "    accuracy                           0.81      8221\n",
      "   macro avg       0.63      0.79      0.65      8221\n",
      "weighted avg       0.91      0.81      0.84      8221\n",
      "\n",
      "1.0\n",
      "[[6065 1421]\n",
      " [ 154  581]]\n",
      "              precision    recall  f1-score   support\n",
      "\n",
      "           0       0.98      0.81      0.89      7486\n",
      "           1       0.29      0.79      0.42       735\n",
      "\n",
      "    accuracy                           0.81      8221\n",
      "   macro avg       0.63      0.80      0.65      8221\n",
      "weighted avg       0.91      0.81      0.84      8221\n",
      "\n"
     ]
    }
   ],
   "source": [
    "for x in [0.4,0.6, 0.8,1.0]:\n",
    "    classifier = ltb.LGBMClassifier(scale_pos_weight=ratio,objective='binary',\n",
    "                                    num_iterations=400,max_depth=6,learning_rate=0.1,\n",
    "                                   num_leaves=32,colsample_bytree=x)\n",
    "    classifier.fit(x_train[features_by_treeBased], y_train)\n",
    "    y_val_pred = classifier.predict(x_val[features_by_treeBased])\n",
    "    print(x)\n",
    "    print(confusion_matrix(y_val, y_val_pred))\n",
    "    print(classification_report(y_val, y_val_pred))"
   ]
  },
  {
   "cell_type": "markdown",
   "metadata": {
    "id": "MleubAsE3R9a"
   },
   "source": [
    "###### Final Parameter Selected"
   ]
  },
  {
   "cell_type": "code",
   "execution_count": 419,
   "metadata": {
    "id": "BcoHUg9z2K7q"
   },
   "outputs": [],
   "source": [
    "classifier = ltb.LGBMClassifier(scale_pos_weight=ratio,objective='binary',\n",
    "                                    num_iterations=400,max_depth=6,learning_rate=0.1,\n",
    "                                   num_leaves=32,colsample_bytree=0.6)"
   ]
  },
  {
   "cell_type": "code",
   "execution_count": 420,
   "metadata": {
    "colab": {
     "base_uri": "https://localhost:8080/"
    },
    "id": "0z4fTrpepUEM",
    "outputId": "af2b278e-0112-4100-bf32-30e69ff8903c"
   },
   "outputs": [
    {
     "name": "stdout",
     "output_type": "stream",
     "text": [
      "On Train\n",
      "[[28829  6300]\n",
      " [  105  3131]]\n",
      "              precision    recall  f1-score   support\n",
      "\n",
      "           0       1.00      0.82      0.90     35129\n",
      "           1       0.33      0.97      0.49      3236\n",
      "\n",
      "    accuracy                           0.83     38365\n",
      "   macro avg       0.66      0.89      0.70     38365\n",
      "weighted avg       0.94      0.83      0.87     38365\n",
      "\n",
      "On Validation\n",
      "[[6028 1458]\n",
      " [ 144  591]]\n",
      "              precision    recall  f1-score   support\n",
      "\n",
      "           0       0.98      0.81      0.88      7486\n",
      "           1       0.29      0.80      0.42       735\n",
      "\n",
      "    accuracy                           0.81      8221\n",
      "   macro avg       0.63      0.80      0.65      8221\n",
      "weighted avg       0.92      0.81      0.84      8221\n",
      "\n"
     ]
    }
   ],
   "source": [
    "# Checking again on train and validation that it don't have overfitting\n",
    "\n",
    "classifier.fit(x_train[features_by_treeBased], y_train)            # training on train\n",
    "y_train_pred = classifier.predict(x_train[features_by_treeBased])  # predicting on train\n",
    "print(\"On Train\")\n",
    "print(confusion_matrix(y_train, y_train_pred))     \n",
    "print(classification_report(y_train, y_train_pred))\n",
    "y_val_pred = classifier.predict(x_val[features_by_treeBased])      # predicting on validation\n",
    "print(\"On Validation\")\n",
    "print(confusion_matrix(y_val, y_val_pred))\n",
    "print(classification_report(y_val, y_val_pred))"
   ]
  },
  {
   "cell_type": "markdown",
   "metadata": {
    "id": "0jIY5Gk_3Wjg"
   },
   "source": [
    "###### Local Test"
   ]
  },
  {
   "cell_type": "code",
   "execution_count": 421,
   "metadata": {
    "colab": {
     "base_uri": "https://localhost:8080/"
    },
    "id": "7reSARpb2TSR",
    "outputId": "4c09f87b-71a4-4eb9-98d9-af678878bea1"
   },
   "outputs": [
    {
     "name": "stdout",
     "output_type": "stream",
     "text": [
      "[[6069 1456]\n",
      " [ 140  557]]\n",
      "              precision    recall  f1-score   support\n",
      "\n",
      "           0       0.98      0.81      0.88      7525\n",
      "           1       0.28      0.80      0.41       697\n",
      "\n",
      "    accuracy                           0.81      8222\n",
      "   macro avg       0.63      0.80      0.65      8222\n",
      "weighted avg       0.92      0.81      0.84      8222\n",
      "\n"
     ]
    }
   ],
   "source": [
    "# Finally checking on local test\n",
    "classifier.fit(x_train[features_by_treeBased], y_train)\n",
    "y_test_pred = classifier.predict(x_test[features_by_treeBased])\n",
    "print(confusion_matrix(y_test, y_test_pred))\n",
    "print(classification_report(y_test, y_test_pred))"
   ]
  },
  {
   "cell_type": "markdown",
   "metadata": {
    "id": "b199FPrz4LaZ"
   },
   "source": [
    "#### Final Model selected is : Light BGM with following parameter"
   ]
  },
  {
   "cell_type": "code",
   "execution_count": 422,
   "metadata": {
    "id": "NQZFv0qg4iRb"
   },
   "outputs": [],
   "source": [
    "# This is model with all required parameter\n",
    "classifier = ltb.LGBMClassifier(scale_pos_weight=ratio,objective='binary',\n",
    "                                    num_iterations=400,max_depth=6,learning_rate=0.1,\n",
    "                                   num_leaves=32,colsample_bytree=0.6)"
   ]
  },
  {
   "cell_type": "code",
   "execution_count": 423,
   "metadata": {
    "colab": {
     "base_uri": "https://localhost:8080/"
    },
    "id": "Z7Ym37Za4uaE",
    "outputId": "0df905bf-1c6e-4537-82cf-67e098eabffc"
   },
   "outputs": [
    {
     "data": {
      "text/plain": [
       "['KPIs_met >80%',\n",
       " 'awards_won?',\n",
       " 'department',\n",
       " 'avg_training_score',\n",
       " 'previous_year_rating_na',\n",
       " 'region',\n",
       " 'no_of_trainings',\n",
       " 'education_NA',\n",
       " 'gender',\n",
       " 'length_of_service']"
      ]
     },
     "execution_count": 423,
     "metadata": {},
     "output_type": "execute_result"
    }
   ],
   "source": [
    "# Features will be used\n",
    "features_by_treeBased"
   ]
  },
  {
   "cell_type": "markdown",
   "metadata": {
    "id": "jqUpIyaA7l6S"
   },
   "source": [
    "Combining train and val to make new train to again test my local test"
   ]
  },
  {
   "cell_type": "code",
   "execution_count": 424,
   "metadata": {
    "id": "N8XffjBX6j5j"
   },
   "outputs": [],
   "source": [
    "X_final_train = pd.concat([x_train,x_val])\n",
    "Y_final_train = pd.concat([y_train,y_val])"
   ]
  },
  {
   "cell_type": "code",
   "execution_count": 425,
   "metadata": {
    "colab": {
     "base_uri": "https://localhost:8080/"
    },
    "id": "2U5WTYfWuYoW",
    "outputId": "97d378dd-8260-4c9e-a3fb-2f57afb921ee"
   },
   "outputs": [
    {
     "data": {
      "text/plain": [
       "LGBMClassifier(colsample_bytree=0.6, max_depth=6, num_iterations=400,\n",
       "               num_leaves=32, objective='binary',\n",
       "               scale_pos_weight=10.855686032138443)"
      ]
     },
     "execution_count": 425,
     "metadata": {},
     "output_type": "execute_result"
    }
   ],
   "source": [
    "classifier.fit(X_final_train[features_by_treeBased], Y_final_train) # using combined"
   ]
  },
  {
   "cell_type": "code",
   "execution_count": 426,
   "metadata": {
    "colab": {
     "base_uri": "https://localhost:8080/"
    },
    "id": "3s83v5vl69Eq",
    "outputId": "e412265c-7ada-416a-dcaa-165c32ef8e76"
   },
   "outputs": [
    {
     "name": "stdout",
     "output_type": "stream",
     "text": [
      "[[6009 1516]\n",
      " [ 124  573]]\n",
      "              precision    recall  f1-score   support\n",
      "\n",
      "           0       0.98      0.80      0.88      7525\n",
      "           1       0.27      0.82      0.41       697\n",
      "\n",
      "    accuracy                           0.80      8222\n",
      "   macro avg       0.63      0.81      0.65      8222\n",
      "weighted avg       0.92      0.80      0.84      8222\n",
      "\n"
     ]
    }
   ],
   "source": [
    "# again testing on local test with training on (train + validation) data\n",
    "y_test_pred = classifier.predict(x_test[features_by_treeBased])\n",
    "print(confusion_matrix(y_test, y_test_pred))\n",
    "print(classification_report(y_test, y_test_pred))"
   ]
  },
  {
   "cell_type": "markdown",
   "metadata": {
    "id": "ujb9yujxKrWh"
   },
   "source": [
    "CV (Just to see max and min of accuracy and F1 )"
   ]
  },
  {
   "cell_type": "code",
   "execution_count": 427,
   "metadata": {
    "colab": {
     "base_uri": "https://localhost:8080/"
    },
    "id": "KZECKrkEGpi8",
    "outputId": "e337205e-dea9-4818-e0d1-aa0200f8868a"
   },
   "outputs": [
    {
     "name": "stdout",
     "output_type": "stream",
     "text": [
      "train :  [ 4348  4378  4383 ... 46583 46584 46585] Validation :  [   0    1    2 ... 4682 4683 4684]\n",
      "train :  [    0     1     2 ... 46583 46584 46585] Validation :  [4348 4378 4383 ... 9351 9352 9353]\n",
      "train :  [    0     1     2 ... 46583 46584 46585] Validation :  [ 8921  8931  8951 ... 13997 13998 13999]\n",
      "train :  [    0     1     2 ... 46583 46584 46585] Validation :  [13530 13549 13552 ... 18663 18668 18678]\n",
      "train :  [    0     1     2 ... 46583 46584 46585] Validation :  [18627 18628 18629 ... 23441 23444 23453]\n",
      "train :  [    0     1     2 ... 46583 46584 46585] Validation :  [23276 23277 23278 ... 28477 28485 28495]\n",
      "train :  [    0     1     2 ... 46583 46584 46585] Validation :  [27896 27897 27898 ... 33062 33067 33093]\n",
      "train :  [    0     1     2 ... 46583 46584 46585] Validation :  [32565 32566 32567 ... 37526 37538 37540]\n",
      "train :  [    0     1     2 ... 46583 46584 46585] Validation :  [37240 37241 37242 ... 42118 42134 42135]\n",
      "train :  [    0     1     2 ... 42118 42134 42135] Validation :  [41911 41912 41913 ... 46583 46584 46585]\n",
      "Average Accuracy :  0.7977933446633619\n",
      "Max Accuracy :  0.8083279673749731\n",
      "Min Accuracy :  0.7862202189311011\n",
      "Average F1_score :  0.6402961679235979\n",
      "Max F1_score :  0.6513871449812538\n",
      "Min F1_score :  0.6286239933618545\n"
     ]
    }
   ],
   "source": [
    "accuracy=[]   # will contain accuracy\n",
    "f1=[]         # will contain f1\n",
    "X = X_final_train[features_by_treeBased]\n",
    "Y =  Y_final_train\n",
    "skf = StratifiedKFold(n_splits=10,random_state=None)  # StratifiedKFold\n",
    "skf.get_n_splits(X,Y) \n",
    "for train_index, test_index in skf.split(X,Y):\n",
    "  print(\"train : \",train_index,\"Validation : \",test_index)\n",
    "  X1_train, X1_test = X.iloc[train_index] , X.iloc[test_index]\n",
    "  y1_train, y1_test = Y.iloc[train_index] , Y.iloc[test_index]\n",
    "  classifier.fit(X1_train,y1_train)           # fitting\n",
    "  prediction = classifier.predict(X1_test)    # predicting\n",
    "  score = accuracy_score(prediction,y1_test)\n",
    "  score2 = f1_score(prediction,y1_test,average='macro')\n",
    "  accuracy.append(score)  # adding all accuracy\n",
    "  f1.append(score2)       # adding all macro avg f1_score\n",
    "print(\"Average Accuracy : \",np.array(accuracy).mean())      # Average accuracy\n",
    "print(\"Max Accuracy : \",np.array(accuracy).max())           # Max Accuracy\n",
    "print(\"Min Accuracy : \",np.array(accuracy).min())           # Min Accuracy\n",
    "print(\"Average F1_score : \",np.array(f1).mean())            # Average F1_score\n",
    "print(\"Max F1_score : \",np.array(f1).max())                 # Max F1_score\n",
    "print(\"Min F1_score : \",np.array(f1).min())                 # Min F1_score"
   ]
  },
  {
   "cell_type": "code",
   "execution_count": 399,
   "metadata": {},
   "outputs": [],
   "source": [
    "#X_final_train = pd.concat([X_final_train,x_test])\n",
    "#Y_final_train = pd.concat([Y_final_train,y_test])"
   ]
  },
  {
   "cell_type": "markdown",
   "metadata": {
    "id": "FnLyxafVV_De"
   },
   "source": [
    "### Real Test data"
   ]
  },
  {
   "cell_type": "code",
   "execution_count": 428,
   "metadata": {
    "id": "_QzFj7JQV-sf"
   },
   "outputs": [],
   "source": [
    "test_file = pd.read_csv('test.csv') # importing test file\n",
    "test = test_file.copy() # making a copy, so that atlast I can have a dataset looking like original with is_promoted column"
   ]
  },
  {
   "cell_type": "code",
   "execution_count": 429,
   "metadata": {
    "id": "nTYuvw1Ea57q"
   },
   "outputs": [],
   "source": [
    "#Education null imputation\n",
    "\n",
    "test['education_NA'] = test.loc[:,'education'].fillna('Not Available')\n",
    "test['education_mode'] = test.loc[:,'education'].fillna(education_column_mode)"
   ]
  },
  {
   "cell_type": "code",
   "execution_count": 430,
   "metadata": {
    "id": "7qsDBVNKg59S"
   },
   "outputs": [],
   "source": [
    "# Previous year rating null imputation\n",
    "\n",
    "test['previous_year_rating_na'] = np.where(test['previous_year_rating'].isnull(),test.apply(new_rating,axis=1),test['previous_year_rating'])\n",
    "test['previous_year_rating_na_median'] = test.loc[:,'previous_year_rating'].fillna(previous_year_rating_median)"
   ]
  },
  {
   "cell_type": "code",
   "execution_count": 431,
   "metadata": {
    "id": "5jFT52Ypg9ka"
   },
   "outputs": [],
   "source": [
    "# New features added\n",
    "\n",
    "test['score>90'] = np.where(test['avg_training_score']>89,1,0)\n",
    "test['regional_promotion'] = test['region'].map(region_is_promoted_dic)\n",
    "test['promotion_on_trainings'] = test['no_of_trainings'].map(training_is_promoted)\n",
    "test['promotion_on_lengthOfService'] = test['length_of_service'].map(los_is_promoted_dic)\n",
    "test['recruitment_rank'] = test['recruitment_channel'].map(recruitment_rank_dic)"
   ]
  },
  {
   "cell_type": "code",
   "execution_count": 432,
   "metadata": {
    "id": "K10xOsPrhAuX"
   },
   "outputs": [],
   "source": [
    "# All encodings\n",
    "\n",
    "test['gender'] = test['gender'].map(gender_dic)\n",
    "test.loc[:,'department'] = test['department'].map(department_dic)\n",
    "test.loc[:,'education_mode'] = test['education_mode'].map(education_dic_mode)\n",
    "test.loc[:,'education_NA'] = test['education_NA'].map(education_dic_na)\n",
    "test.loc[:,'region'] = test['region'].map(region_dic)\n",
    "test.loc[:,'recruitment_channel'] = test['recruitment_channel'].map(recruitment_channel_dic)"
   ]
  },
  {
   "cell_type": "code",
   "execution_count": 433,
   "metadata": {
    "colab": {
     "base_uri": "https://localhost:8080/",
     "height": 243
    },
    "id": "YGz4YpmyhDP6",
    "outputId": "43a80cca-d6d5-4391-9a77-5e8c4366b946"
   },
   "outputs": [
    {
     "data": {
      "text/html": [
       "<div>\n",
       "<style scoped>\n",
       "    .dataframe tbody tr th:only-of-type {\n",
       "        vertical-align: middle;\n",
       "    }\n",
       "\n",
       "    .dataframe tbody tr th {\n",
       "        vertical-align: top;\n",
       "    }\n",
       "\n",
       "    .dataframe thead th {\n",
       "        text-align: right;\n",
       "    }\n",
       "</style>\n",
       "<table border=\"1\" class=\"dataframe\">\n",
       "  <thead>\n",
       "    <tr style=\"text-align: right;\">\n",
       "      <th></th>\n",
       "      <th>employee_id</th>\n",
       "      <th>department</th>\n",
       "      <th>region</th>\n",
       "      <th>gender</th>\n",
       "      <th>recruitment_channel</th>\n",
       "      <th>no_of_trainings</th>\n",
       "      <th>age</th>\n",
       "      <th>length_of_service</th>\n",
       "      <th>KPIs_met &gt;80%</th>\n",
       "      <th>awards_won?</th>\n",
       "      <th>avg_training_score</th>\n",
       "      <th>education_NA</th>\n",
       "      <th>education_mode</th>\n",
       "      <th>previous_year_rating_na</th>\n",
       "      <th>previous_year_rating_na_median</th>\n",
       "      <th>score&gt;90</th>\n",
       "      <th>regional_promotion</th>\n",
       "      <th>promotion_on_trainings</th>\n",
       "      <th>promotion_on_lengthOfService</th>\n",
       "      <th>recruitment_rank</th>\n",
       "    </tr>\n",
       "  </thead>\n",
       "  <tbody>\n",
       "    <tr>\n",
       "      <th>0</th>\n",
       "      <td>8724</td>\n",
       "      <td>0.107379</td>\n",
       "      <td>0.062619</td>\n",
       "      <td>1</td>\n",
       "      <td>0.084834</td>\n",
       "      <td>1</td>\n",
       "      <td>24</td>\n",
       "      <td>1</td>\n",
       "      <td>1</td>\n",
       "      <td>0</td>\n",
       "      <td>77</td>\n",
       "      <td>0.080867</td>\n",
       "      <td>2</td>\n",
       "      <td>3.228944</td>\n",
       "      <td>3.0</td>\n",
       "      <td>0</td>\n",
       "      <td>1</td>\n",
       "      <td>2</td>\n",
       "      <td>1</td>\n",
       "      <td>2</td>\n",
       "    </tr>\n",
       "    <tr>\n",
       "      <th>1</th>\n",
       "      <td>74430</td>\n",
       "      <td>0.056471</td>\n",
       "      <td>0.149180</td>\n",
       "      <td>0</td>\n",
       "      <td>0.082518</td>\n",
       "      <td>1</td>\n",
       "      <td>31</td>\n",
       "      <td>5</td>\n",
       "      <td>0</td>\n",
       "      <td>0</td>\n",
       "      <td>51</td>\n",
       "      <td>0.080867</td>\n",
       "      <td>2</td>\n",
       "      <td>3.000000</td>\n",
       "      <td>3.0</td>\n",
       "      <td>0</td>\n",
       "      <td>3</td>\n",
       "      <td>2</td>\n",
       "      <td>3</td>\n",
       "      <td>1</td>\n",
       "    </tr>\n",
       "    <tr>\n",
       "      <th>2</th>\n",
       "      <td>72255</td>\n",
       "      <td>0.070888</td>\n",
       "      <td>0.092063</td>\n",
       "      <td>1</td>\n",
       "      <td>0.082518</td>\n",
       "      <td>1</td>\n",
       "      <td>31</td>\n",
       "      <td>4</td>\n",
       "      <td>0</td>\n",
       "      <td>0</td>\n",
       "      <td>47</td>\n",
       "      <td>0.080867</td>\n",
       "      <td>2</td>\n",
       "      <td>1.000000</td>\n",
       "      <td>1.0</td>\n",
       "      <td>0</td>\n",
       "      <td>2</td>\n",
       "      <td>2</td>\n",
       "      <td>3</td>\n",
       "      <td>1</td>\n",
       "    </tr>\n",
       "    <tr>\n",
       "      <th>3</th>\n",
       "      <td>38562</td>\n",
       "      <td>0.097046</td>\n",
       "      <td>0.079461</td>\n",
       "      <td>0</td>\n",
       "      <td>0.082518</td>\n",
       "      <td>3</td>\n",
       "      <td>31</td>\n",
       "      <td>9</td>\n",
       "      <td>0</td>\n",
       "      <td>0</td>\n",
       "      <td>65</td>\n",
       "      <td>0.080867</td>\n",
       "      <td>2</td>\n",
       "      <td>2.000000</td>\n",
       "      <td>2.0</td>\n",
       "      <td>0</td>\n",
       "      <td>2</td>\n",
       "      <td>2</td>\n",
       "      <td>2</td>\n",
       "      <td>1</td>\n",
       "    </tr>\n",
       "    <tr>\n",
       "      <th>4</th>\n",
       "      <td>64486</td>\n",
       "      <td>0.078046</td>\n",
       "      <td>0.041547</td>\n",
       "      <td>1</td>\n",
       "      <td>0.084834</td>\n",
       "      <td>1</td>\n",
       "      <td>30</td>\n",
       "      <td>7</td>\n",
       "      <td>0</td>\n",
       "      <td>0</td>\n",
       "      <td>61</td>\n",
       "      <td>0.080867</td>\n",
       "      <td>2</td>\n",
       "      <td>4.000000</td>\n",
       "      <td>4.0</td>\n",
       "      <td>0</td>\n",
       "      <td>1</td>\n",
       "      <td>2</td>\n",
       "      <td>2</td>\n",
       "      <td>2</td>\n",
       "    </tr>\n",
       "  </tbody>\n",
       "</table>\n",
       "</div>"
      ],
      "text/plain": [
       "   employee_id  department    region  gender  recruitment_channel  \\\n",
       "0         8724    0.107379  0.062619       1             0.084834   \n",
       "1        74430    0.056471  0.149180       0             0.082518   \n",
       "2        72255    0.070888  0.092063       1             0.082518   \n",
       "3        38562    0.097046  0.079461       0             0.082518   \n",
       "4        64486    0.078046  0.041547       1             0.084834   \n",
       "\n",
       "   no_of_trainings  age  length_of_service  KPIs_met >80%  awards_won?  \\\n",
       "0                1   24                  1              1            0   \n",
       "1                1   31                  5              0            0   \n",
       "2                1   31                  4              0            0   \n",
       "3                3   31                  9              0            0   \n",
       "4                1   30                  7              0            0   \n",
       "\n",
       "   avg_training_score  education_NA  education_mode  previous_year_rating_na  \\\n",
       "0                  77      0.080867               2                 3.228944   \n",
       "1                  51      0.080867               2                 3.000000   \n",
       "2                  47      0.080867               2                 1.000000   \n",
       "3                  65      0.080867               2                 2.000000   \n",
       "4                  61      0.080867               2                 4.000000   \n",
       "\n",
       "   previous_year_rating_na_median  score>90  regional_promotion  \\\n",
       "0                             3.0         0                   1   \n",
       "1                             3.0         0                   3   \n",
       "2                             1.0         0                   2   \n",
       "3                             2.0         0                   2   \n",
       "4                             4.0         0                   1   \n",
       "\n",
       "   promotion_on_trainings  promotion_on_lengthOfService  recruitment_rank  \n",
       "0                       2                             1                 2  \n",
       "1                       2                             3                 1  \n",
       "2                       2                             3                 1  \n",
       "3                       2                             2                 1  \n",
       "4                       2                             2                 2  "
      ]
     },
     "execution_count": 433,
     "metadata": {},
     "output_type": "execute_result"
    }
   ],
   "source": [
    "# Removing old features having null which is already imputed as another feature\n",
    "\n",
    "test.drop(columns = ['education','previous_year_rating'],inplace=True)\n",
    "test.head()"
   ]
  },
  {
   "cell_type": "code",
   "execution_count": 434,
   "metadata": {
    "id": "JOYFTE-IhIc0"
   },
   "outputs": [],
   "source": [
    "# droping feature which was having low corelation with target as compared to its competitor\n",
    "test.drop(labels=['education_mode'], axis=1, inplace=True)\n",
    "test.drop(labels=corr_features, axis=1, inplace=True)"
   ]
  },
  {
   "cell_type": "markdown",
   "metadata": {
    "id": "P3agL689yM05"
   },
   "source": [
    "\n",
    "\n",
    "---\n",
    "\n",
    "\n",
    "\n",
    "---\n",
    "\n"
   ]
  },
  {
   "cell_type": "markdown",
   "metadata": {
    "id": "NiSvz6AN7wH3"
   },
   "source": [
    "Prediction"
   ]
  },
  {
   "cell_type": "code",
   "execution_count": 435,
   "metadata": {
    "colab": {
     "base_uri": "https://localhost:8080/"
    },
    "id": "1ROYd2KkvB2d",
    "outputId": "95326119-d66e-4dec-c423-9e76a59088f8"
   },
   "outputs": [
    {
     "data": {
      "text/plain": [
       "LGBMClassifier(colsample_bytree=0.6, max_depth=6, num_iterations=400,\n",
       "               num_leaves=32, objective='binary',\n",
       "               scale_pos_weight=10.855686032138443)"
      ]
     },
     "execution_count": 435,
     "metadata": {},
     "output_type": "execute_result"
    }
   ],
   "source": [
    "classifier"
   ]
  },
  {
   "cell_type": "code",
   "execution_count": 436,
   "metadata": {
    "colab": {
     "base_uri": "https://localhost:8080/"
    },
    "id": "qupc2QXMvHWO",
    "outputId": "a6eb1bdc-3592-443d-e8cd-4f5233ba1a2b"
   },
   "outputs": [
    {
     "data": {
      "text/plain": [
       "['KPIs_met >80%',\n",
       " 'awards_won?',\n",
       " 'department',\n",
       " 'avg_training_score',\n",
       " 'previous_year_rating_na',\n",
       " 'region',\n",
       " 'no_of_trainings',\n",
       " 'education_NA',\n",
       " 'gender',\n",
       " 'length_of_service']"
      ]
     },
     "execution_count": 436,
     "metadata": {},
     "output_type": "execute_result"
    }
   ],
   "source": [
    "features_by_treeBased"
   ]
  },
  {
   "cell_type": "code",
   "execution_count": 437,
   "metadata": {
    "id": "PlCyW3SP4qKK"
   },
   "outputs": [],
   "source": [
    "# fitting it on final train data\n",
    "classifier.fit(X_final_train[features_by_treeBased], Y_final_train)\n",
    "test_pred = classifier.predict(test[features_by_treeBased]) # predicting\n",
    "test_file['is_promoted'] = test_pred # making column in original dataset"
   ]
  },
  {
   "cell_type": "code",
   "execution_count": 438,
   "metadata": {},
   "outputs": [],
   "source": [
    "pickle.dump(classifier, open('model.pkl','wb'))"
   ]
  },
  {
   "cell_type": "code",
   "execution_count": 439,
   "metadata": {
    "colab": {
     "base_uri": "https://localhost:8080/",
     "height": 261
    },
    "id": "Zq2BlhZH7_X0",
    "outputId": "21bb214d-3935-41ed-f62f-e7086665213c"
   },
   "outputs": [
    {
     "data": {
      "text/html": [
       "<div>\n",
       "<style scoped>\n",
       "    .dataframe tbody tr th:only-of-type {\n",
       "        vertical-align: middle;\n",
       "    }\n",
       "\n",
       "    .dataframe tbody tr th {\n",
       "        vertical-align: top;\n",
       "    }\n",
       "\n",
       "    .dataframe thead th {\n",
       "        text-align: right;\n",
       "    }\n",
       "</style>\n",
       "<table border=\"1\" class=\"dataframe\">\n",
       "  <thead>\n",
       "    <tr style=\"text-align: right;\">\n",
       "      <th></th>\n",
       "      <th>employee_id</th>\n",
       "      <th>department</th>\n",
       "      <th>region</th>\n",
       "      <th>education</th>\n",
       "      <th>gender</th>\n",
       "      <th>recruitment_channel</th>\n",
       "      <th>no_of_trainings</th>\n",
       "      <th>age</th>\n",
       "      <th>previous_year_rating</th>\n",
       "      <th>length_of_service</th>\n",
       "      <th>KPIs_met &gt;80%</th>\n",
       "      <th>awards_won?</th>\n",
       "      <th>avg_training_score</th>\n",
       "      <th>is_promoted</th>\n",
       "    </tr>\n",
       "  </thead>\n",
       "  <tbody>\n",
       "    <tr>\n",
       "      <th>0</th>\n",
       "      <td>8724</td>\n",
       "      <td>Technology</td>\n",
       "      <td>region_26</td>\n",
       "      <td>Bachelor's</td>\n",
       "      <td>m</td>\n",
       "      <td>sourcing</td>\n",
       "      <td>1</td>\n",
       "      <td>24</td>\n",
       "      <td>NaN</td>\n",
       "      <td>1</td>\n",
       "      <td>1</td>\n",
       "      <td>0</td>\n",
       "      <td>77</td>\n",
       "      <td>1</td>\n",
       "    </tr>\n",
       "    <tr>\n",
       "      <th>1</th>\n",
       "      <td>74430</td>\n",
       "      <td>HR</td>\n",
       "      <td>region_4</td>\n",
       "      <td>Bachelor's</td>\n",
       "      <td>f</td>\n",
       "      <td>other</td>\n",
       "      <td>1</td>\n",
       "      <td>31</td>\n",
       "      <td>3.0</td>\n",
       "      <td>5</td>\n",
       "      <td>0</td>\n",
       "      <td>0</td>\n",
       "      <td>51</td>\n",
       "      <td>0</td>\n",
       "    </tr>\n",
       "    <tr>\n",
       "      <th>2</th>\n",
       "      <td>72255</td>\n",
       "      <td>Sales &amp; Marketing</td>\n",
       "      <td>region_13</td>\n",
       "      <td>Bachelor's</td>\n",
       "      <td>m</td>\n",
       "      <td>other</td>\n",
       "      <td>1</td>\n",
       "      <td>31</td>\n",
       "      <td>1.0</td>\n",
       "      <td>4</td>\n",
       "      <td>0</td>\n",
       "      <td>0</td>\n",
       "      <td>47</td>\n",
       "      <td>0</td>\n",
       "    </tr>\n",
       "    <tr>\n",
       "      <th>3</th>\n",
       "      <td>38562</td>\n",
       "      <td>Procurement</td>\n",
       "      <td>region_2</td>\n",
       "      <td>Bachelor's</td>\n",
       "      <td>f</td>\n",
       "      <td>other</td>\n",
       "      <td>3</td>\n",
       "      <td>31</td>\n",
       "      <td>2.0</td>\n",
       "      <td>9</td>\n",
       "      <td>0</td>\n",
       "      <td>0</td>\n",
       "      <td>65</td>\n",
       "      <td>0</td>\n",
       "    </tr>\n",
       "    <tr>\n",
       "      <th>4</th>\n",
       "      <td>64486</td>\n",
       "      <td>Finance</td>\n",
       "      <td>region_29</td>\n",
       "      <td>Bachelor's</td>\n",
       "      <td>m</td>\n",
       "      <td>sourcing</td>\n",
       "      <td>1</td>\n",
       "      <td>30</td>\n",
       "      <td>4.0</td>\n",
       "      <td>7</td>\n",
       "      <td>0</td>\n",
       "      <td>0</td>\n",
       "      <td>61</td>\n",
       "      <td>0</td>\n",
       "    </tr>\n",
       "  </tbody>\n",
       "</table>\n",
       "</div>"
      ],
      "text/plain": [
       "   employee_id         department     region   education gender  \\\n",
       "0         8724         Technology  region_26  Bachelor's      m   \n",
       "1        74430                 HR   region_4  Bachelor's      f   \n",
       "2        72255  Sales & Marketing  region_13  Bachelor's      m   \n",
       "3        38562        Procurement   region_2  Bachelor's      f   \n",
       "4        64486            Finance  region_29  Bachelor's      m   \n",
       "\n",
       "  recruitment_channel  no_of_trainings  age  previous_year_rating  \\\n",
       "0            sourcing                1   24                   NaN   \n",
       "1               other                1   31                   3.0   \n",
       "2               other                1   31                   1.0   \n",
       "3               other                3   31                   2.0   \n",
       "4            sourcing                1   30                   4.0   \n",
       "\n",
       "   length_of_service  KPIs_met >80%  awards_won?  avg_training_score  \\\n",
       "0                  1              1            0                  77   \n",
       "1                  5              0            0                  51   \n",
       "2                  4              0            0                  47   \n",
       "3                  9              0            0                  65   \n",
       "4                  7              0            0                  61   \n",
       "\n",
       "   is_promoted  \n",
       "0            1  \n",
       "1            0  \n",
       "2            0  \n",
       "3            0  \n",
       "4            0  "
      ]
     },
     "execution_count": 439,
     "metadata": {},
     "output_type": "execute_result"
    }
   ],
   "source": [
    "test_file.head()"
   ]
  },
  {
   "cell_type": "code",
   "execution_count": 440,
   "metadata": {},
   "outputs": [],
   "source": [
    "result = test_file[['employee_id','is_promoted']]\n",
    "result.to_csv('submission.csv', index=False)"
   ]
  },
  {
   "cell_type": "code",
   "execution_count": 441,
   "metadata": {
    "colab": {
     "base_uri": "https://localhost:8080/"
    },
    "id": "59W2rNWw8Dqg",
    "outputId": "7b41d849-4624-4c0d-a574-c9b41b9a57af"
   },
   "outputs": [
    {
     "data": {
      "text/plain": [
       "0    17499\n",
       "1     5991\n",
       "Name: is_promoted, dtype: int64"
      ]
     },
     "execution_count": 441,
     "metadata": {},
     "output_type": "execute_result"
    }
   ],
   "source": [
    "test_file['is_promoted'].value_counts() # lets see what no. of people are promoted and not promoted"
   ]
  },
  {
   "cell_type": "markdown",
   "metadata": {
    "id": "7xhr-zYVxnzL"
   },
   "source": [
    "\n",
    "\n",
    "*   17499 People didn't get promoted\n",
    "*   5991 People got promoted\n",
    "\n",
    "This info is purely based upon the model I selected.\n",
    "\n"
   ]
  },
  {
   "cell_type": "code",
   "execution_count": 456,
   "metadata": {},
   "outputs": [
    {
     "data": {
      "text/plain": [
       "['region_1',\n",
       " 'region_10',\n",
       " 'region_11',\n",
       " 'region_12',\n",
       " 'region_13',\n",
       " 'region_14',\n",
       " 'region_15',\n",
       " 'region_16',\n",
       " 'region_17',\n",
       " 'region_18',\n",
       " 'region_19',\n",
       " 'region_2',\n",
       " 'region_20',\n",
       " 'region_21',\n",
       " 'region_22',\n",
       " 'region_23',\n",
       " 'region_24',\n",
       " 'region_25',\n",
       " 'region_26',\n",
       " 'region_27',\n",
       " 'region_28',\n",
       " 'region_29',\n",
       " 'region_3',\n",
       " 'region_30',\n",
       " 'region_31',\n",
       " 'region_32',\n",
       " 'region_33',\n",
       " 'region_34',\n",
       " 'region_4',\n",
       " 'region_5',\n",
       " 'region_6',\n",
       " 'region_7',\n",
       " 'region_8',\n",
       " 'region_9']"
      ]
     },
     "execution_count": 456,
     "metadata": {},
     "output_type": "execute_result"
    }
   ],
   "source": [
    "sorted(region_dic)"
   ]
  },
  {
   "cell_type": "markdown",
   "metadata": {
    "id": "BiKWzrgiyCcs"
   },
   "source": [
    "\n",
    "\n",
    "---\n",
    "\n",
    "\n",
    "\n",
    "---\n",
    "\n"
   ]
  }
 ],
 "metadata": {
  "colab": {
   "collapsed_sections": [
    "cnvOzTKyicMQ",
    "5Is5wK-dicMU",
    "mehygIN7icMW",
    "Wpw7kKQjicMX",
    "pwMn1U73icMe",
    "7weGEjZiicMf",
    "22zkmbSFicMg",
    "QgFY3dL9icMo",
    "vB00jeRficMw",
    "Wh9UhTUiicMx",
    "sWIs11FX_POj",
    "8yf78fa7_bbm",
    "a3Y698noECmO",
    "CS-M8WLkDp9a",
    "O6ek8qAgXgwb",
    "OhwtEKA3XtZQ",
    "EztQkc8ZKoUo",
    "pFFcyfpBQz9A",
    "qV4K6-SLT5F0",
    "_I1538MhquLs",
    "Y7iAGEfBjegk",
    "Tw9QnVF9jaZh",
    "J9TDIzWJbN2B",
    "eqo9dk7TwmFf",
    "8bwmDE0S3H28",
    "IAEmmrCH5z9N",
    "_nIuKivnpwts",
    "h8v3EL0KkbAp",
    "SzoXma8G2C9p",
    "V9PBorUKmIiL",
    "WfpbMYENrSa5",
    "z4taG-GJzuHt",
    "eBxKGjLc2680",
    "tVh1rg9X6sRu",
    "VJPTO9bC6v79",
    "OqL5VtVK3Jax",
    "wK8zSuLS3NDx"
   ],
   "name": "ShubhamRaj_12090_Notebook.ipynb",
   "provenance": []
  },
  "kernelspec": {
   "display_name": "Python 3",
   "language": "python",
   "name": "python3"
  },
  "language_info": {
   "codemirror_mode": {
    "name": "ipython",
    "version": 3
   },
   "file_extension": ".py",
   "mimetype": "text/x-python",
   "name": "python",
   "nbconvert_exporter": "python",
   "pygments_lexer": "ipython3",
   "version": "3.8.8"
  }
 },
 "nbformat": 4,
 "nbformat_minor": 1
}
